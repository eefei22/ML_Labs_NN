{
  "nbformat": 4,
  "nbformat_minor": 0,
  "metadata": {
    "colab": {
      "provenance": []
    },
    "kernelspec": {
      "name": "python3",
      "display_name": "Python 3"
    },
    "language_info": {
      "name": "python"
    }
  },
  "cells": [
    {
      "cell_type": "markdown",
      "source": [
        "#Wine Classification Using Nueral Network\n",
        "This lab work assignment performs a systematic analysis on the performance of neural network models in classifying the type of wine \n",
        "(red wine / white wine). 5 models are designed, of which the best will be further tuned to make the best possible prediction.\n"
      ],
      "metadata": {
        "id": "nxDvWyMA3i_U"
      }
    },
    {
      "cell_type": "code",
      "source": [
        "# import libraries\n",
        "\n",
        "import pandas as pd\n",
        "import tensorflow as tf\n",
        "import pandas as pd\n",
        "\n",
        "from tensorflow import keras\n",
        "from keras import optimizers\n",
        "from sklearn.model_selection import train_test_split\n",
        "from IPython.display import SVG, display\n",
        "\n"
      ],
      "metadata": {
        "id": "twR3hRrg55Vr"
      },
      "execution_count": 13,
      "outputs": []
    },
    {
      "cell_type": "markdown",
      "source": [
        "#Data Preperation\n",
        "In this section, basic data preparation steps have been taken including:\n",
        "* Load\n",
        "* Merge\n",
        "* Split for training and testing"
      ],
      "metadata": {
        "id": "bgUR5EQL4DBj"
      }
    },
    {
      "cell_type": "code",
      "source": [
        "from google.colab import drive\n",
        "drive.mount('/content/drive')"
      ],
      "metadata": {
        "colab": {
          "base_uri": "https://localhost:8080/"
        },
        "id": "E0N90dbFt_fy",
        "outputId": "eac0cebf-e58e-4813-e420-aa5f8f61f4b0"
      },
      "execution_count": 2,
      "outputs": [
        {
          "output_type": "stream",
          "name": "stdout",
          "text": [
            "Mounted at /content/drive\n"
          ]
        }
      ]
    },
    {
      "cell_type": "code",
      "source": [
        "# Load the dataset\n",
        "dataR = pd.read_csv('/content/drive/MyDrive/Colab Notebooks/winequality-red.csv', sep=';')\n",
        "\n",
        "# Add a new column 'WineType'(boolean) - red wine = 1\n",
        "dataR['WineType'] = 1\n",
        "\n",
        "# Display the resulting dataframe\n",
        "dataR\n"
      ],
      "metadata": {
        "colab": {
          "base_uri": "https://localhost:8080/",
          "height": 423
        },
        "id": "0hmwVvkPufPe",
        "outputId": "039f10dd-239b-4b96-c73c-4a1935cb62be"
      },
      "execution_count": 3,
      "outputs": [
        {
          "output_type": "execute_result",
          "data": {
            "text/plain": [
              "      fixed acidity  volatile acidity  citric acid  residual sugar  chlorides  \\\n",
              "0               7.4             0.700         0.00             1.9      0.076   \n",
              "1               7.8             0.880         0.00             2.6      0.098   \n",
              "2               7.8             0.760         0.04             2.3      0.092   \n",
              "3              11.2             0.280         0.56             1.9      0.075   \n",
              "4               7.4             0.700         0.00             1.9      0.076   \n",
              "...             ...               ...          ...             ...        ...   \n",
              "1594            6.2             0.600         0.08             2.0      0.090   \n",
              "1595            5.9             0.550         0.10             2.2      0.062   \n",
              "1596            6.3             0.510         0.13             2.3      0.076   \n",
              "1597            5.9             0.645         0.12             2.0      0.075   \n",
              "1598            6.0             0.310         0.47             3.6      0.067   \n",
              "\n",
              "      free sulfur dioxide  total sulfur dioxide  density    pH  sulphates  \\\n",
              "0                    11.0                  34.0  0.99780  3.51       0.56   \n",
              "1                    25.0                  67.0  0.99680  3.20       0.68   \n",
              "2                    15.0                  54.0  0.99700  3.26       0.65   \n",
              "3                    17.0                  60.0  0.99800  3.16       0.58   \n",
              "4                    11.0                  34.0  0.99780  3.51       0.56   \n",
              "...                   ...                   ...      ...   ...        ...   \n",
              "1594                 32.0                  44.0  0.99490  3.45       0.58   \n",
              "1595                 39.0                  51.0  0.99512  3.52       0.76   \n",
              "1596                 29.0                  40.0  0.99574  3.42       0.75   \n",
              "1597                 32.0                  44.0  0.99547  3.57       0.71   \n",
              "1598                 18.0                  42.0  0.99549  3.39       0.66   \n",
              "\n",
              "      alcohol  quality  WineType  \n",
              "0         9.4        5         1  \n",
              "1         9.8        5         1  \n",
              "2         9.8        5         1  \n",
              "3         9.8        6         1  \n",
              "4         9.4        5         1  \n",
              "...       ...      ...       ...  \n",
              "1594     10.5        5         1  \n",
              "1595     11.2        6         1  \n",
              "1596     11.0        6         1  \n",
              "1597     10.2        5         1  \n",
              "1598     11.0        6         1  \n",
              "\n",
              "[1599 rows x 13 columns]"
            ],
            "text/html": [
              "\n",
              "  <div id=\"df-d526abfd-c4a6-4254-8d4f-3a225750d41b\">\n",
              "    <div class=\"colab-df-container\">\n",
              "      <div>\n",
              "<style scoped>\n",
              "    .dataframe tbody tr th:only-of-type {\n",
              "        vertical-align: middle;\n",
              "    }\n",
              "\n",
              "    .dataframe tbody tr th {\n",
              "        vertical-align: top;\n",
              "    }\n",
              "\n",
              "    .dataframe thead th {\n",
              "        text-align: right;\n",
              "    }\n",
              "</style>\n",
              "<table border=\"1\" class=\"dataframe\">\n",
              "  <thead>\n",
              "    <tr style=\"text-align: right;\">\n",
              "      <th></th>\n",
              "      <th>fixed acidity</th>\n",
              "      <th>volatile acidity</th>\n",
              "      <th>citric acid</th>\n",
              "      <th>residual sugar</th>\n",
              "      <th>chlorides</th>\n",
              "      <th>free sulfur dioxide</th>\n",
              "      <th>total sulfur dioxide</th>\n",
              "      <th>density</th>\n",
              "      <th>pH</th>\n",
              "      <th>sulphates</th>\n",
              "      <th>alcohol</th>\n",
              "      <th>quality</th>\n",
              "      <th>WineType</th>\n",
              "    </tr>\n",
              "  </thead>\n",
              "  <tbody>\n",
              "    <tr>\n",
              "      <th>0</th>\n",
              "      <td>7.4</td>\n",
              "      <td>0.700</td>\n",
              "      <td>0.00</td>\n",
              "      <td>1.9</td>\n",
              "      <td>0.076</td>\n",
              "      <td>11.0</td>\n",
              "      <td>34.0</td>\n",
              "      <td>0.99780</td>\n",
              "      <td>3.51</td>\n",
              "      <td>0.56</td>\n",
              "      <td>9.4</td>\n",
              "      <td>5</td>\n",
              "      <td>1</td>\n",
              "    </tr>\n",
              "    <tr>\n",
              "      <th>1</th>\n",
              "      <td>7.8</td>\n",
              "      <td>0.880</td>\n",
              "      <td>0.00</td>\n",
              "      <td>2.6</td>\n",
              "      <td>0.098</td>\n",
              "      <td>25.0</td>\n",
              "      <td>67.0</td>\n",
              "      <td>0.99680</td>\n",
              "      <td>3.20</td>\n",
              "      <td>0.68</td>\n",
              "      <td>9.8</td>\n",
              "      <td>5</td>\n",
              "      <td>1</td>\n",
              "    </tr>\n",
              "    <tr>\n",
              "      <th>2</th>\n",
              "      <td>7.8</td>\n",
              "      <td>0.760</td>\n",
              "      <td>0.04</td>\n",
              "      <td>2.3</td>\n",
              "      <td>0.092</td>\n",
              "      <td>15.0</td>\n",
              "      <td>54.0</td>\n",
              "      <td>0.99700</td>\n",
              "      <td>3.26</td>\n",
              "      <td>0.65</td>\n",
              "      <td>9.8</td>\n",
              "      <td>5</td>\n",
              "      <td>1</td>\n",
              "    </tr>\n",
              "    <tr>\n",
              "      <th>3</th>\n",
              "      <td>11.2</td>\n",
              "      <td>0.280</td>\n",
              "      <td>0.56</td>\n",
              "      <td>1.9</td>\n",
              "      <td>0.075</td>\n",
              "      <td>17.0</td>\n",
              "      <td>60.0</td>\n",
              "      <td>0.99800</td>\n",
              "      <td>3.16</td>\n",
              "      <td>0.58</td>\n",
              "      <td>9.8</td>\n",
              "      <td>6</td>\n",
              "      <td>1</td>\n",
              "    </tr>\n",
              "    <tr>\n",
              "      <th>4</th>\n",
              "      <td>7.4</td>\n",
              "      <td>0.700</td>\n",
              "      <td>0.00</td>\n",
              "      <td>1.9</td>\n",
              "      <td>0.076</td>\n",
              "      <td>11.0</td>\n",
              "      <td>34.0</td>\n",
              "      <td>0.99780</td>\n",
              "      <td>3.51</td>\n",
              "      <td>0.56</td>\n",
              "      <td>9.4</td>\n",
              "      <td>5</td>\n",
              "      <td>1</td>\n",
              "    </tr>\n",
              "    <tr>\n",
              "      <th>...</th>\n",
              "      <td>...</td>\n",
              "      <td>...</td>\n",
              "      <td>...</td>\n",
              "      <td>...</td>\n",
              "      <td>...</td>\n",
              "      <td>...</td>\n",
              "      <td>...</td>\n",
              "      <td>...</td>\n",
              "      <td>...</td>\n",
              "      <td>...</td>\n",
              "      <td>...</td>\n",
              "      <td>...</td>\n",
              "      <td>...</td>\n",
              "    </tr>\n",
              "    <tr>\n",
              "      <th>1594</th>\n",
              "      <td>6.2</td>\n",
              "      <td>0.600</td>\n",
              "      <td>0.08</td>\n",
              "      <td>2.0</td>\n",
              "      <td>0.090</td>\n",
              "      <td>32.0</td>\n",
              "      <td>44.0</td>\n",
              "      <td>0.99490</td>\n",
              "      <td>3.45</td>\n",
              "      <td>0.58</td>\n",
              "      <td>10.5</td>\n",
              "      <td>5</td>\n",
              "      <td>1</td>\n",
              "    </tr>\n",
              "    <tr>\n",
              "      <th>1595</th>\n",
              "      <td>5.9</td>\n",
              "      <td>0.550</td>\n",
              "      <td>0.10</td>\n",
              "      <td>2.2</td>\n",
              "      <td>0.062</td>\n",
              "      <td>39.0</td>\n",
              "      <td>51.0</td>\n",
              "      <td>0.99512</td>\n",
              "      <td>3.52</td>\n",
              "      <td>0.76</td>\n",
              "      <td>11.2</td>\n",
              "      <td>6</td>\n",
              "      <td>1</td>\n",
              "    </tr>\n",
              "    <tr>\n",
              "      <th>1596</th>\n",
              "      <td>6.3</td>\n",
              "      <td>0.510</td>\n",
              "      <td>0.13</td>\n",
              "      <td>2.3</td>\n",
              "      <td>0.076</td>\n",
              "      <td>29.0</td>\n",
              "      <td>40.0</td>\n",
              "      <td>0.99574</td>\n",
              "      <td>3.42</td>\n",
              "      <td>0.75</td>\n",
              "      <td>11.0</td>\n",
              "      <td>6</td>\n",
              "      <td>1</td>\n",
              "    </tr>\n",
              "    <tr>\n",
              "      <th>1597</th>\n",
              "      <td>5.9</td>\n",
              "      <td>0.645</td>\n",
              "      <td>0.12</td>\n",
              "      <td>2.0</td>\n",
              "      <td>0.075</td>\n",
              "      <td>32.0</td>\n",
              "      <td>44.0</td>\n",
              "      <td>0.99547</td>\n",
              "      <td>3.57</td>\n",
              "      <td>0.71</td>\n",
              "      <td>10.2</td>\n",
              "      <td>5</td>\n",
              "      <td>1</td>\n",
              "    </tr>\n",
              "    <tr>\n",
              "      <th>1598</th>\n",
              "      <td>6.0</td>\n",
              "      <td>0.310</td>\n",
              "      <td>0.47</td>\n",
              "      <td>3.6</td>\n",
              "      <td>0.067</td>\n",
              "      <td>18.0</td>\n",
              "      <td>42.0</td>\n",
              "      <td>0.99549</td>\n",
              "      <td>3.39</td>\n",
              "      <td>0.66</td>\n",
              "      <td>11.0</td>\n",
              "      <td>6</td>\n",
              "      <td>1</td>\n",
              "    </tr>\n",
              "  </tbody>\n",
              "</table>\n",
              "<p>1599 rows × 13 columns</p>\n",
              "</div>\n",
              "      <button class=\"colab-df-convert\" onclick=\"convertToInteractive('df-d526abfd-c4a6-4254-8d4f-3a225750d41b')\"\n",
              "              title=\"Convert this dataframe to an interactive table.\"\n",
              "              style=\"display:none;\">\n",
              "        \n",
              "  <svg xmlns=\"http://www.w3.org/2000/svg\" height=\"24px\"viewBox=\"0 0 24 24\"\n",
              "       width=\"24px\">\n",
              "    <path d=\"M0 0h24v24H0V0z\" fill=\"none\"/>\n",
              "    <path d=\"M18.56 5.44l.94 2.06.94-2.06 2.06-.94-2.06-.94-.94-2.06-.94 2.06-2.06.94zm-11 1L8.5 8.5l.94-2.06 2.06-.94-2.06-.94L8.5 2.5l-.94 2.06-2.06.94zm10 10l.94 2.06.94-2.06 2.06-.94-2.06-.94-.94-2.06-.94 2.06-2.06.94z\"/><path d=\"M17.41 7.96l-1.37-1.37c-.4-.4-.92-.59-1.43-.59-.52 0-1.04.2-1.43.59L10.3 9.45l-7.72 7.72c-.78.78-.78 2.05 0 2.83L4 21.41c.39.39.9.59 1.41.59.51 0 1.02-.2 1.41-.59l7.78-7.78 2.81-2.81c.8-.78.8-2.07 0-2.86zM5.41 20L4 18.59l7.72-7.72 1.47 1.35L5.41 20z\"/>\n",
              "  </svg>\n",
              "      </button>\n",
              "      \n",
              "  <style>\n",
              "    .colab-df-container {\n",
              "      display:flex;\n",
              "      flex-wrap:wrap;\n",
              "      gap: 12px;\n",
              "    }\n",
              "\n",
              "    .colab-df-convert {\n",
              "      background-color: #E8F0FE;\n",
              "      border: none;\n",
              "      border-radius: 50%;\n",
              "      cursor: pointer;\n",
              "      display: none;\n",
              "      fill: #1967D2;\n",
              "      height: 32px;\n",
              "      padding: 0 0 0 0;\n",
              "      width: 32px;\n",
              "    }\n",
              "\n",
              "    .colab-df-convert:hover {\n",
              "      background-color: #E2EBFA;\n",
              "      box-shadow: 0px 1px 2px rgba(60, 64, 67, 0.3), 0px 1px 3px 1px rgba(60, 64, 67, 0.15);\n",
              "      fill: #174EA6;\n",
              "    }\n",
              "\n",
              "    [theme=dark] .colab-df-convert {\n",
              "      background-color: #3B4455;\n",
              "      fill: #D2E3FC;\n",
              "    }\n",
              "\n",
              "    [theme=dark] .colab-df-convert:hover {\n",
              "      background-color: #434B5C;\n",
              "      box-shadow: 0px 1px 3px 1px rgba(0, 0, 0, 0.15);\n",
              "      filter: drop-shadow(0px 1px 2px rgba(0, 0, 0, 0.3));\n",
              "      fill: #FFFFFF;\n",
              "    }\n",
              "  </style>\n",
              "\n",
              "      <script>\n",
              "        const buttonEl =\n",
              "          document.querySelector('#df-d526abfd-c4a6-4254-8d4f-3a225750d41b button.colab-df-convert');\n",
              "        buttonEl.style.display =\n",
              "          google.colab.kernel.accessAllowed ? 'block' : 'none';\n",
              "\n",
              "        async function convertToInteractive(key) {\n",
              "          const element = document.querySelector('#df-d526abfd-c4a6-4254-8d4f-3a225750d41b');\n",
              "          const dataTable =\n",
              "            await google.colab.kernel.invokeFunction('convertToInteractive',\n",
              "                                                     [key], {});\n",
              "          if (!dataTable) return;\n",
              "\n",
              "          const docLinkHtml = 'Like what you see? Visit the ' +\n",
              "            '<a target=\"_blank\" href=https://colab.research.google.com/notebooks/data_table.ipynb>data table notebook</a>'\n",
              "            + ' to learn more about interactive tables.';\n",
              "          element.innerHTML = '';\n",
              "          dataTable['output_type'] = 'display_data';\n",
              "          await google.colab.output.renderOutput(dataTable, element);\n",
              "          const docLink = document.createElement('div');\n",
              "          docLink.innerHTML = docLinkHtml;\n",
              "          element.appendChild(docLink);\n",
              "        }\n",
              "      </script>\n",
              "    </div>\n",
              "  </div>\n",
              "  "
            ]
          },
          "metadata": {},
          "execution_count": 3
        }
      ]
    },
    {
      "cell_type": "code",
      "source": [
        "# Load the dataset\n",
        "dataW = pd.read_csv('/content/drive/MyDrive/Colab Notebooks/winequality-white.csv', sep=';')\n",
        "\n",
        "# Add a new column 'WineType'(boolean) - white wine = 0\n",
        "dataW ['WineType'] = 0\n",
        "\n",
        "# Display the resulting dataframe\n",
        "dataW"
      ],
      "metadata": {
        "colab": {
          "base_uri": "https://localhost:8080/",
          "height": 423
        },
        "id": "swZmgorXySfF",
        "outputId": "f9504179-e88f-4c7e-cd55-1aa2f6baebd2"
      },
      "execution_count": 4,
      "outputs": [
        {
          "output_type": "execute_result",
          "data": {
            "text/plain": [
              "      fixed acidity  volatile acidity  citric acid  residual sugar  chlorides  \\\n",
              "0               7.0              0.27         0.36            20.7      0.045   \n",
              "1               6.3              0.30         0.34             1.6      0.049   \n",
              "2               8.1              0.28         0.40             6.9      0.050   \n",
              "3               7.2              0.23         0.32             8.5      0.058   \n",
              "4               7.2              0.23         0.32             8.5      0.058   \n",
              "...             ...               ...          ...             ...        ...   \n",
              "4893            6.2              0.21         0.29             1.6      0.039   \n",
              "4894            6.6              0.32         0.36             8.0      0.047   \n",
              "4895            6.5              0.24         0.19             1.2      0.041   \n",
              "4896            5.5              0.29         0.30             1.1      0.022   \n",
              "4897            6.0              0.21         0.38             0.8      0.020   \n",
              "\n",
              "      free sulfur dioxide  total sulfur dioxide  density    pH  sulphates  \\\n",
              "0                    45.0                 170.0  1.00100  3.00       0.45   \n",
              "1                    14.0                 132.0  0.99400  3.30       0.49   \n",
              "2                    30.0                  97.0  0.99510  3.26       0.44   \n",
              "3                    47.0                 186.0  0.99560  3.19       0.40   \n",
              "4                    47.0                 186.0  0.99560  3.19       0.40   \n",
              "...                   ...                   ...      ...   ...        ...   \n",
              "4893                 24.0                  92.0  0.99114  3.27       0.50   \n",
              "4894                 57.0                 168.0  0.99490  3.15       0.46   \n",
              "4895                 30.0                 111.0  0.99254  2.99       0.46   \n",
              "4896                 20.0                 110.0  0.98869  3.34       0.38   \n",
              "4897                 22.0                  98.0  0.98941  3.26       0.32   \n",
              "\n",
              "      alcohol  quality  WineType  \n",
              "0         8.8        6         0  \n",
              "1         9.5        6         0  \n",
              "2        10.1        6         0  \n",
              "3         9.9        6         0  \n",
              "4         9.9        6         0  \n",
              "...       ...      ...       ...  \n",
              "4893     11.2        6         0  \n",
              "4894      9.6        5         0  \n",
              "4895      9.4        6         0  \n",
              "4896     12.8        7         0  \n",
              "4897     11.8        6         0  \n",
              "\n",
              "[4898 rows x 13 columns]"
            ],
            "text/html": [
              "\n",
              "  <div id=\"df-3dddd35f-a730-4dc1-a4f4-edaa4a820df5\">\n",
              "    <div class=\"colab-df-container\">\n",
              "      <div>\n",
              "<style scoped>\n",
              "    .dataframe tbody tr th:only-of-type {\n",
              "        vertical-align: middle;\n",
              "    }\n",
              "\n",
              "    .dataframe tbody tr th {\n",
              "        vertical-align: top;\n",
              "    }\n",
              "\n",
              "    .dataframe thead th {\n",
              "        text-align: right;\n",
              "    }\n",
              "</style>\n",
              "<table border=\"1\" class=\"dataframe\">\n",
              "  <thead>\n",
              "    <tr style=\"text-align: right;\">\n",
              "      <th></th>\n",
              "      <th>fixed acidity</th>\n",
              "      <th>volatile acidity</th>\n",
              "      <th>citric acid</th>\n",
              "      <th>residual sugar</th>\n",
              "      <th>chlorides</th>\n",
              "      <th>free sulfur dioxide</th>\n",
              "      <th>total sulfur dioxide</th>\n",
              "      <th>density</th>\n",
              "      <th>pH</th>\n",
              "      <th>sulphates</th>\n",
              "      <th>alcohol</th>\n",
              "      <th>quality</th>\n",
              "      <th>WineType</th>\n",
              "    </tr>\n",
              "  </thead>\n",
              "  <tbody>\n",
              "    <tr>\n",
              "      <th>0</th>\n",
              "      <td>7.0</td>\n",
              "      <td>0.27</td>\n",
              "      <td>0.36</td>\n",
              "      <td>20.7</td>\n",
              "      <td>0.045</td>\n",
              "      <td>45.0</td>\n",
              "      <td>170.0</td>\n",
              "      <td>1.00100</td>\n",
              "      <td>3.00</td>\n",
              "      <td>0.45</td>\n",
              "      <td>8.8</td>\n",
              "      <td>6</td>\n",
              "      <td>0</td>\n",
              "    </tr>\n",
              "    <tr>\n",
              "      <th>1</th>\n",
              "      <td>6.3</td>\n",
              "      <td>0.30</td>\n",
              "      <td>0.34</td>\n",
              "      <td>1.6</td>\n",
              "      <td>0.049</td>\n",
              "      <td>14.0</td>\n",
              "      <td>132.0</td>\n",
              "      <td>0.99400</td>\n",
              "      <td>3.30</td>\n",
              "      <td>0.49</td>\n",
              "      <td>9.5</td>\n",
              "      <td>6</td>\n",
              "      <td>0</td>\n",
              "    </tr>\n",
              "    <tr>\n",
              "      <th>2</th>\n",
              "      <td>8.1</td>\n",
              "      <td>0.28</td>\n",
              "      <td>0.40</td>\n",
              "      <td>6.9</td>\n",
              "      <td>0.050</td>\n",
              "      <td>30.0</td>\n",
              "      <td>97.0</td>\n",
              "      <td>0.99510</td>\n",
              "      <td>3.26</td>\n",
              "      <td>0.44</td>\n",
              "      <td>10.1</td>\n",
              "      <td>6</td>\n",
              "      <td>0</td>\n",
              "    </tr>\n",
              "    <tr>\n",
              "      <th>3</th>\n",
              "      <td>7.2</td>\n",
              "      <td>0.23</td>\n",
              "      <td>0.32</td>\n",
              "      <td>8.5</td>\n",
              "      <td>0.058</td>\n",
              "      <td>47.0</td>\n",
              "      <td>186.0</td>\n",
              "      <td>0.99560</td>\n",
              "      <td>3.19</td>\n",
              "      <td>0.40</td>\n",
              "      <td>9.9</td>\n",
              "      <td>6</td>\n",
              "      <td>0</td>\n",
              "    </tr>\n",
              "    <tr>\n",
              "      <th>4</th>\n",
              "      <td>7.2</td>\n",
              "      <td>0.23</td>\n",
              "      <td>0.32</td>\n",
              "      <td>8.5</td>\n",
              "      <td>0.058</td>\n",
              "      <td>47.0</td>\n",
              "      <td>186.0</td>\n",
              "      <td>0.99560</td>\n",
              "      <td>3.19</td>\n",
              "      <td>0.40</td>\n",
              "      <td>9.9</td>\n",
              "      <td>6</td>\n",
              "      <td>0</td>\n",
              "    </tr>\n",
              "    <tr>\n",
              "      <th>...</th>\n",
              "      <td>...</td>\n",
              "      <td>...</td>\n",
              "      <td>...</td>\n",
              "      <td>...</td>\n",
              "      <td>...</td>\n",
              "      <td>...</td>\n",
              "      <td>...</td>\n",
              "      <td>...</td>\n",
              "      <td>...</td>\n",
              "      <td>...</td>\n",
              "      <td>...</td>\n",
              "      <td>...</td>\n",
              "      <td>...</td>\n",
              "    </tr>\n",
              "    <tr>\n",
              "      <th>4893</th>\n",
              "      <td>6.2</td>\n",
              "      <td>0.21</td>\n",
              "      <td>0.29</td>\n",
              "      <td>1.6</td>\n",
              "      <td>0.039</td>\n",
              "      <td>24.0</td>\n",
              "      <td>92.0</td>\n",
              "      <td>0.99114</td>\n",
              "      <td>3.27</td>\n",
              "      <td>0.50</td>\n",
              "      <td>11.2</td>\n",
              "      <td>6</td>\n",
              "      <td>0</td>\n",
              "    </tr>\n",
              "    <tr>\n",
              "      <th>4894</th>\n",
              "      <td>6.6</td>\n",
              "      <td>0.32</td>\n",
              "      <td>0.36</td>\n",
              "      <td>8.0</td>\n",
              "      <td>0.047</td>\n",
              "      <td>57.0</td>\n",
              "      <td>168.0</td>\n",
              "      <td>0.99490</td>\n",
              "      <td>3.15</td>\n",
              "      <td>0.46</td>\n",
              "      <td>9.6</td>\n",
              "      <td>5</td>\n",
              "      <td>0</td>\n",
              "    </tr>\n",
              "    <tr>\n",
              "      <th>4895</th>\n",
              "      <td>6.5</td>\n",
              "      <td>0.24</td>\n",
              "      <td>0.19</td>\n",
              "      <td>1.2</td>\n",
              "      <td>0.041</td>\n",
              "      <td>30.0</td>\n",
              "      <td>111.0</td>\n",
              "      <td>0.99254</td>\n",
              "      <td>2.99</td>\n",
              "      <td>0.46</td>\n",
              "      <td>9.4</td>\n",
              "      <td>6</td>\n",
              "      <td>0</td>\n",
              "    </tr>\n",
              "    <tr>\n",
              "      <th>4896</th>\n",
              "      <td>5.5</td>\n",
              "      <td>0.29</td>\n",
              "      <td>0.30</td>\n",
              "      <td>1.1</td>\n",
              "      <td>0.022</td>\n",
              "      <td>20.0</td>\n",
              "      <td>110.0</td>\n",
              "      <td>0.98869</td>\n",
              "      <td>3.34</td>\n",
              "      <td>0.38</td>\n",
              "      <td>12.8</td>\n",
              "      <td>7</td>\n",
              "      <td>0</td>\n",
              "    </tr>\n",
              "    <tr>\n",
              "      <th>4897</th>\n",
              "      <td>6.0</td>\n",
              "      <td>0.21</td>\n",
              "      <td>0.38</td>\n",
              "      <td>0.8</td>\n",
              "      <td>0.020</td>\n",
              "      <td>22.0</td>\n",
              "      <td>98.0</td>\n",
              "      <td>0.98941</td>\n",
              "      <td>3.26</td>\n",
              "      <td>0.32</td>\n",
              "      <td>11.8</td>\n",
              "      <td>6</td>\n",
              "      <td>0</td>\n",
              "    </tr>\n",
              "  </tbody>\n",
              "</table>\n",
              "<p>4898 rows × 13 columns</p>\n",
              "</div>\n",
              "      <button class=\"colab-df-convert\" onclick=\"convertToInteractive('df-3dddd35f-a730-4dc1-a4f4-edaa4a820df5')\"\n",
              "              title=\"Convert this dataframe to an interactive table.\"\n",
              "              style=\"display:none;\">\n",
              "        \n",
              "  <svg xmlns=\"http://www.w3.org/2000/svg\" height=\"24px\"viewBox=\"0 0 24 24\"\n",
              "       width=\"24px\">\n",
              "    <path d=\"M0 0h24v24H0V0z\" fill=\"none\"/>\n",
              "    <path d=\"M18.56 5.44l.94 2.06.94-2.06 2.06-.94-2.06-.94-.94-2.06-.94 2.06-2.06.94zm-11 1L8.5 8.5l.94-2.06 2.06-.94-2.06-.94L8.5 2.5l-.94 2.06-2.06.94zm10 10l.94 2.06.94-2.06 2.06-.94-2.06-.94-.94-2.06-.94 2.06-2.06.94z\"/><path d=\"M17.41 7.96l-1.37-1.37c-.4-.4-.92-.59-1.43-.59-.52 0-1.04.2-1.43.59L10.3 9.45l-7.72 7.72c-.78.78-.78 2.05 0 2.83L4 21.41c.39.39.9.59 1.41.59.51 0 1.02-.2 1.41-.59l7.78-7.78 2.81-2.81c.8-.78.8-2.07 0-2.86zM5.41 20L4 18.59l7.72-7.72 1.47 1.35L5.41 20z\"/>\n",
              "  </svg>\n",
              "      </button>\n",
              "      \n",
              "  <style>\n",
              "    .colab-df-container {\n",
              "      display:flex;\n",
              "      flex-wrap:wrap;\n",
              "      gap: 12px;\n",
              "    }\n",
              "\n",
              "    .colab-df-convert {\n",
              "      background-color: #E8F0FE;\n",
              "      border: none;\n",
              "      border-radius: 50%;\n",
              "      cursor: pointer;\n",
              "      display: none;\n",
              "      fill: #1967D2;\n",
              "      height: 32px;\n",
              "      padding: 0 0 0 0;\n",
              "      width: 32px;\n",
              "    }\n",
              "\n",
              "    .colab-df-convert:hover {\n",
              "      background-color: #E2EBFA;\n",
              "      box-shadow: 0px 1px 2px rgba(60, 64, 67, 0.3), 0px 1px 3px 1px rgba(60, 64, 67, 0.15);\n",
              "      fill: #174EA6;\n",
              "    }\n",
              "\n",
              "    [theme=dark] .colab-df-convert {\n",
              "      background-color: #3B4455;\n",
              "      fill: #D2E3FC;\n",
              "    }\n",
              "\n",
              "    [theme=dark] .colab-df-convert:hover {\n",
              "      background-color: #434B5C;\n",
              "      box-shadow: 0px 1px 3px 1px rgba(0, 0, 0, 0.15);\n",
              "      filter: drop-shadow(0px 1px 2px rgba(0, 0, 0, 0.3));\n",
              "      fill: #FFFFFF;\n",
              "    }\n",
              "  </style>\n",
              "\n",
              "      <script>\n",
              "        const buttonEl =\n",
              "          document.querySelector('#df-3dddd35f-a730-4dc1-a4f4-edaa4a820df5 button.colab-df-convert');\n",
              "        buttonEl.style.display =\n",
              "          google.colab.kernel.accessAllowed ? 'block' : 'none';\n",
              "\n",
              "        async function convertToInteractive(key) {\n",
              "          const element = document.querySelector('#df-3dddd35f-a730-4dc1-a4f4-edaa4a820df5');\n",
              "          const dataTable =\n",
              "            await google.colab.kernel.invokeFunction('convertToInteractive',\n",
              "                                                     [key], {});\n",
              "          if (!dataTable) return;\n",
              "\n",
              "          const docLinkHtml = 'Like what you see? Visit the ' +\n",
              "            '<a target=\"_blank\" href=https://colab.research.google.com/notebooks/data_table.ipynb>data table notebook</a>'\n",
              "            + ' to learn more about interactive tables.';\n",
              "          element.innerHTML = '';\n",
              "          dataTable['output_type'] = 'display_data';\n",
              "          await google.colab.output.renderOutput(dataTable, element);\n",
              "          const docLink = document.createElement('div');\n",
              "          docLink.innerHTML = docLinkHtml;\n",
              "          element.appendChild(docLink);\n",
              "        }\n",
              "      </script>\n",
              "    </div>\n",
              "  </div>\n",
              "  "
            ]
          },
          "metadata": {},
          "execution_count": 4
        }
      ]
    },
    {
      "cell_type": "code",
      "source": [
        "#Mege the two data sets\n",
        "data = pd.merge(dataW, dataR, how='outer')\n",
        "\n",
        "data"
      ],
      "metadata": {
        "colab": {
          "base_uri": "https://localhost:8080/",
          "height": 423
        },
        "id": "sY_PdVgd2fvy",
        "outputId": "6c330768-35c2-4473-9c79-ec2a1b451d03"
      },
      "execution_count": 5,
      "outputs": [
        {
          "output_type": "execute_result",
          "data": {
            "text/plain": [
              "      fixed acidity  volatile acidity  citric acid  residual sugar  chlorides  \\\n",
              "0               7.0             0.270         0.36            20.7      0.045   \n",
              "1               7.0             0.270         0.36            20.7      0.045   \n",
              "2               6.3             0.300         0.34             1.6      0.049   \n",
              "3               6.3             0.300         0.34             1.6      0.049   \n",
              "4               8.1             0.280         0.40             6.9      0.050   \n",
              "...             ...               ...          ...             ...        ...   \n",
              "6492            6.8             0.620         0.08             1.9      0.068   \n",
              "6493            6.2             0.600         0.08             2.0      0.090   \n",
              "6494            5.9             0.550         0.10             2.2      0.062   \n",
              "6495            5.9             0.645         0.12             2.0      0.075   \n",
              "6496            6.0             0.310         0.47             3.6      0.067   \n",
              "\n",
              "      free sulfur dioxide  total sulfur dioxide  density    pH  sulphates  \\\n",
              "0                    45.0                 170.0  1.00100  3.00       0.45   \n",
              "1                    45.0                 170.0  1.00100  3.00       0.45   \n",
              "2                    14.0                 132.0  0.99400  3.30       0.49   \n",
              "3                    14.0                 132.0  0.99400  3.30       0.49   \n",
              "4                    30.0                  97.0  0.99510  3.26       0.44   \n",
              "...                   ...                   ...      ...   ...        ...   \n",
              "6492                 28.0                  38.0  0.99651  3.42       0.82   \n",
              "6493                 32.0                  44.0  0.99490  3.45       0.58   \n",
              "6494                 39.0                  51.0  0.99512  3.52       0.76   \n",
              "6495                 32.0                  44.0  0.99547  3.57       0.71   \n",
              "6496                 18.0                  42.0  0.99549  3.39       0.66   \n",
              "\n",
              "      alcohol  quality  WineType  \n",
              "0         8.8        6         0  \n",
              "1         8.8        6         0  \n",
              "2         9.5        6         0  \n",
              "3         9.5        6         0  \n",
              "4        10.1        6         0  \n",
              "...       ...      ...       ...  \n",
              "6492      9.5        6         1  \n",
              "6493     10.5        5         1  \n",
              "6494     11.2        6         1  \n",
              "6495     10.2        5         1  \n",
              "6496     11.0        6         1  \n",
              "\n",
              "[6497 rows x 13 columns]"
            ],
            "text/html": [
              "\n",
              "  <div id=\"df-61cce03d-539f-468d-939a-1d4dc1511adc\">\n",
              "    <div class=\"colab-df-container\">\n",
              "      <div>\n",
              "<style scoped>\n",
              "    .dataframe tbody tr th:only-of-type {\n",
              "        vertical-align: middle;\n",
              "    }\n",
              "\n",
              "    .dataframe tbody tr th {\n",
              "        vertical-align: top;\n",
              "    }\n",
              "\n",
              "    .dataframe thead th {\n",
              "        text-align: right;\n",
              "    }\n",
              "</style>\n",
              "<table border=\"1\" class=\"dataframe\">\n",
              "  <thead>\n",
              "    <tr style=\"text-align: right;\">\n",
              "      <th></th>\n",
              "      <th>fixed acidity</th>\n",
              "      <th>volatile acidity</th>\n",
              "      <th>citric acid</th>\n",
              "      <th>residual sugar</th>\n",
              "      <th>chlorides</th>\n",
              "      <th>free sulfur dioxide</th>\n",
              "      <th>total sulfur dioxide</th>\n",
              "      <th>density</th>\n",
              "      <th>pH</th>\n",
              "      <th>sulphates</th>\n",
              "      <th>alcohol</th>\n",
              "      <th>quality</th>\n",
              "      <th>WineType</th>\n",
              "    </tr>\n",
              "  </thead>\n",
              "  <tbody>\n",
              "    <tr>\n",
              "      <th>0</th>\n",
              "      <td>7.0</td>\n",
              "      <td>0.270</td>\n",
              "      <td>0.36</td>\n",
              "      <td>20.7</td>\n",
              "      <td>0.045</td>\n",
              "      <td>45.0</td>\n",
              "      <td>170.0</td>\n",
              "      <td>1.00100</td>\n",
              "      <td>3.00</td>\n",
              "      <td>0.45</td>\n",
              "      <td>8.8</td>\n",
              "      <td>6</td>\n",
              "      <td>0</td>\n",
              "    </tr>\n",
              "    <tr>\n",
              "      <th>1</th>\n",
              "      <td>7.0</td>\n",
              "      <td>0.270</td>\n",
              "      <td>0.36</td>\n",
              "      <td>20.7</td>\n",
              "      <td>0.045</td>\n",
              "      <td>45.0</td>\n",
              "      <td>170.0</td>\n",
              "      <td>1.00100</td>\n",
              "      <td>3.00</td>\n",
              "      <td>0.45</td>\n",
              "      <td>8.8</td>\n",
              "      <td>6</td>\n",
              "      <td>0</td>\n",
              "    </tr>\n",
              "    <tr>\n",
              "      <th>2</th>\n",
              "      <td>6.3</td>\n",
              "      <td>0.300</td>\n",
              "      <td>0.34</td>\n",
              "      <td>1.6</td>\n",
              "      <td>0.049</td>\n",
              "      <td>14.0</td>\n",
              "      <td>132.0</td>\n",
              "      <td>0.99400</td>\n",
              "      <td>3.30</td>\n",
              "      <td>0.49</td>\n",
              "      <td>9.5</td>\n",
              "      <td>6</td>\n",
              "      <td>0</td>\n",
              "    </tr>\n",
              "    <tr>\n",
              "      <th>3</th>\n",
              "      <td>6.3</td>\n",
              "      <td>0.300</td>\n",
              "      <td>0.34</td>\n",
              "      <td>1.6</td>\n",
              "      <td>0.049</td>\n",
              "      <td>14.0</td>\n",
              "      <td>132.0</td>\n",
              "      <td>0.99400</td>\n",
              "      <td>3.30</td>\n",
              "      <td>0.49</td>\n",
              "      <td>9.5</td>\n",
              "      <td>6</td>\n",
              "      <td>0</td>\n",
              "    </tr>\n",
              "    <tr>\n",
              "      <th>4</th>\n",
              "      <td>8.1</td>\n",
              "      <td>0.280</td>\n",
              "      <td>0.40</td>\n",
              "      <td>6.9</td>\n",
              "      <td>0.050</td>\n",
              "      <td>30.0</td>\n",
              "      <td>97.0</td>\n",
              "      <td>0.99510</td>\n",
              "      <td>3.26</td>\n",
              "      <td>0.44</td>\n",
              "      <td>10.1</td>\n",
              "      <td>6</td>\n",
              "      <td>0</td>\n",
              "    </tr>\n",
              "    <tr>\n",
              "      <th>...</th>\n",
              "      <td>...</td>\n",
              "      <td>...</td>\n",
              "      <td>...</td>\n",
              "      <td>...</td>\n",
              "      <td>...</td>\n",
              "      <td>...</td>\n",
              "      <td>...</td>\n",
              "      <td>...</td>\n",
              "      <td>...</td>\n",
              "      <td>...</td>\n",
              "      <td>...</td>\n",
              "      <td>...</td>\n",
              "      <td>...</td>\n",
              "    </tr>\n",
              "    <tr>\n",
              "      <th>6492</th>\n",
              "      <td>6.8</td>\n",
              "      <td>0.620</td>\n",
              "      <td>0.08</td>\n",
              "      <td>1.9</td>\n",
              "      <td>0.068</td>\n",
              "      <td>28.0</td>\n",
              "      <td>38.0</td>\n",
              "      <td>0.99651</td>\n",
              "      <td>3.42</td>\n",
              "      <td>0.82</td>\n",
              "      <td>9.5</td>\n",
              "      <td>6</td>\n",
              "      <td>1</td>\n",
              "    </tr>\n",
              "    <tr>\n",
              "      <th>6493</th>\n",
              "      <td>6.2</td>\n",
              "      <td>0.600</td>\n",
              "      <td>0.08</td>\n",
              "      <td>2.0</td>\n",
              "      <td>0.090</td>\n",
              "      <td>32.0</td>\n",
              "      <td>44.0</td>\n",
              "      <td>0.99490</td>\n",
              "      <td>3.45</td>\n",
              "      <td>0.58</td>\n",
              "      <td>10.5</td>\n",
              "      <td>5</td>\n",
              "      <td>1</td>\n",
              "    </tr>\n",
              "    <tr>\n",
              "      <th>6494</th>\n",
              "      <td>5.9</td>\n",
              "      <td>0.550</td>\n",
              "      <td>0.10</td>\n",
              "      <td>2.2</td>\n",
              "      <td>0.062</td>\n",
              "      <td>39.0</td>\n",
              "      <td>51.0</td>\n",
              "      <td>0.99512</td>\n",
              "      <td>3.52</td>\n",
              "      <td>0.76</td>\n",
              "      <td>11.2</td>\n",
              "      <td>6</td>\n",
              "      <td>1</td>\n",
              "    </tr>\n",
              "    <tr>\n",
              "      <th>6495</th>\n",
              "      <td>5.9</td>\n",
              "      <td>0.645</td>\n",
              "      <td>0.12</td>\n",
              "      <td>2.0</td>\n",
              "      <td>0.075</td>\n",
              "      <td>32.0</td>\n",
              "      <td>44.0</td>\n",
              "      <td>0.99547</td>\n",
              "      <td>3.57</td>\n",
              "      <td>0.71</td>\n",
              "      <td>10.2</td>\n",
              "      <td>5</td>\n",
              "      <td>1</td>\n",
              "    </tr>\n",
              "    <tr>\n",
              "      <th>6496</th>\n",
              "      <td>6.0</td>\n",
              "      <td>0.310</td>\n",
              "      <td>0.47</td>\n",
              "      <td>3.6</td>\n",
              "      <td>0.067</td>\n",
              "      <td>18.0</td>\n",
              "      <td>42.0</td>\n",
              "      <td>0.99549</td>\n",
              "      <td>3.39</td>\n",
              "      <td>0.66</td>\n",
              "      <td>11.0</td>\n",
              "      <td>6</td>\n",
              "      <td>1</td>\n",
              "    </tr>\n",
              "  </tbody>\n",
              "</table>\n",
              "<p>6497 rows × 13 columns</p>\n",
              "</div>\n",
              "      <button class=\"colab-df-convert\" onclick=\"convertToInteractive('df-61cce03d-539f-468d-939a-1d4dc1511adc')\"\n",
              "              title=\"Convert this dataframe to an interactive table.\"\n",
              "              style=\"display:none;\">\n",
              "        \n",
              "  <svg xmlns=\"http://www.w3.org/2000/svg\" height=\"24px\"viewBox=\"0 0 24 24\"\n",
              "       width=\"24px\">\n",
              "    <path d=\"M0 0h24v24H0V0z\" fill=\"none\"/>\n",
              "    <path d=\"M18.56 5.44l.94 2.06.94-2.06 2.06-.94-2.06-.94-.94-2.06-.94 2.06-2.06.94zm-11 1L8.5 8.5l.94-2.06 2.06-.94-2.06-.94L8.5 2.5l-.94 2.06-2.06.94zm10 10l.94 2.06.94-2.06 2.06-.94-2.06-.94-.94-2.06-.94 2.06-2.06.94z\"/><path d=\"M17.41 7.96l-1.37-1.37c-.4-.4-.92-.59-1.43-.59-.52 0-1.04.2-1.43.59L10.3 9.45l-7.72 7.72c-.78.78-.78 2.05 0 2.83L4 21.41c.39.39.9.59 1.41.59.51 0 1.02-.2 1.41-.59l7.78-7.78 2.81-2.81c.8-.78.8-2.07 0-2.86zM5.41 20L4 18.59l7.72-7.72 1.47 1.35L5.41 20z\"/>\n",
              "  </svg>\n",
              "      </button>\n",
              "      \n",
              "  <style>\n",
              "    .colab-df-container {\n",
              "      display:flex;\n",
              "      flex-wrap:wrap;\n",
              "      gap: 12px;\n",
              "    }\n",
              "\n",
              "    .colab-df-convert {\n",
              "      background-color: #E8F0FE;\n",
              "      border: none;\n",
              "      border-radius: 50%;\n",
              "      cursor: pointer;\n",
              "      display: none;\n",
              "      fill: #1967D2;\n",
              "      height: 32px;\n",
              "      padding: 0 0 0 0;\n",
              "      width: 32px;\n",
              "    }\n",
              "\n",
              "    .colab-df-convert:hover {\n",
              "      background-color: #E2EBFA;\n",
              "      box-shadow: 0px 1px 2px rgba(60, 64, 67, 0.3), 0px 1px 3px 1px rgba(60, 64, 67, 0.15);\n",
              "      fill: #174EA6;\n",
              "    }\n",
              "\n",
              "    [theme=dark] .colab-df-convert {\n",
              "      background-color: #3B4455;\n",
              "      fill: #D2E3FC;\n",
              "    }\n",
              "\n",
              "    [theme=dark] .colab-df-convert:hover {\n",
              "      background-color: #434B5C;\n",
              "      box-shadow: 0px 1px 3px 1px rgba(0, 0, 0, 0.15);\n",
              "      filter: drop-shadow(0px 1px 2px rgba(0, 0, 0, 0.3));\n",
              "      fill: #FFFFFF;\n",
              "    }\n",
              "  </style>\n",
              "\n",
              "      <script>\n",
              "        const buttonEl =\n",
              "          document.querySelector('#df-61cce03d-539f-468d-939a-1d4dc1511adc button.colab-df-convert');\n",
              "        buttonEl.style.display =\n",
              "          google.colab.kernel.accessAllowed ? 'block' : 'none';\n",
              "\n",
              "        async function convertToInteractive(key) {\n",
              "          const element = document.querySelector('#df-61cce03d-539f-468d-939a-1d4dc1511adc');\n",
              "          const dataTable =\n",
              "            await google.colab.kernel.invokeFunction('convertToInteractive',\n",
              "                                                     [key], {});\n",
              "          if (!dataTable) return;\n",
              "\n",
              "          const docLinkHtml = 'Like what you see? Visit the ' +\n",
              "            '<a target=\"_blank\" href=https://colab.research.google.com/notebooks/data_table.ipynb>data table notebook</a>'\n",
              "            + ' to learn more about interactive tables.';\n",
              "          element.innerHTML = '';\n",
              "          dataTable['output_type'] = 'display_data';\n",
              "          await google.colab.output.renderOutput(dataTable, element);\n",
              "          const docLink = document.createElement('div');\n",
              "          docLink.innerHTML = docLinkHtml;\n",
              "          element.appendChild(docLink);\n",
              "        }\n",
              "      </script>\n",
              "    </div>\n",
              "  </div>\n",
              "  "
            ]
          },
          "metadata": {},
          "execution_count": 5
        }
      ]
    },
    {
      "cell_type": "code",
      "source": [
        "# Assign WineType as the target \n",
        "y = data['WineType']\n",
        "x = data.drop(columns = ['WineType'])\n",
        "\n",
        "# Splitting the data into train and test sets\n",
        "#Stratify since red and white data are imbalanced\n",
        "x_train, x_test, y_train, y_test = train_test_split(x, y, test_size=0.3, stratify=y, random_state=42)\n"
      ],
      "metadata": {
        "id": "XKmUjIQl5Ofi"
      },
      "execution_count": 6,
      "outputs": []
    },
    {
      "cell_type": "markdown",
      "source": [
        "#Model Building 1 (simple neural network)\n",
        "The first model is a simple neural network that contains 2 layers. The purpose of this is to set a base reference for experimenting with other neural network architectures. The architecture of the model is such that: \n",
        "\n",
        "* Fully connected neural network (Dense)\n",
        "* First layer   - 2 neurons -AF: RELU\n",
        "* Second layer  - 1 neuron  -AF: Sigmoid\n",
        "\n"
      ],
      "metadata": {
        "id": "kGamQbA5KEL3"
      }
    },
    {
      "cell_type": "code",
      "source": [
        "# Define the model:\n",
        "from keras.models import Sequential\n",
        "from keras.layers import Dense\n",
        "model_1 = Sequential()\n",
        "model_1.add(Dense(2, input_dim=12, activation='relu'))\n",
        "model_1.add(Dense(1, activation='sigmoid'))\n",
        "print(model_1.summary())"
      ],
      "metadata": {
        "colab": {
          "base_uri": "https://localhost:8080/"
        },
        "id": "ORg7xVFzFfjG",
        "outputId": "154e59bd-24f5-442e-b28b-4b6e15287508"
      },
      "execution_count": 8,
      "outputs": [
        {
          "output_type": "stream",
          "name": "stdout",
          "text": [
            "Model: \"sequential\"\n",
            "_________________________________________________________________\n",
            " Layer (type)                Output Shape              Param #   \n",
            "=================================================================\n",
            " dense (Dense)               (None, 2)                 26        \n",
            "                                                                 \n",
            " dense_1 (Dense)             (None, 1)                 3         \n",
            "                                                                 \n",
            "=================================================================\n",
            "Total params: 29\n",
            "Trainable params: 29\n",
            "Non-trainable params: 0\n",
            "_________________________________________________________________\n",
            "None\n"
          ]
        }
      ]
    },
    {
      "cell_type": "code",
      "source": [
        "#Compile the model\n",
        "model_1.compile(loss='binary_crossentropy', optimizer='adam', metrics=['accuracy'])\n",
        "\n",
        "#Fit training data to the model\n",
        "model_1.fit(x_train, y_train, epochs=10, batch_size=32, validation_data=(x_test, y_test))\n"
      ],
      "metadata": {
        "colab": {
          "base_uri": "https://localhost:8080/"
        },
        "id": "IazlqdBRMZ67",
        "outputId": "b568f91d-fae5-42b4-e42c-0bb40dad51cb"
      },
      "execution_count": 9,
      "outputs": [
        {
          "output_type": "stream",
          "name": "stdout",
          "text": [
            "Epoch 1/10\n",
            "143/143 [==============================] - 2s 4ms/step - loss: 23.9810 - accuracy: 0.2428 - val_loss: 15.6355 - val_accuracy: 0.2226\n",
            "Epoch 2/10\n",
            "143/143 [==============================] - 0s 3ms/step - loss: 10.4675 - accuracy: 0.1748 - val_loss: 6.2220 - val_accuracy: 0.1241\n",
            "Epoch 3/10\n",
            "143/143 [==============================] - 0s 2ms/step - loss: 3.5770 - accuracy: 0.1190 - val_loss: 1.6008 - val_accuracy: 0.2179\n",
            "Epoch 4/10\n",
            "143/143 [==============================] - 0s 2ms/step - loss: 0.9652 - accuracy: 0.4715 - val_loss: 0.6771 - val_accuracy: 0.6513\n",
            "Epoch 5/10\n",
            "143/143 [==============================] - 0s 3ms/step - loss: 0.6357 - accuracy: 0.7165 - val_loss: 0.6022 - val_accuracy: 0.7441\n",
            "Epoch 6/10\n",
            "143/143 [==============================] - 0s 3ms/step - loss: 0.5984 - accuracy: 0.7651 - val_loss: 0.5809 - val_accuracy: 0.7754\n",
            "Epoch 7/10\n",
            "143/143 [==============================] - 0s 3ms/step - loss: 0.5802 - accuracy: 0.7803 - val_loss: 0.5653 - val_accuracy: 0.7887\n",
            "Epoch 8/10\n",
            "143/143 [==============================] - 0s 2ms/step - loss: 0.5647 - accuracy: 0.7935 - val_loss: 0.5507 - val_accuracy: 0.7918\n",
            "Epoch 9/10\n",
            "143/143 [==============================] - 0s 3ms/step - loss: 0.5494 - accuracy: 0.8016 - val_loss: 0.5362 - val_accuracy: 0.8026\n",
            "Epoch 10/10\n",
            "143/143 [==============================] - 0s 3ms/step - loss: 0.5333 - accuracy: 0.8104 - val_loss: 0.5205 - val_accuracy: 0.8128\n"
          ]
        },
        {
          "output_type": "execute_result",
          "data": {
            "text/plain": [
              "<keras.callbacks.History at 0x7fe79a33feb0>"
            ]
          },
          "metadata": {},
          "execution_count": 9
        }
      ]
    },
    {
      "cell_type": "code",
      "source": [
        "# Evaluate model on the test data \n",
        "loss, accuracy = model_1.evaluate(x_test, y_test)\n",
        "print(f'Test Loss: {loss:.4f}')\n",
        "print(f'Test Accuracy: {accuracy:.4f}')"
      ],
      "metadata": {
        "colab": {
          "base_uri": "https://localhost:8080/"
        },
        "id": "bp_XMLNmNY3d",
        "outputId": "2fdc8736-7cf0-45f0-efec-676225c05b2a"
      },
      "execution_count": 10,
      "outputs": [
        {
          "output_type": "stream",
          "name": "stdout",
          "text": [
            "61/61 [==============================] - 0s 1ms/step - loss: 0.5205 - accuracy: 0.8128\n",
            "Test Loss: 0.5205\n",
            "Test Accuracy: 0.8128\n"
          ]
        }
      ]
    },
    {
      "cell_type": "code",
      "source": [
        "svg_path = '/content/drive/MyDrive/Colab Notebooks/nn (1).svg'\n",
        "display(SVG(svg_path))\n"
      ],
      "metadata": {
        "colab": {
          "base_uri": "https://localhost:8080/",
          "height": 897
        },
        "id": "bSAgtwHpYZt5",
        "outputId": "e6616895-1371-4a3b-d320-0b1f39d09e7b"
      },
      "execution_count": 19,
      "outputs": [
        {
          "output_type": "display_data",
          "data": {
            "text/plain": [
              "<IPython.core.display.SVG object>"
            ],
            "image/svg+xml": "<svg xmlns=\"http://www.w3.org/2000/svg\" width=\"1707\" height=\"856\" style=\"cursor: move; touch-action: none; -webkit-tap-highlight-color: rgba(0, 0, 0, 0);\"><g><path class=\"link\" marker-end=\"\" d=\"M640.1666666666666,178, 820.1666666666666,438\" style=\"stroke-width: 0.5; stroke-opacity: 1; stroke: rgb(80, 80, 80);\"/><path class=\"link\" marker-end=\"\" d=\"M640.1666666666666,218, 820.1666666666666,438\" style=\"stroke-width: 0.5; stroke-opacity: 1; stroke: rgb(80, 80, 80);\"/><path class=\"link\" marker-end=\"\" d=\"M640.1666666666666,258, 820.1666666666666,438\" style=\"stroke-width: 0.5; stroke-opacity: 1; stroke: rgb(80, 80, 80);\"/><path class=\"link\" marker-end=\"\" d=\"M640.1666666666666,298, 820.1666666666666,438\" style=\"stroke-width: 0.5; stroke-opacity: 1; stroke: rgb(80, 80, 80);\"/><path class=\"link\" marker-end=\"\" d=\"M640.1666666666666,338, 820.1666666666666,438\" style=\"stroke-width: 0.5; stroke-opacity: 1; stroke: rgb(80, 80, 80);\"/><path class=\"link\" marker-end=\"\" d=\"M640.1666666666666,378, 820.1666666666666,438\" style=\"stroke-width: 0.5; stroke-opacity: 1; stroke: rgb(80, 80, 80);\"/><path class=\"link\" marker-end=\"\" d=\"M640.1666666666666,418, 820.1666666666666,438\" style=\"stroke-width: 0.5; stroke-opacity: 1; stroke: rgb(80, 80, 80);\"/><path class=\"link\" marker-end=\"\" d=\"M640.1666666666666,458, 820.1666666666666,438\" style=\"stroke-width: 0.5; stroke-opacity: 1; stroke: rgb(80, 80, 80);\"/><path class=\"link\" marker-end=\"\" d=\"M640.1666666666666,498, 820.1666666666666,438\" style=\"stroke-width: 0.5; stroke-opacity: 1; stroke: rgb(80, 80, 80);\"/><path class=\"link\" marker-end=\"\" d=\"M640.1666666666666,538, 820.1666666666666,438\" style=\"stroke-width: 0.5; stroke-opacity: 1; stroke: rgb(80, 80, 80);\"/><path class=\"link\" marker-end=\"\" d=\"M640.1666666666666,578, 820.1666666666666,438\" style=\"stroke-width: 0.5; stroke-opacity: 1; stroke: rgb(80, 80, 80);\"/><path class=\"link\" marker-end=\"\" d=\"M640.1666666666666,618, 820.1666666666666,438\" style=\"stroke-width: 0.5; stroke-opacity: 1; stroke: rgb(80, 80, 80);\"/><path class=\"link\" marker-end=\"\" d=\"M640.1666666666666,658, 820.1666666666666,438\" style=\"stroke-width: 0.5; stroke-opacity: 1; stroke: rgb(80, 80, 80);\"/><path class=\"link\" marker-end=\"\" d=\"M640.1666666666666,178, 820.1666666666666,398\" style=\"stroke-width: 0.5; stroke-opacity: 1; stroke: rgb(80, 80, 80);\"/><path class=\"link\" marker-end=\"\" d=\"M640.1666666666666,218, 820.1666666666666,398\" style=\"stroke-width: 0.5; stroke-opacity: 1; stroke: rgb(80, 80, 80);\"/><path class=\"link\" marker-end=\"\" d=\"M640.1666666666666,258, 820.1666666666666,398\" style=\"stroke-width: 0.5; stroke-opacity: 1; stroke: rgb(80, 80, 80);\"/><path class=\"link\" marker-end=\"\" d=\"M640.1666666666666,298, 820.1666666666666,398\" style=\"stroke-width: 0.5; stroke-opacity: 1; stroke: rgb(80, 80, 80);\"/><path class=\"link\" marker-end=\"\" d=\"M640.1666666666666,338, 820.1666666666666,398\" style=\"stroke-width: 0.5; stroke-opacity: 1; stroke: rgb(80, 80, 80);\"/><path class=\"link\" marker-end=\"\" d=\"M640.1666666666666,378, 820.1666666666666,398\" style=\"stroke-width: 0.5; stroke-opacity: 1; stroke: rgb(80, 80, 80);\"/><path class=\"link\" marker-end=\"\" d=\"M640.1666666666666,418, 820.1666666666666,398\" style=\"stroke-width: 0.5; stroke-opacity: 1; stroke: rgb(80, 80, 80);\"/><path class=\"link\" marker-end=\"\" d=\"M640.1666666666666,458, 820.1666666666666,398\" style=\"stroke-width: 0.5; stroke-opacity: 1; stroke: rgb(80, 80, 80);\"/><path class=\"link\" marker-end=\"\" d=\"M640.1666666666666,498, 820.1666666666666,398\" style=\"stroke-width: 0.5; stroke-opacity: 1; stroke: rgb(80, 80, 80);\"/><path class=\"link\" marker-end=\"\" d=\"M640.1666666666666,538, 820.1666666666666,398\" style=\"stroke-width: 0.5; stroke-opacity: 1; stroke: rgb(80, 80, 80);\"/><path class=\"link\" marker-end=\"\" d=\"M640.1666666666666,578, 820.1666666666666,398\" style=\"stroke-width: 0.5; stroke-opacity: 1; stroke: rgb(80, 80, 80);\"/><path class=\"link\" marker-end=\"\" d=\"M640.1666666666666,618, 820.1666666666666,398\" style=\"stroke-width: 0.5; stroke-opacity: 1; stroke: rgb(80, 80, 80);\"/><path class=\"link\" marker-end=\"\" d=\"M640.1666666666666,658, 820.1666666666666,398\" style=\"stroke-width: 0.5; stroke-opacity: 1; stroke: rgb(80, 80, 80);\"/><path class=\"link\" marker-end=\"\" d=\"M820.1666666666666,398, 1000.1666666666666,418\" style=\"stroke-width: 0.5; stroke-opacity: 1; stroke: rgb(80, 80, 80);\"/><path class=\"link\" marker-end=\"\" d=\"M820.1666666666666,438, 1000.1666666666666,418\" style=\"stroke-width: 0.5; stroke-opacity: 1; stroke: rgb(80, 80, 80);\"/><circle r=\"10\" class=\"node\" id=\"0_0\" cx=\"640.1666666666666\" cy=\"178\" style=\"fill: rgb(255, 255, 255); stroke: rgb(51, 51, 51);\"/><circle r=\"10\" class=\"node\" id=\"0_1\" cx=\"640.1666666666666\" cy=\"218\" style=\"fill: rgb(255, 255, 255); stroke: rgb(51, 51, 51);\"/><circle r=\"10\" class=\"node\" id=\"0_2\" cx=\"640.1666666666666\" cy=\"258\" style=\"fill: rgb(255, 255, 255); stroke: rgb(51, 51, 51);\"/><circle r=\"10\" class=\"node\" id=\"0_3\" cx=\"640.1666666666666\" cy=\"298\" style=\"fill: rgb(255, 255, 255); stroke: rgb(51, 51, 51);\"/><circle r=\"10\" class=\"node\" id=\"0_4\" cx=\"640.1666666666666\" cy=\"338\" style=\"fill: rgb(255, 255, 255); stroke: rgb(51, 51, 51);\"/><circle r=\"10\" class=\"node\" id=\"0_5\" cx=\"640.1666666666666\" cy=\"378\" style=\"fill: rgb(255, 255, 255); stroke: rgb(51, 51, 51);\"/><circle r=\"10\" class=\"node\" id=\"0_6\" cx=\"640.1666666666666\" cy=\"418\" style=\"fill: rgb(255, 255, 255); stroke: rgb(51, 51, 51);\"/><circle r=\"10\" class=\"node\" id=\"0_7\" cx=\"640.1666666666666\" cy=\"458\" style=\"fill: rgb(255, 255, 255); stroke: rgb(51, 51, 51);\"/><circle r=\"10\" class=\"node\" id=\"0_8\" cx=\"640.1666666666666\" cy=\"498\" style=\"fill: rgb(255, 255, 255); stroke: rgb(51, 51, 51);\"/><circle r=\"10\" class=\"node\" id=\"0_9\" cx=\"640.1666666666666\" cy=\"538\" style=\"fill: rgb(255, 255, 255); stroke: rgb(51, 51, 51);\"/><circle r=\"10\" class=\"node\" id=\"0_10\" cx=\"640.1666666666666\" cy=\"578\" style=\"fill: rgb(255, 255, 255); stroke: rgb(51, 51, 51);\"/><circle r=\"10\" class=\"node\" id=\"0_11\" cx=\"640.1666666666666\" cy=\"618\" style=\"fill: rgb(255, 255, 255); stroke: rgb(51, 51, 51);\"/><circle r=\"10\" class=\"node\" id=\"0_12\" cx=\"640.1666666666666\" cy=\"658\" style=\"fill: rgb(255, 255, 255); stroke: rgb(51, 51, 51);\"/><circle r=\"10\" class=\"node\" id=\"1_0\" cx=\"820.1666666666666\" cy=\"398\" style=\"fill: rgb(255, 255, 255); stroke: rgb(51, 51, 51);\"/><circle r=\"10\" class=\"node\" id=\"1_1\" cx=\"820.1666666666666\" cy=\"438\" style=\"fill: rgb(255, 255, 255); stroke: rgb(51, 51, 51);\"/><circle r=\"10\" class=\"node\" id=\"2_0\" cx=\"1000.1666666666666\" cy=\"418\" style=\"fill: rgb(255, 255, 255); stroke: rgb(51, 51, 51);\"/><text class=\"text\" dy=\".35em\" x=\"605.1666666666666\" y=\"698\" style=\"font-size: 12px;\">Input Layer ∈ ℝ¹³</text><text class=\"text\" dy=\".35em\" x=\"785.1666666666666\" y=\"698\" style=\"font-size: 12px;\">Hidden Layer ∈ ℝ²</text><text class=\"text\" dy=\".35em\" x=\"965.1666666666666\" y=\"698\" style=\"font-size: 12px;\">Hidden Layer ∈ ℝ¹</text><text class=\"text\" dy=\".35em\" x=\"1145.1666666666667\" y=\"698\" style=\"font-size: 12px;\">Output Layer ∈ ℝ⁰</text></g><defs><marker id=\"arrow\" viewBox=\"0 -5 10 10\" markerWidth=\"7\" markerHeight=\"7\" orient=\"auto\" refX=\"40\"><path d=\"M0,-5L10,0L0,5\" style=\"stroke: rgb(80, 80, 80); fill: none;\"/></marker></defs></svg>"
          },
          "metadata": {}
        }
      ]
    },
    {
      "cell_type": "markdown",
      "source": [
        "# Model building 2 (additional neurons)\n",
        "The second model adds on 2 more neuraons to the first layer, everything else remain the same. The architecture of the model is such that:\n",
        "* Fully connected neural network (Dense)\n",
        "* First layer   - 4 neurons -AF: RELU\n",
        "* Second layer  - 1 neuron  -AF: Sigmoid\n",
        "\n",
        "Note: Test results coming from this model has significantly improved commpared to the first moodel\n",
        "\n"
      ],
      "metadata": {
        "id": "M5BFqPXEPI2f"
      }
    },
    {
      "cell_type": "code",
      "source": [
        "# Define the model:\n",
        "model_2 = Sequential()\n",
        "model_2.add(Dense(4, input_dim=12, activation='relu'))\n",
        "model_2.add(Dense(1, activation='sigmoid'))\n",
        "print(model_2.summary())"
      ],
      "metadata": {
        "colab": {
          "base_uri": "https://localhost:8080/"
        },
        "outputId": "8d56df73-3e70-40f7-b76c-66fef3644a16",
        "id": "C4bg5h5kPN-D"
      },
      "execution_count": null,
      "outputs": [
        {
          "output_type": "stream",
          "name": "stdout",
          "text": [
            "Model: \"sequential_1\"\n",
            "_________________________________________________________________\n",
            " Layer (type)                Output Shape              Param #   \n",
            "=================================================================\n",
            " dense_2 (Dense)             (None, 4)                 52        \n",
            "                                                                 \n",
            " dense_3 (Dense)             (None, 1)                 5         \n",
            "                                                                 \n",
            "=================================================================\n",
            "Total params: 57\n",
            "Trainable params: 57\n",
            "Non-trainable params: 0\n",
            "_________________________________________________________________\n",
            "None\n"
          ]
        }
      ]
    },
    {
      "cell_type": "code",
      "source": [
        "#Compile the model\n",
        "model_2.compile(loss='binary_crossentropy', optimizer='adam', metrics=['accuracy'])\n",
        "\n",
        "#Fit training data to the model\n",
        "model_2.fit(x_train, y_train, epochs=10, batch_size=32, validation_data=(x_test, y_test))\n"
      ],
      "metadata": {
        "colab": {
          "base_uri": "https://localhost:8080/"
        },
        "outputId": "c5468d33-ba87-4d18-aa1d-e9a6a0bddb0c",
        "id": "p89n-t8vVbMU"
      },
      "execution_count": null,
      "outputs": [
        {
          "output_type": "stream",
          "name": "stdout",
          "text": [
            "Epoch 1/10\n",
            "143/143 [==============================] - 3s 10ms/step - loss: 0.7576 - accuracy: 0.8188 - val_loss: 0.2812 - val_accuracy: 0.8846\n",
            "Epoch 2/10\n",
            "143/143 [==============================] - 1s 7ms/step - loss: 0.2490 - accuracy: 0.9079 - val_loss: 0.2345 - val_accuracy: 0.9082\n",
            "Epoch 3/10\n",
            "143/143 [==============================] - 0s 3ms/step - loss: 0.2230 - accuracy: 0.9224 - val_loss: 0.2138 - val_accuracy: 0.9221\n",
            "Epoch 4/10\n",
            "143/143 [==============================] - 0s 3ms/step - loss: 0.2091 - accuracy: 0.9285 - val_loss: 0.2049 - val_accuracy: 0.9308\n",
            "Epoch 5/10\n",
            "143/143 [==============================] - 0s 3ms/step - loss: 0.2010 - accuracy: 0.9318 - val_loss: 0.1954 - val_accuracy: 0.9344\n",
            "Epoch 6/10\n",
            "143/143 [==============================] - 0s 3ms/step - loss: 0.1930 - accuracy: 0.9342 - val_loss: 0.1878 - val_accuracy: 0.9369\n",
            "Epoch 7/10\n",
            "143/143 [==============================] - 0s 3ms/step - loss: 0.1881 - accuracy: 0.9371 - val_loss: 0.1797 - val_accuracy: 0.9410\n",
            "Epoch 8/10\n",
            "143/143 [==============================] - 0s 3ms/step - loss: 0.1822 - accuracy: 0.9391 - val_loss: 0.1774 - val_accuracy: 0.9374\n",
            "Epoch 9/10\n",
            "143/143 [==============================] - 0s 3ms/step - loss: 0.1775 - accuracy: 0.9417 - val_loss: 0.1694 - val_accuracy: 0.9415\n",
            "Epoch 10/10\n",
            "143/143 [==============================] - 0s 3ms/step - loss: 0.1754 - accuracy: 0.9422 - val_loss: 0.1723 - val_accuracy: 0.9421\n"
          ]
        },
        {
          "output_type": "execute_result",
          "data": {
            "text/plain": [
              "<keras.callbacks.History at 0x7f70107d5870>"
            ]
          },
          "metadata": {},
          "execution_count": 13
        }
      ]
    },
    {
      "cell_type": "code",
      "source": [
        "# Evaluate model on the test data \n",
        "loss, accuracy = model_2.evaluate(x_test, y_test)\n",
        "print(f'Test Loss: {loss:.4f}')\n",
        "print(f'Test Accuracy: {accuracy:.4f}')"
      ],
      "metadata": {
        "colab": {
          "base_uri": "https://localhost:8080/"
        },
        "outputId": "af8d4a62-b7d7-45b4-ff03-e85a11e0e04d",
        "id": "msrzyH-QWVyk"
      },
      "execution_count": null,
      "outputs": [
        {
          "output_type": "stream",
          "name": "stdout",
          "text": [
            "61/61 [==============================] - 0s 2ms/step - loss: 0.1723 - accuracy: 0.9421\n",
            "Test Loss: 0.1723\n",
            "Test Accuracy: 0.9421\n"
          ]
        }
      ]
    },
    {
      "cell_type": "code",
      "source": [
        "svg2_path = '/content/drive/MyDrive/Colab Notebooks/nn (2).svg'\n",
        "display(SVG(svg2_path))"
      ],
      "metadata": {
        "colab": {
          "base_uri": "https://localhost:8080/",
          "height": 897
        },
        "id": "yMoeG4o4bRJK",
        "outputId": "120a8ad6-011c-498f-9844-8b44bad2dbc9"
      },
      "execution_count": 20,
      "outputs": [
        {
          "output_type": "display_data",
          "data": {
            "text/plain": [
              "<IPython.core.display.SVG object>"
            ],
            "image/svg+xml": "<svg xmlns=\"http://www.w3.org/2000/svg\" width=\"1707\" height=\"856\" style=\"cursor: move; touch-action: none; -webkit-tap-highlight-color: rgba(0, 0, 0, 0);\"><g transform=\"translate(-380.3881664074986,-305.84859491033967) scale(1.5157165665103982)\"><path class=\"link\" marker-end=\"\" d=\"M640.1666666666666,178, 820.1666666666666,398\" style=\"stroke-width: 0.5; stroke-opacity: 1; stroke: rgb(80, 80, 80);\"/><path class=\"link\" marker-end=\"\" d=\"M640.1666666666666,218, 820.1666666666666,398\" style=\"stroke-width: 0.5; stroke-opacity: 1; stroke: rgb(80, 80, 80);\"/><path class=\"link\" marker-end=\"\" d=\"M640.1666666666666,258, 820.1666666666666,398\" style=\"stroke-width: 0.5; stroke-opacity: 1; stroke: rgb(80, 80, 80);\"/><path class=\"link\" marker-end=\"\" d=\"M640.1666666666666,298, 820.1666666666666,398\" style=\"stroke-width: 0.5; stroke-opacity: 1; stroke: rgb(80, 80, 80);\"/><path class=\"link\" marker-end=\"\" d=\"M640.1666666666666,338, 820.1666666666666,398\" style=\"stroke-width: 0.5; stroke-opacity: 1; stroke: rgb(80, 80, 80);\"/><path class=\"link\" marker-end=\"\" d=\"M640.1666666666666,378, 820.1666666666666,398\" style=\"stroke-width: 0.5; stroke-opacity: 1; stroke: rgb(80, 80, 80);\"/><path class=\"link\" marker-end=\"\" d=\"M640.1666666666666,418, 820.1666666666666,398\" style=\"stroke-width: 0.5; stroke-opacity: 1; stroke: rgb(80, 80, 80);\"/><path class=\"link\" marker-end=\"\" d=\"M640.1666666666666,458, 820.1666666666666,398\" style=\"stroke-width: 0.5; stroke-opacity: 1; stroke: rgb(80, 80, 80);\"/><path class=\"link\" marker-end=\"\" d=\"M640.1666666666666,498, 820.1666666666666,398\" style=\"stroke-width: 0.5; stroke-opacity: 1; stroke: rgb(80, 80, 80);\"/><path class=\"link\" marker-end=\"\" d=\"M640.1666666666666,538, 820.1666666666666,398\" style=\"stroke-width: 0.5; stroke-opacity: 1; stroke: rgb(80, 80, 80);\"/><path class=\"link\" marker-end=\"\" d=\"M640.1666666666666,578, 820.1666666666666,398\" style=\"stroke-width: 0.5; stroke-opacity: 1; stroke: rgb(80, 80, 80);\"/><path class=\"link\" marker-end=\"\" d=\"M640.1666666666666,618, 820.1666666666666,398\" style=\"stroke-width: 0.5; stroke-opacity: 1; stroke: rgb(80, 80, 80);\"/><path class=\"link\" marker-end=\"\" d=\"M640.1666666666666,658, 820.1666666666666,398\" style=\"stroke-width: 0.5; stroke-opacity: 1; stroke: rgb(80, 80, 80);\"/><path class=\"link\" marker-end=\"\" d=\"M640.1666666666666,178, 820.1666666666666,358\" style=\"stroke-width: 0.5; stroke-opacity: 1; stroke: rgb(80, 80, 80);\"/><path class=\"link\" marker-end=\"\" d=\"M640.1666666666666,218, 820.1666666666666,358\" style=\"stroke-width: 0.5; stroke-opacity: 1; stroke: rgb(80, 80, 80);\"/><path class=\"link\" marker-end=\"\" d=\"M640.1666666666666,258, 820.1666666666666,358\" style=\"stroke-width: 0.5; stroke-opacity: 1; stroke: rgb(80, 80, 80);\"/><path class=\"link\" marker-end=\"\" d=\"M640.1666666666666,298, 820.1666666666666,358\" style=\"stroke-width: 0.5; stroke-opacity: 1; stroke: rgb(80, 80, 80);\"/><path class=\"link\" marker-end=\"\" d=\"M640.1666666666666,338, 820.1666666666666,358\" style=\"stroke-width: 0.5; stroke-opacity: 1; stroke: rgb(80, 80, 80);\"/><path class=\"link\" marker-end=\"\" d=\"M640.1666666666666,378, 820.1666666666666,358\" style=\"stroke-width: 0.5; stroke-opacity: 1; stroke: rgb(80, 80, 80);\"/><path class=\"link\" marker-end=\"\" d=\"M640.1666666666666,418, 820.1666666666666,358\" style=\"stroke-width: 0.5; stroke-opacity: 1; stroke: rgb(80, 80, 80);\"/><path class=\"link\" marker-end=\"\" d=\"M640.1666666666666,458, 820.1666666666666,358\" style=\"stroke-width: 0.5; stroke-opacity: 1; stroke: rgb(80, 80, 80);\"/><path class=\"link\" marker-end=\"\" d=\"M640.1666666666666,498, 820.1666666666666,358\" style=\"stroke-width: 0.5; stroke-opacity: 1; stroke: rgb(80, 80, 80);\"/><path class=\"link\" marker-end=\"\" d=\"M640.1666666666666,538, 820.1666666666666,358\" style=\"stroke-width: 0.5; stroke-opacity: 1; stroke: rgb(80, 80, 80);\"/><path class=\"link\" marker-end=\"\" d=\"M640.1666666666666,578, 820.1666666666666,358\" style=\"stroke-width: 0.5; stroke-opacity: 1; stroke: rgb(80, 80, 80);\"/><path class=\"link\" marker-end=\"\" d=\"M640.1666666666666,618, 820.1666666666666,358\" style=\"stroke-width: 0.5; stroke-opacity: 1; stroke: rgb(80, 80, 80);\"/><path class=\"link\" marker-end=\"\" d=\"M640.1666666666666,658, 820.1666666666666,358\" style=\"stroke-width: 0.5; stroke-opacity: 1; stroke: rgb(80, 80, 80);\"/><path class=\"link\" marker-end=\"\" d=\"M820.1666666666666,358, 1000.1666666666666,418\" style=\"stroke-width: 0.5; stroke-opacity: 1; stroke: rgb(80, 80, 80);\"/><path class=\"link\" marker-end=\"\" d=\"M820.1666666666666,398, 1000.1666666666666,418\" style=\"stroke-width: 0.5; stroke-opacity: 1; stroke: rgb(80, 80, 80);\"/><path class=\"link\" marker-end=\"\" d=\"M640.1666666666666,178, 820.1666666666666,438\" style=\"stroke-width: 0.5; stroke-opacity: 1; stroke: rgb(80, 80, 80);\"/><path class=\"link\" marker-end=\"\" d=\"M640.1666666666666,178, 820.1666666666666,478\" style=\"stroke-width: 0.5; stroke-opacity: 1; stroke: rgb(80, 80, 80);\"/><path class=\"link\" marker-end=\"\" d=\"M640.1666666666666,218, 820.1666666666666,438\" style=\"stroke-width: 0.5; stroke-opacity: 1; stroke: rgb(80, 80, 80);\"/><path class=\"link\" marker-end=\"\" d=\"M640.1666666666666,218, 820.1666666666666,478\" style=\"stroke-width: 0.5; stroke-opacity: 1; stroke: rgb(80, 80, 80);\"/><path class=\"link\" marker-end=\"\" d=\"M640.1666666666666,258, 820.1666666666666,438\" style=\"stroke-width: 0.5; stroke-opacity: 1; stroke: rgb(80, 80, 80);\"/><path class=\"link\" marker-end=\"\" d=\"M640.1666666666666,258, 820.1666666666666,478\" style=\"stroke-width: 0.5; stroke-opacity: 1; stroke: rgb(80, 80, 80);\"/><path class=\"link\" marker-end=\"\" d=\"M640.1666666666666,298, 820.1666666666666,438\" style=\"stroke-width: 0.5; stroke-opacity: 1; stroke: rgb(80, 80, 80);\"/><path class=\"link\" marker-end=\"\" d=\"M640.1666666666666,298, 820.1666666666666,478\" style=\"stroke-width: 0.5; stroke-opacity: 1; stroke: rgb(80, 80, 80);\"/><path class=\"link\" marker-end=\"\" d=\"M640.1666666666666,338, 820.1666666666666,438\" style=\"stroke-width: 0.5; stroke-opacity: 1; stroke: rgb(80, 80, 80);\"/><path class=\"link\" marker-end=\"\" d=\"M640.1666666666666,338, 820.1666666666666,478\" style=\"stroke-width: 0.5; stroke-opacity: 1; stroke: rgb(80, 80, 80);\"/><path class=\"link\" marker-end=\"\" d=\"M640.1666666666666,378, 820.1666666666666,438\" style=\"stroke-width: 0.5; stroke-opacity: 1; stroke: rgb(80, 80, 80);\"/><path class=\"link\" marker-end=\"\" d=\"M640.1666666666666,378, 820.1666666666666,478\" style=\"stroke-width: 0.5; stroke-opacity: 1; stroke: rgb(80, 80, 80);\"/><path class=\"link\" marker-end=\"\" d=\"M640.1666666666666,418, 820.1666666666666,438\" style=\"stroke-width: 0.5; stroke-opacity: 1; stroke: rgb(80, 80, 80);\"/><path class=\"link\" marker-end=\"\" d=\"M640.1666666666666,418, 820.1666666666666,478\" style=\"stroke-width: 0.5; stroke-opacity: 1; stroke: rgb(80, 80, 80);\"/><path class=\"link\" marker-end=\"\" d=\"M640.1666666666666,458, 820.1666666666666,438\" style=\"stroke-width: 0.5; stroke-opacity: 1; stroke: rgb(80, 80, 80);\"/><path class=\"link\" marker-end=\"\" d=\"M640.1666666666666,458, 820.1666666666666,478\" style=\"stroke-width: 0.5; stroke-opacity: 1; stroke: rgb(80, 80, 80);\"/><path class=\"link\" marker-end=\"\" d=\"M640.1666666666666,498, 820.1666666666666,438\" style=\"stroke-width: 0.5; stroke-opacity: 1; stroke: rgb(80, 80, 80);\"/><path class=\"link\" marker-end=\"\" d=\"M640.1666666666666,498, 820.1666666666666,478\" style=\"stroke-width: 0.5; stroke-opacity: 1; stroke: rgb(80, 80, 80);\"/><path class=\"link\" marker-end=\"\" d=\"M640.1666666666666,538, 820.1666666666666,438\" style=\"stroke-width: 0.5; stroke-opacity: 1; stroke: rgb(80, 80, 80);\"/><path class=\"link\" marker-end=\"\" d=\"M640.1666666666666,538, 820.1666666666666,478\" style=\"stroke-width: 0.5; stroke-opacity: 1; stroke: rgb(80, 80, 80);\"/><path class=\"link\" marker-end=\"\" d=\"M640.1666666666666,578, 820.1666666666666,438\" style=\"stroke-width: 0.5; stroke-opacity: 1; stroke: rgb(80, 80, 80);\"/><path class=\"link\" marker-end=\"\" d=\"M640.1666666666666,578, 820.1666666666666,478\" style=\"stroke-width: 0.5; stroke-opacity: 1; stroke: rgb(80, 80, 80);\"/><path class=\"link\" marker-end=\"\" d=\"M640.1666666666666,618, 820.1666666666666,438\" style=\"stroke-width: 0.5; stroke-opacity: 1; stroke: rgb(80, 80, 80);\"/><path class=\"link\" marker-end=\"\" d=\"M640.1666666666666,618, 820.1666666666666,478\" style=\"stroke-width: 0.5; stroke-opacity: 1; stroke: rgb(80, 80, 80);\"/><path class=\"link\" marker-end=\"\" d=\"M640.1666666666666,658, 820.1666666666666,438\" style=\"stroke-width: 0.5; stroke-opacity: 1; stroke: rgb(80, 80, 80);\"/><path class=\"link\" marker-end=\"\" d=\"M640.1666666666666,658, 820.1666666666666,478\" style=\"stroke-width: 0.5; stroke-opacity: 1; stroke: rgb(80, 80, 80);\"/><path class=\"link\" marker-end=\"\" d=\"M820.1666666666666,438, 1000.1666666666666,418\" style=\"stroke-width: 0.5; stroke-opacity: 1; stroke: rgb(80, 80, 80);\"/><path class=\"link\" marker-end=\"\" d=\"M820.1666666666666,478, 1000.1666666666666,418\" style=\"stroke-width: 0.5; stroke-opacity: 1; stroke: rgb(80, 80, 80);\"/><circle r=\"10\" class=\"node\" id=\"0_0\" cx=\"640.1666666666666\" cy=\"178\" style=\"fill: rgb(255, 255, 255); stroke: rgb(51, 51, 51);\"/><circle r=\"10\" class=\"node\" id=\"0_1\" cx=\"640.1666666666666\" cy=\"218\" style=\"fill: rgb(255, 255, 255); stroke: rgb(51, 51, 51);\"/><circle r=\"10\" class=\"node\" id=\"0_2\" cx=\"640.1666666666666\" cy=\"258\" style=\"fill: rgb(255, 255, 255); stroke: rgb(51, 51, 51);\"/><circle r=\"10\" class=\"node\" id=\"0_3\" cx=\"640.1666666666666\" cy=\"298\" style=\"fill: rgb(255, 255, 255); stroke: rgb(51, 51, 51);\"/><circle r=\"10\" class=\"node\" id=\"0_4\" cx=\"640.1666666666666\" cy=\"338\" style=\"fill: rgb(255, 255, 255); stroke: rgb(51, 51, 51);\"/><circle r=\"10\" class=\"node\" id=\"0_5\" cx=\"640.1666666666666\" cy=\"378\" style=\"fill: rgb(255, 255, 255); stroke: rgb(51, 51, 51);\"/><circle r=\"10\" class=\"node\" id=\"0_6\" cx=\"640.1666666666666\" cy=\"418\" style=\"fill: rgb(255, 255, 255); stroke: rgb(51, 51, 51);\"/><circle r=\"10\" class=\"node\" id=\"0_7\" cx=\"640.1666666666666\" cy=\"458\" style=\"fill: rgb(255, 255, 255); stroke: rgb(51, 51, 51);\"/><circle r=\"10\" class=\"node\" id=\"0_8\" cx=\"640.1666666666666\" cy=\"498\" style=\"fill: rgb(255, 255, 255); stroke: rgb(51, 51, 51);\"/><circle r=\"10\" class=\"node\" id=\"0_9\" cx=\"640.1666666666666\" cy=\"538\" style=\"fill: rgb(255, 255, 255); stroke: rgb(51, 51, 51);\"/><circle r=\"10\" class=\"node\" id=\"0_10\" cx=\"640.1666666666666\" cy=\"578\" style=\"fill: rgb(255, 255, 255); stroke: rgb(51, 51, 51);\"/><circle r=\"10\" class=\"node\" id=\"0_11\" cx=\"640.1666666666666\" cy=\"618\" style=\"fill: rgb(255, 255, 255); stroke: rgb(51, 51, 51);\"/><circle r=\"10\" class=\"node\" id=\"0_12\" cx=\"640.1666666666666\" cy=\"658\" style=\"fill: rgb(255, 255, 255); stroke: rgb(51, 51, 51);\"/><circle r=\"10\" class=\"node\" id=\"1_0\" cx=\"820.1666666666666\" cy=\"358\" style=\"fill: rgb(255, 255, 255); stroke: rgb(51, 51, 51);\"/><circle r=\"10\" class=\"node\" id=\"1_1\" cx=\"820.1666666666666\" cy=\"398\" style=\"fill: rgb(255, 255, 255); stroke: rgb(51, 51, 51);\"/><circle r=\"10\" class=\"node\" id=\"1_2\" cx=\"820.1666666666666\" cy=\"438\" style=\"fill: rgb(255, 255, 255); stroke: rgb(51, 51, 51);\"/><circle r=\"10\" class=\"node\" id=\"1_3\" cx=\"820.1666666666666\" cy=\"478\" style=\"fill: rgb(255, 255, 255); stroke: rgb(51, 51, 51);\"/><circle r=\"10\" class=\"node\" id=\"2_0\" cx=\"1000.1666666666666\" cy=\"418\" style=\"fill: rgb(255, 255, 255); stroke: rgb(51, 51, 51);\"/><text class=\"text\" dy=\".35em\" x=\"605.1666666666666\" y=\"698\" style=\"font-size: 12px;\">Input Layer ∈ ℝ¹³</text><text class=\"text\" dy=\".35em\" x=\"785.1666666666666\" y=\"698\" style=\"font-size: 12px;\">Hidden Layer ∈ ℝ⁴</text><text class=\"text\" dy=\".35em\" x=\"965.1666666666666\" y=\"698\" style=\"font-size: 12px;\">Hidden Layer ∈ ℝ¹</text><text class=\"text\" dy=\".35em\" x=\"1145.1666666666667\" y=\"698\" style=\"font-size: 12px;\">Output Layer ∈ ℝ⁰</text></g><defs><marker id=\"arrow\" viewBox=\"0 -5 10 10\" markerWidth=\"7\" markerHeight=\"7\" orient=\"auto\" refX=\"40\"><path d=\"M0,-5L10,0L0,5\" style=\"stroke: rgb(80, 80, 80); fill: none;\"/></marker></defs></svg>"
          },
          "metadata": {}
        }
      ]
    },
    {
      "cell_type": "markdown",
      "source": [
        "# Model building 3 (additional hidden layer)\n",
        "The third model adds on a new hidden layer. With 2 nuerons for the first and second layer. The architecture is as follows:\n",
        "* Fully connected neural network (Dense)\n",
        "* First layer   - 2 neurons -AF: RELU\n",
        "* Second layer  - 2 neuron  -AF: RELU\n",
        "* Third layer   - 1 neuron  -AF: Sigmoid\n",
        "\n",
        "Note: Test results from this model is quite similar to the first model, no apparent improvement of accuracy scores.\n",
        "\n"
      ],
      "metadata": {
        "id": "I9xOJUQbc_yC"
      }
    },
    {
      "cell_type": "code",
      "source": [
        "# Define the model:\n",
        "model_3 = Sequential()\n",
        "model_3.add(Dense(2, input_dim=12, activation='relu'))\n",
        "model_3.add(Dense(2, activation='relu'))\n",
        "model_3.add(Dense(1, activation='sigmoid'))\n",
        "print(model_3.summary())"
      ],
      "metadata": {
        "colab": {
          "base_uri": "https://localhost:8080/"
        },
        "outputId": "d09cae69-600a-4e6e-caab-753ae2b90307",
        "id": "DAjGzqfTc_yC"
      },
      "execution_count": null,
      "outputs": [
        {
          "output_type": "stream",
          "name": "stdout",
          "text": [
            "Model: \"sequential_3\"\n",
            "_________________________________________________________________\n",
            " Layer (type)                Output Shape              Param #   \n",
            "=================================================================\n",
            " dense_7 (Dense)             (None, 2)                 26        \n",
            "                                                                 \n",
            " dense_8 (Dense)             (None, 2)                 6         \n",
            "                                                                 \n",
            " dense_9 (Dense)             (None, 1)                 3         \n",
            "                                                                 \n",
            "=================================================================\n",
            "Total params: 35\n",
            "Trainable params: 35\n",
            "Non-trainable params: 0\n",
            "_________________________________________________________________\n",
            "None\n"
          ]
        }
      ]
    },
    {
      "cell_type": "code",
      "source": [
        "#Compile the model\n",
        "model_3.compile(loss='binary_crossentropy', optimizer='adam', metrics=['accuracy'])\n",
        "\n",
        "#Fit training data to the model\n",
        "model_3.fit(x_train, y_train, epochs=10, batch_size=32, validation_data=(x_test, y_test))\n"
      ],
      "metadata": {
        "colab": {
          "base_uri": "https://localhost:8080/"
        },
        "outputId": "814bd1c3-962f-4efe-e389-b6ffdd40c36e",
        "id": "S2hdGoTSc_yC"
      },
      "execution_count": null,
      "outputs": [
        {
          "output_type": "stream",
          "name": "stdout",
          "text": [
            "Epoch 1/10\n",
            "143/143 [==============================] - 1s 4ms/step - loss: 0.7123 - accuracy: 0.6840 - val_loss: 0.6637 - val_accuracy: 0.7456\n",
            "Epoch 2/10\n",
            "143/143 [==============================] - 1s 4ms/step - loss: 0.6519 - accuracy: 0.7504 - val_loss: 0.6382 - val_accuracy: 0.7533\n",
            "Epoch 3/10\n",
            "143/143 [==============================] - 0s 3ms/step - loss: 0.6290 - accuracy: 0.7528 - val_loss: 0.6183 - val_accuracy: 0.7538\n",
            "Epoch 4/10\n",
            "143/143 [==============================] - 0s 3ms/step - loss: 0.6111 - accuracy: 0.7535 - val_loss: 0.6028 - val_accuracy: 0.7538\n",
            "Epoch 5/10\n",
            "143/143 [==============================] - 1s 3ms/step - loss: 0.5972 - accuracy: 0.7537 - val_loss: 0.5908 - val_accuracy: 0.7538\n",
            "Epoch 6/10\n",
            "143/143 [==============================] - 0s 3ms/step - loss: 0.5866 - accuracy: 0.7537 - val_loss: 0.5816 - val_accuracy: 0.7538\n",
            "Epoch 7/10\n",
            "143/143 [==============================] - 0s 3ms/step - loss: 0.5785 - accuracy: 0.7537 - val_loss: 0.5748 - val_accuracy: 0.7538\n",
            "Epoch 8/10\n",
            "143/143 [==============================] - 0s 3ms/step - loss: 0.5725 - accuracy: 0.7537 - val_loss: 0.5697 - val_accuracy: 0.7538\n",
            "Epoch 9/10\n",
            "143/143 [==============================] - 0s 3ms/step - loss: 0.5681 - accuracy: 0.7537 - val_loss: 0.5660 - val_accuracy: 0.7538\n",
            "Epoch 10/10\n",
            "143/143 [==============================] - 0s 3ms/step - loss: 0.5649 - accuracy: 0.7537 - val_loss: 0.5634 - val_accuracy: 0.7538\n"
          ]
        },
        {
          "output_type": "execute_result",
          "data": {
            "text/plain": [
              "<keras.callbacks.History at 0x7f7013ec5c90>"
            ]
          },
          "metadata": {},
          "execution_count": 19
        }
      ]
    },
    {
      "cell_type": "code",
      "source": [
        "# Evaluate model on the test data \n",
        "loss, accuracy = model_3.evaluate(x_test, y_test)\n",
        "print(f'Test Loss: {loss:.4f}')\n",
        "print(f'Test Accuracy: {accuracy:.4f}')"
      ],
      "metadata": {
        "colab": {
          "base_uri": "https://localhost:8080/"
        },
        "outputId": "f5789c3b-fca7-44a8-c730-2ee83571a1c1",
        "id": "Oyi--J-kc_yC"
      },
      "execution_count": null,
      "outputs": [
        {
          "output_type": "stream",
          "name": "stdout",
          "text": [
            "61/61 [==============================] - 0s 2ms/step - loss: 0.5634 - accuracy: 0.7538\n",
            "Test Loss: 0.5634\n",
            "Test Accuracy: 0.7538\n"
          ]
        }
      ]
    },
    {
      "cell_type": "code",
      "source": [
        "svg3_path = '/content/drive/MyDrive/Colab Notebooks/nn (3).svg'\n",
        "display(SVG(svg3_path))\n"
      ],
      "metadata": {
        "colab": {
          "base_uri": "https://localhost:8080/",
          "height": 840
        },
        "id": "u3T09KdvbkXJ",
        "outputId": "c6789027-655a-4546-dc92-5a09c7887982"
      },
      "execution_count": 23,
      "outputs": [
        {
          "output_type": "display_data",
          "data": {
            "text/plain": [
              "<IPython.core.display.SVG object>"
            ],
            "image/svg+xml": "<svg xmlns=\"http://www.w3.org/2000/svg\" width=\"1707\" height=\"799\" style=\"cursor: move; touch-action: none; -webkit-tap-highlight-color: rgba(0, 0, 0, 0);\"><g transform=\"translate(-380.3881664074986,-305.84859491033967) scale(1.5157165665103982)\"><path class=\"link\" marker-end=\"\" d=\"M640.1666666666666,149.5, 820.1666666666666,409.5\" style=\"stroke-width: 0.5; stroke-opacity: 1; stroke: rgb(80, 80, 80);\"/><path class=\"link\" marker-end=\"\" d=\"M640.1666666666666,189.5, 820.1666666666666,409.5\" style=\"stroke-width: 0.5; stroke-opacity: 1; stroke: rgb(80, 80, 80);\"/><path class=\"link\" marker-end=\"\" d=\"M640.1666666666666,229.5, 820.1666666666666,409.5\" style=\"stroke-width: 0.5; stroke-opacity: 1; stroke: rgb(80, 80, 80);\"/><path class=\"link\" marker-end=\"\" d=\"M640.1666666666666,269.5, 820.1666666666666,409.5\" style=\"stroke-width: 0.5; stroke-opacity: 1; stroke: rgb(80, 80, 80);\"/><path class=\"link\" marker-end=\"\" d=\"M640.1666666666666,309.5, 820.1666666666666,409.5\" style=\"stroke-width: 0.5; stroke-opacity: 1; stroke: rgb(80, 80, 80);\"/><path class=\"link\" marker-end=\"\" d=\"M640.1666666666666,349.5, 820.1666666666666,409.5\" style=\"stroke-width: 0.5; stroke-opacity: 1; stroke: rgb(80, 80, 80);\"/><path class=\"link\" marker-end=\"\" d=\"M640.1666666666666,389.5, 820.1666666666666,409.5\" style=\"stroke-width: 0.5; stroke-opacity: 1; stroke: rgb(80, 80, 80);\"/><path class=\"link\" marker-end=\"\" d=\"M640.1666666666666,429.5, 820.1666666666666,409.5\" style=\"stroke-width: 0.5; stroke-opacity: 1; stroke: rgb(80, 80, 80);\"/><path class=\"link\" marker-end=\"\" d=\"M640.1666666666666,469.5, 820.1666666666666,409.5\" style=\"stroke-width: 0.5; stroke-opacity: 1; stroke: rgb(80, 80, 80);\"/><path class=\"link\" marker-end=\"\" d=\"M640.1666666666666,509.5, 820.1666666666666,409.5\" style=\"stroke-width: 0.5; stroke-opacity: 1; stroke: rgb(80, 80, 80);\"/><path class=\"link\" marker-end=\"\" d=\"M640.1666666666666,549.5, 820.1666666666666,409.5\" style=\"stroke-width: 0.5; stroke-opacity: 1; stroke: rgb(80, 80, 80);\"/><path class=\"link\" marker-end=\"\" d=\"M640.1666666666666,589.5, 820.1666666666666,409.5\" style=\"stroke-width: 0.5; stroke-opacity: 1; stroke: rgb(80, 80, 80);\"/><path class=\"link\" marker-end=\"\" d=\"M640.1666666666666,629.5, 820.1666666666666,409.5\" style=\"stroke-width: 0.5; stroke-opacity: 1; stroke: rgb(80, 80, 80);\"/><path class=\"link\" marker-end=\"\" d=\"M640.1666666666666,149.5, 820.1666666666666,369.5\" style=\"stroke-width: 0.5; stroke-opacity: 1; stroke: rgb(80, 80, 80);\"/><path class=\"link\" marker-end=\"\" d=\"M640.1666666666666,189.5, 820.1666666666666,369.5\" style=\"stroke-width: 0.5; stroke-opacity: 1; stroke: rgb(80, 80, 80);\"/><path class=\"link\" marker-end=\"\" d=\"M640.1666666666666,229.5, 820.1666666666666,369.5\" style=\"stroke-width: 0.5; stroke-opacity: 1; stroke: rgb(80, 80, 80);\"/><path class=\"link\" marker-end=\"\" d=\"M640.1666666666666,269.5, 820.1666666666666,369.5\" style=\"stroke-width: 0.5; stroke-opacity: 1; stroke: rgb(80, 80, 80);\"/><path class=\"link\" marker-end=\"\" d=\"M640.1666666666666,309.5, 820.1666666666666,369.5\" style=\"stroke-width: 0.5; stroke-opacity: 1; stroke: rgb(80, 80, 80);\"/><path class=\"link\" marker-end=\"\" d=\"M640.1666666666666,349.5, 820.1666666666666,369.5\" style=\"stroke-width: 0.5; stroke-opacity: 1; stroke: rgb(80, 80, 80);\"/><path class=\"link\" marker-end=\"\" d=\"M640.1666666666666,389.5, 820.1666666666666,369.5\" style=\"stroke-width: 0.5; stroke-opacity: 1; stroke: rgb(80, 80, 80);\"/><path class=\"link\" marker-end=\"\" d=\"M640.1666666666666,429.5, 820.1666666666666,369.5\" style=\"stroke-width: 0.5; stroke-opacity: 1; stroke: rgb(80, 80, 80);\"/><path class=\"link\" marker-end=\"\" d=\"M640.1666666666666,469.5, 820.1666666666666,369.5\" style=\"stroke-width: 0.5; stroke-opacity: 1; stroke: rgb(80, 80, 80);\"/><path class=\"link\" marker-end=\"\" d=\"M640.1666666666666,509.5, 820.1666666666666,369.5\" style=\"stroke-width: 0.5; stroke-opacity: 1; stroke: rgb(80, 80, 80);\"/><path class=\"link\" marker-end=\"\" d=\"M640.1666666666666,549.5, 820.1666666666666,369.5\" style=\"stroke-width: 0.5; stroke-opacity: 1; stroke: rgb(80, 80, 80);\"/><path class=\"link\" marker-end=\"\" d=\"M640.1666666666666,589.5, 820.1666666666666,369.5\" style=\"stroke-width: 0.5; stroke-opacity: 1; stroke: rgb(80, 80, 80);\"/><path class=\"link\" marker-end=\"\" d=\"M640.1666666666666,629.5, 820.1666666666666,369.5\" style=\"stroke-width: 0.5; stroke-opacity: 1; stroke: rgb(80, 80, 80);\"/><path class=\"link\" marker-end=\"\" d=\"M820.1666666666666,369.5, 1000.1666666666666,369.5\" style=\"stroke-width: 0.5; stroke-opacity: 1; stroke: rgb(80, 80, 80);\"/><path class=\"link\" marker-end=\"\" d=\"M820.1666666666666,409.5, 1000.1666666666666,369.5\" style=\"stroke-width: 0.5; stroke-opacity: 1; stroke: rgb(80, 80, 80);\"/><path class=\"link\" marker-end=\"\" d=\"M820.1666666666666,369.5, 1000.1666666666666,409.5\" style=\"stroke-width: 0.5; stroke-opacity: 1; stroke: rgb(80, 80, 80);\"/><path class=\"link\" marker-end=\"\" d=\"M820.1666666666666,409.5, 1000.1666666666666,409.5\" style=\"stroke-width: 0.5; stroke-opacity: 1; stroke: rgb(80, 80, 80);\"/><path class=\"link\" marker-end=\"\" d=\"M1000.1666666666666,369.5, 1180.1666666666667,389.5\" style=\"stroke-width: 0.5; stroke-opacity: 1; stroke: rgb(80, 80, 80);\"/><path class=\"link\" marker-end=\"\" d=\"M1000.1666666666666,409.5, 1180.1666666666667,389.5\" style=\"stroke-width: 0.5; stroke-opacity: 1; stroke: rgb(80, 80, 80);\"/><circle r=\"10\" class=\"node\" id=\"0_0\" cx=\"640.1666666666666\" cy=\"149.5\" style=\"fill: rgb(255, 255, 255); stroke: rgb(51, 51, 51);\"/><circle r=\"10\" class=\"node\" id=\"0_1\" cx=\"640.1666666666666\" cy=\"189.5\" style=\"fill: rgb(255, 255, 255); stroke: rgb(51, 51, 51);\"/><circle r=\"10\" class=\"node\" id=\"0_2\" cx=\"640.1666666666666\" cy=\"229.5\" style=\"fill: rgb(255, 255, 255); stroke: rgb(51, 51, 51);\"/><circle r=\"10\" class=\"node\" id=\"0_3\" cx=\"640.1666666666666\" cy=\"269.5\" style=\"fill: rgb(255, 255, 255); stroke: rgb(51, 51, 51);\"/><circle r=\"10\" class=\"node\" id=\"0_4\" cx=\"640.1666666666666\" cy=\"309.5\" style=\"fill: rgb(255, 255, 255); stroke: rgb(51, 51, 51);\"/><circle r=\"10\" class=\"node\" id=\"0_5\" cx=\"640.1666666666666\" cy=\"349.5\" style=\"fill: rgb(255, 255, 255); stroke: rgb(51, 51, 51);\"/><circle r=\"10\" class=\"node\" id=\"0_6\" cx=\"640.1666666666666\" cy=\"389.5\" style=\"fill: rgb(255, 255, 255); stroke: rgb(51, 51, 51);\"/><circle r=\"10\" class=\"node\" id=\"0_7\" cx=\"640.1666666666666\" cy=\"429.5\" style=\"fill: rgb(255, 255, 255); stroke: rgb(51, 51, 51);\"/><circle r=\"10\" class=\"node\" id=\"0_8\" cx=\"640.1666666666666\" cy=\"469.5\" style=\"fill: rgb(255, 255, 255); stroke: rgb(51, 51, 51);\"/><circle r=\"10\" class=\"node\" id=\"0_9\" cx=\"640.1666666666666\" cy=\"509.5\" style=\"fill: rgb(255, 255, 255); stroke: rgb(51, 51, 51);\"/><circle r=\"10\" class=\"node\" id=\"0_10\" cx=\"640.1666666666666\" cy=\"549.5\" style=\"fill: rgb(255, 255, 255); stroke: rgb(51, 51, 51);\"/><circle r=\"10\" class=\"node\" id=\"0_11\" cx=\"640.1666666666666\" cy=\"589.5\" style=\"fill: rgb(255, 255, 255); stroke: rgb(51, 51, 51);\"/><circle r=\"10\" class=\"node\" id=\"0_12\" cx=\"640.1666666666666\" cy=\"629.5\" style=\"fill: rgb(255, 255, 255); stroke: rgb(51, 51, 51);\"/><circle r=\"10\" class=\"node\" id=\"1_0\" cx=\"820.1666666666666\" cy=\"369.5\" style=\"fill: rgb(255, 255, 255); stroke: rgb(51, 51, 51);\"/><circle r=\"10\" class=\"node\" id=\"1_1\" cx=\"820.1666666666666\" cy=\"409.5\" style=\"fill: rgb(255, 255, 255); stroke: rgb(51, 51, 51);\"/><circle r=\"10\" class=\"node\" id=\"2_0\" cx=\"1000.1666666666666\" cy=\"369.5\" style=\"fill: rgb(255, 255, 255); stroke: rgb(51, 51, 51);\"/><text class=\"text\" dy=\".35em\" x=\"605.1666666666666\" y=\"669.5\" style=\"font-size: 12px;\">Input Layer ∈ ℝ¹³</text><text class=\"text\" dy=\".35em\" x=\"785.1666666666666\" y=\"669.5\" style=\"font-size: 12px;\">Hidden Layer ∈ ℝ²</text><text class=\"text\" dy=\".35em\" x=\"965.1666666666666\" y=\"669.5\" style=\"font-size: 12px;\">Hidden Layer ∈ ℝ²</text><text class=\"text\" dy=\".35em\" x=\"1145.1666666666667\" y=\"669.5\" style=\"font-size: 12px;\">Output Layer ∈ ℝ¹</text><circle r=\"10\" class=\"node\" id=\"2_1\" cx=\"1000.1666666666666\" cy=\"409.5\" style=\"fill: rgb(255, 255, 255); stroke: rgb(51, 51, 51);\"/><circle r=\"10\" class=\"node\" id=\"3_0\" cx=\"1180.1666666666667\" cy=\"389.5\" style=\"fill: rgb(255, 255, 255); stroke: rgb(51, 51, 51);\"/></g><defs><marker id=\"arrow\" viewBox=\"0 -5 10 10\" markerWidth=\"7\" markerHeight=\"7\" orient=\"auto\" refX=\"40\"><path d=\"M0,-5L10,0L0,5\" style=\"stroke: rgb(80, 80, 80); fill: none;\"/></marker></defs></svg>"
          },
          "metadata": {}
        }
      ]
    },
    {
      "cell_type": "markdown",
      "source": [
        "# Model building 4 (experimenting with hyperbolic tan AF)\n",
        "The fourth model attempts to use a different actvation function, the hyperbolic tan function. Since model_2 returns the highest test score so far, the architecture follows the second model with:\n",
        "\n",
        "* Fully connected neural network (Dense)\n",
        "* First layer   - 4 neurons -AF: tanh\n",
        "* Second layer  - 2 neuron  -AF: Sigmoid\n",
        "\n",
        "Note: A higher test score is obtained, slighth improvement from model_2"
      ],
      "metadata": {
        "id": "eQnS0_Pid3OD"
      }
    },
    {
      "cell_type": "code",
      "source": [
        "# Define the model:\n",
        "model_4 = Sequential()\n",
        "model_4.add(Dense(4, input_dim=12, activation='tanh'))\n",
        "model_4.add(Dense(1, activation='sigmoid'))\n",
        "print(model_4.summary())"
      ],
      "metadata": {
        "colab": {
          "base_uri": "https://localhost:8080/"
        },
        "outputId": "5b12defc-ff7d-44b1-a7dd-dda5449683c6",
        "id": "w9ujBDypd3OD"
      },
      "execution_count": null,
      "outputs": [
        {
          "output_type": "stream",
          "name": "stdout",
          "text": [
            "Model: \"sequential_4\"\n",
            "_________________________________________________________________\n",
            " Layer (type)                Output Shape              Param #   \n",
            "=================================================================\n",
            " dense_10 (Dense)            (None, 4)                 52        \n",
            "                                                                 \n",
            " dense_11 (Dense)            (None, 1)                 5         \n",
            "                                                                 \n",
            "=================================================================\n",
            "Total params: 57\n",
            "Trainable params: 57\n",
            "Non-trainable params: 0\n",
            "_________________________________________________________________\n",
            "None\n"
          ]
        }
      ]
    },
    {
      "cell_type": "code",
      "source": [
        "#Compile the model\n",
        "model_4.compile(loss='binary_crossentropy', optimizer='adam', metrics=['accuracy'])\n",
        "\n",
        "#Fit training data to the model\n",
        "model_4.fit(x_train, y_train, epochs=10, batch_size=32, validation_data=(x_test, y_test))\n"
      ],
      "metadata": {
        "colab": {
          "base_uri": "https://localhost:8080/"
        },
        "outputId": "def2d1ec-dcba-417d-b3df-a769809be719",
        "id": "H2mgPuHld3OE"
      },
      "execution_count": null,
      "outputs": [
        {
          "output_type": "stream",
          "name": "stdout",
          "text": [
            "Epoch 1/10\n",
            "143/143 [==============================] - 2s 7ms/step - loss: 1.2892 - accuracy: 0.2461 - val_loss: 1.0654 - val_accuracy: 0.2462\n",
            "Epoch 2/10\n",
            "143/143 [==============================] - 1s 5ms/step - loss: 0.9315 - accuracy: 0.2461 - val_loss: 0.8057 - val_accuracy: 0.2462\n",
            "Epoch 3/10\n",
            "143/143 [==============================] - 0s 3ms/step - loss: 0.7063 - accuracy: 0.3873 - val_loss: 0.6216 - val_accuracy: 0.9154\n",
            "Epoch 4/10\n",
            "143/143 [==============================] - 0s 3ms/step - loss: 0.5624 - accuracy: 0.9224 - val_loss: 0.5166 - val_accuracy: 0.9144\n",
            "Epoch 5/10\n",
            "143/143 [==============================] - 0s 3ms/step - loss: 0.4807 - accuracy: 0.9261 - val_loss: 0.4540 - val_accuracy: 0.9169\n",
            "Epoch 6/10\n",
            "143/143 [==============================] - 0s 3ms/step - loss: 0.4333 - accuracy: 0.9261 - val_loss: 0.4150 - val_accuracy: 0.9231\n",
            "Epoch 7/10\n",
            "143/143 [==============================] - 0s 3ms/step - loss: 0.4024 - accuracy: 0.9261 - val_loss: 0.3883 - val_accuracy: 0.9246\n",
            "Epoch 8/10\n",
            "143/143 [==============================] - 0s 3ms/step - loss: 0.3577 - accuracy: 0.9303 - val_loss: 0.3343 - val_accuracy: 0.9282\n",
            "Epoch 9/10\n",
            "143/143 [==============================] - 0s 3ms/step - loss: 0.3196 - accuracy: 0.9347 - val_loss: 0.3031 - val_accuracy: 0.9349\n",
            "Epoch 10/10\n",
            "143/143 [==============================] - 0s 2ms/step - loss: 0.2980 - accuracy: 0.9340 - val_loss: 0.2812 - val_accuracy: 0.9410\n"
          ]
        },
        {
          "output_type": "execute_result",
          "data": {
            "text/plain": [
              "<keras.callbacks.History at 0x7f7012e9ebf0>"
            ]
          },
          "metadata": {},
          "execution_count": 22
        }
      ]
    },
    {
      "cell_type": "code",
      "source": [
        "# Evaluate model on the test data \n",
        "loss, accuracy = model_4.evaluate(x_test, y_test)\n",
        "print(f'Test Loss: {loss:.4f}')\n",
        "print(f'Test Accuracy: {accuracy:.4f}')"
      ],
      "metadata": {
        "colab": {
          "base_uri": "https://localhost:8080/"
        },
        "outputId": "34458f8e-8d77-4414-bedd-cbfbf5dffa25",
        "id": "YPv7PZ4Jd3OE"
      },
      "execution_count": null,
      "outputs": [
        {
          "output_type": "stream",
          "name": "stdout",
          "text": [
            "61/61 [==============================] - 0s 2ms/step - loss: 0.2812 - accuracy: 0.9410\n",
            "Test Loss: 0.2812\n",
            "Test Accuracy: 0.9410\n"
          ]
        }
      ]
    },
    {
      "cell_type": "code",
      "source": [
        "svg4_path = '/content/drive/MyDrive/Colab Notebooks/nn (4).svg'\n",
        "display(SVG(svg4_path))\n"
      ],
      "metadata": {
        "id": "RTwuM0Q0byjb"
      },
      "execution_count": null,
      "outputs": []
    },
    {
      "cell_type": "code",
      "source": [
        "svg4_path = '/content/drive/MyDrive/Colab Notebooks/nn (4).svg'\n",
        "display(SVG(svg4_path))\n"
      ],
      "metadata": {
        "colab": {
          "base_uri": "https://localhost:8080/",
          "height": 840
        },
        "id": "B6rrPaJ9clGc",
        "outputId": "ea31148c-422a-4ac1-a895-d82a49e42ff9"
      },
      "execution_count": 24,
      "outputs": [
        {
          "output_type": "display_data",
          "data": {
            "text/plain": [
              "<IPython.core.display.SVG object>"
            ],
            "image/svg+xml": "<svg xmlns=\"http://www.w3.org/2000/svg\" width=\"1707\" height=\"799\" style=\"cursor: move; touch-action: none; -webkit-tap-highlight-color: rgba(0, 0, 0, 0);\"><g transform=\"translate(-380.3881664074986,-305.84859491033967) scale(1.5157165665103982)\"><path class=\"link\" marker-end=\"\" d=\"M640.1666666666666,149.5, 820.1666666666666,369.5\" style=\"stroke-width: 0.5; stroke-opacity: 1; stroke: rgb(80, 80, 80);\"/><path class=\"link\" marker-end=\"\" d=\"M640.1666666666666,189.5, 820.1666666666666,369.5\" style=\"stroke-width: 0.5; stroke-opacity: 1; stroke: rgb(80, 80, 80);\"/><path class=\"link\" marker-end=\"\" d=\"M640.1666666666666,229.5, 820.1666666666666,369.5\" style=\"stroke-width: 0.5; stroke-opacity: 1; stroke: rgb(80, 80, 80);\"/><path class=\"link\" marker-end=\"\" d=\"M640.1666666666666,269.5, 820.1666666666666,369.5\" style=\"stroke-width: 0.5; stroke-opacity: 1; stroke: rgb(80, 80, 80);\"/><path class=\"link\" marker-end=\"\" d=\"M640.1666666666666,309.5, 820.1666666666666,369.5\" style=\"stroke-width: 0.5; stroke-opacity: 1; stroke: rgb(80, 80, 80);\"/><path class=\"link\" marker-end=\"\" d=\"M640.1666666666666,349.5, 820.1666666666666,369.5\" style=\"stroke-width: 0.5; stroke-opacity: 1; stroke: rgb(80, 80, 80);\"/><path class=\"link\" marker-end=\"\" d=\"M640.1666666666666,389.5, 820.1666666666666,369.5\" style=\"stroke-width: 0.5; stroke-opacity: 1; stroke: rgb(80, 80, 80);\"/><path class=\"link\" marker-end=\"\" d=\"M640.1666666666666,429.5, 820.1666666666666,369.5\" style=\"stroke-width: 0.5; stroke-opacity: 1; stroke: rgb(80, 80, 80);\"/><path class=\"link\" marker-end=\"\" d=\"M640.1666666666666,469.5, 820.1666666666666,369.5\" style=\"stroke-width: 0.5; stroke-opacity: 1; stroke: rgb(80, 80, 80);\"/><path class=\"link\" marker-end=\"\" d=\"M640.1666666666666,509.5, 820.1666666666666,369.5\" style=\"stroke-width: 0.5; stroke-opacity: 1; stroke: rgb(80, 80, 80);\"/><path class=\"link\" marker-end=\"\" d=\"M640.1666666666666,549.5, 820.1666666666666,369.5\" style=\"stroke-width: 0.5; stroke-opacity: 1; stroke: rgb(80, 80, 80);\"/><path class=\"link\" marker-end=\"\" d=\"M640.1666666666666,589.5, 820.1666666666666,369.5\" style=\"stroke-width: 0.5; stroke-opacity: 1; stroke: rgb(80, 80, 80);\"/><path class=\"link\" marker-end=\"\" d=\"M640.1666666666666,629.5, 820.1666666666666,369.5\" style=\"stroke-width: 0.5; stroke-opacity: 1; stroke: rgb(80, 80, 80);\"/><path class=\"link\" marker-end=\"\" d=\"M640.1666666666666,149.5, 820.1666666666666,329.5\" style=\"stroke-width: 0.5; stroke-opacity: 1; stroke: rgb(80, 80, 80);\"/><path class=\"link\" marker-end=\"\" d=\"M640.1666666666666,189.5, 820.1666666666666,329.5\" style=\"stroke-width: 0.5; stroke-opacity: 1; stroke: rgb(80, 80, 80);\"/><path class=\"link\" marker-end=\"\" d=\"M640.1666666666666,229.5, 820.1666666666666,329.5\" style=\"stroke-width: 0.5; stroke-opacity: 1; stroke: rgb(80, 80, 80);\"/><path class=\"link\" marker-end=\"\" d=\"M640.1666666666666,269.5, 820.1666666666666,329.5\" style=\"stroke-width: 0.5; stroke-opacity: 1; stroke: rgb(80, 80, 80);\"/><path class=\"link\" marker-end=\"\" d=\"M640.1666666666666,309.5, 820.1666666666666,329.5\" style=\"stroke-width: 0.5; stroke-opacity: 1; stroke: rgb(80, 80, 80);\"/><path class=\"link\" marker-end=\"\" d=\"M640.1666666666666,349.5, 820.1666666666666,329.5\" style=\"stroke-width: 0.5; stroke-opacity: 1; stroke: rgb(80, 80, 80);\"/><path class=\"link\" marker-end=\"\" d=\"M640.1666666666666,389.5, 820.1666666666666,329.5\" style=\"stroke-width: 0.5; stroke-opacity: 1; stroke: rgb(80, 80, 80);\"/><path class=\"link\" marker-end=\"\" d=\"M640.1666666666666,429.5, 820.1666666666666,329.5\" style=\"stroke-width: 0.5; stroke-opacity: 1; stroke: rgb(80, 80, 80);\"/><path class=\"link\" marker-end=\"\" d=\"M640.1666666666666,469.5, 820.1666666666666,329.5\" style=\"stroke-width: 0.5; stroke-opacity: 1; stroke: rgb(80, 80, 80);\"/><path class=\"link\" marker-end=\"\" d=\"M640.1666666666666,509.5, 820.1666666666666,329.5\" style=\"stroke-width: 0.5; stroke-opacity: 1; stroke: rgb(80, 80, 80);\"/><path class=\"link\" marker-end=\"\" d=\"M640.1666666666666,549.5, 820.1666666666666,329.5\" style=\"stroke-width: 0.5; stroke-opacity: 1; stroke: rgb(80, 80, 80);\"/><path class=\"link\" marker-end=\"\" d=\"M640.1666666666666,589.5, 820.1666666666666,329.5\" style=\"stroke-width: 0.5; stroke-opacity: 1; stroke: rgb(80, 80, 80);\"/><path class=\"link\" marker-end=\"\" d=\"M640.1666666666666,629.5, 820.1666666666666,329.5\" style=\"stroke-width: 0.5; stroke-opacity: 1; stroke: rgb(80, 80, 80);\"/><path class=\"link\" marker-end=\"\" d=\"M820.1666666666666,329.5, 1000.1666666666666,389.5\" style=\"stroke-width: 0.5; stroke-opacity: 1; stroke: rgb(80, 80, 80);\"/><path class=\"link\" marker-end=\"\" d=\"M820.1666666666666,369.5, 1000.1666666666666,389.5\" style=\"stroke-width: 0.5; stroke-opacity: 1; stroke: rgb(80, 80, 80);\"/><path class=\"link\" marker-end=\"\" d=\"M640.1666666666666,149.5, 820.1666666666666,409.5\" style=\"stroke-width: 0.5; stroke-opacity: 1; stroke: rgb(80, 80, 80);\"/><path class=\"link\" marker-end=\"\" d=\"M640.1666666666666,189.5, 820.1666666666666,409.5\" style=\"stroke-width: 0.5; stroke-opacity: 1; stroke: rgb(80, 80, 80);\"/><path class=\"link\" marker-end=\"\" d=\"M640.1666666666666,229.5, 820.1666666666666,409.5\" style=\"stroke-width: 0.5; stroke-opacity: 1; stroke: rgb(80, 80, 80);\"/><path class=\"link\" marker-end=\"\" d=\"M640.1666666666666,269.5, 820.1666666666666,409.5\" style=\"stroke-width: 0.5; stroke-opacity: 1; stroke: rgb(80, 80, 80);\"/><path class=\"link\" marker-end=\"\" d=\"M640.1666666666666,309.5, 820.1666666666666,409.5\" style=\"stroke-width: 0.5; stroke-opacity: 1; stroke: rgb(80, 80, 80);\"/><path class=\"link\" marker-end=\"\" d=\"M640.1666666666666,349.5, 820.1666666666666,409.5\" style=\"stroke-width: 0.5; stroke-opacity: 1; stroke: rgb(80, 80, 80);\"/><path class=\"link\" marker-end=\"\" d=\"M640.1666666666666,389.5, 820.1666666666666,409.5\" style=\"stroke-width: 0.5; stroke-opacity: 1; stroke: rgb(80, 80, 80);\"/><path class=\"link\" marker-end=\"\" d=\"M640.1666666666666,429.5, 820.1666666666666,409.5\" style=\"stroke-width: 0.5; stroke-opacity: 1; stroke: rgb(80, 80, 80);\"/><path class=\"link\" marker-end=\"\" d=\"M640.1666666666666,469.5, 820.1666666666666,409.5\" style=\"stroke-width: 0.5; stroke-opacity: 1; stroke: rgb(80, 80, 80);\"/><path class=\"link\" marker-end=\"\" d=\"M640.1666666666666,509.5, 820.1666666666666,409.5\" style=\"stroke-width: 0.5; stroke-opacity: 1; stroke: rgb(80, 80, 80);\"/><path class=\"link\" marker-end=\"\" d=\"M640.1666666666666,549.5, 820.1666666666666,409.5\" style=\"stroke-width: 0.5; stroke-opacity: 1; stroke: rgb(80, 80, 80);\"/><path class=\"link\" marker-end=\"\" d=\"M640.1666666666666,589.5, 820.1666666666666,409.5\" style=\"stroke-width: 0.5; stroke-opacity: 1; stroke: rgb(80, 80, 80);\"/><path class=\"link\" marker-end=\"\" d=\"M640.1666666666666,629.5, 820.1666666666666,409.5\" style=\"stroke-width: 0.5; stroke-opacity: 1; stroke: rgb(80, 80, 80);\"/><path class=\"link\" marker-end=\"\" d=\"M820.1666666666666,409.5, 1000.1666666666666,389.5\" style=\"stroke-width: 0.5; stroke-opacity: 1; stroke: rgb(80, 80, 80);\"/><path class=\"link\" marker-end=\"\" d=\"M640.1666666666666,149.5, 820.1666666666666,449.5\" style=\"stroke-width: 0.5; stroke-opacity: 1; stroke: rgb(80, 80, 80);\"/><path class=\"link\" marker-end=\"\" d=\"M640.1666666666666,189.5, 820.1666666666666,449.5\" style=\"stroke-width: 0.5; stroke-opacity: 1; stroke: rgb(80, 80, 80);\"/><path class=\"link\" marker-end=\"\" d=\"M640.1666666666666,229.5, 820.1666666666666,449.5\" style=\"stroke-width: 0.5; stroke-opacity: 1; stroke: rgb(80, 80, 80);\"/><path class=\"link\" marker-end=\"\" d=\"M640.1666666666666,269.5, 820.1666666666666,449.5\" style=\"stroke-width: 0.5; stroke-opacity: 1; stroke: rgb(80, 80, 80);\"/><path class=\"link\" marker-end=\"\" d=\"M640.1666666666666,309.5, 820.1666666666666,449.5\" style=\"stroke-width: 0.5; stroke-opacity: 1; stroke: rgb(80, 80, 80);\"/><path class=\"link\" marker-end=\"\" d=\"M640.1666666666666,349.5, 820.1666666666666,449.5\" style=\"stroke-width: 0.5; stroke-opacity: 1; stroke: rgb(80, 80, 80);\"/><path class=\"link\" marker-end=\"\" d=\"M640.1666666666666,389.5, 820.1666666666666,449.5\" style=\"stroke-width: 0.5; stroke-opacity: 1; stroke: rgb(80, 80, 80);\"/><path class=\"link\" marker-end=\"\" d=\"M640.1666666666666,429.5, 820.1666666666666,449.5\" style=\"stroke-width: 0.5; stroke-opacity: 1; stroke: rgb(80, 80, 80);\"/><path class=\"link\" marker-end=\"\" d=\"M640.1666666666666,469.5, 820.1666666666666,449.5\" style=\"stroke-width: 0.5; stroke-opacity: 1; stroke: rgb(80, 80, 80);\"/><path class=\"link\" marker-end=\"\" d=\"M640.1666666666666,509.5, 820.1666666666666,449.5\" style=\"stroke-width: 0.5; stroke-opacity: 1; stroke: rgb(80, 80, 80);\"/><path class=\"link\" marker-end=\"\" d=\"M640.1666666666666,549.5, 820.1666666666666,449.5\" style=\"stroke-width: 0.5; stroke-opacity: 1; stroke: rgb(80, 80, 80);\"/><path class=\"link\" marker-end=\"\" d=\"M640.1666666666666,589.5, 820.1666666666666,449.5\" style=\"stroke-width: 0.5; stroke-opacity: 1; stroke: rgb(80, 80, 80);\"/><path class=\"link\" marker-end=\"\" d=\"M640.1666666666666,629.5, 820.1666666666666,449.5\" style=\"stroke-width: 0.5; stroke-opacity: 1; stroke: rgb(80, 80, 80);\"/><path class=\"link\" marker-end=\"\" d=\"M820.1666666666666,449.5, 1000.1666666666666,389.5\" style=\"stroke-width: 0.5; stroke-opacity: 1; stroke: rgb(80, 80, 80);\"/><circle r=\"10\" class=\"node\" id=\"0_0\" cx=\"640.1666666666666\" cy=\"149.5\" style=\"fill: rgb(255, 255, 255); stroke: rgb(51, 51, 51);\"/><circle r=\"10\" class=\"node\" id=\"0_1\" cx=\"640.1666666666666\" cy=\"189.5\" style=\"fill: rgb(255, 255, 255); stroke: rgb(51, 51, 51);\"/><circle r=\"10\" class=\"node\" id=\"0_2\" cx=\"640.1666666666666\" cy=\"229.5\" style=\"fill: rgb(255, 255, 255); stroke: rgb(51, 51, 51);\"/><circle r=\"10\" class=\"node\" id=\"0_3\" cx=\"640.1666666666666\" cy=\"269.5\" style=\"fill: rgb(255, 255, 255); stroke: rgb(51, 51, 51);\"/><circle r=\"10\" class=\"node\" id=\"0_4\" cx=\"640.1666666666666\" cy=\"309.5\" style=\"fill: rgb(255, 255, 255); stroke: rgb(51, 51, 51);\"/><circle r=\"10\" class=\"node\" id=\"0_5\" cx=\"640.1666666666666\" cy=\"349.5\" style=\"fill: rgb(255, 255, 255); stroke: rgb(51, 51, 51);\"/><circle r=\"10\" class=\"node\" id=\"0_6\" cx=\"640.1666666666666\" cy=\"389.5\" style=\"fill: rgb(255, 255, 255); stroke: rgb(51, 51, 51);\"/><circle r=\"10\" class=\"node\" id=\"0_7\" cx=\"640.1666666666666\" cy=\"429.5\" style=\"fill: rgb(255, 255, 255); stroke: rgb(51, 51, 51);\"/><circle r=\"10\" class=\"node\" id=\"0_8\" cx=\"640.1666666666666\" cy=\"469.5\" style=\"fill: rgb(255, 255, 255); stroke: rgb(51, 51, 51);\"/><circle r=\"10\" class=\"node\" id=\"0_9\" cx=\"640.1666666666666\" cy=\"509.5\" style=\"fill: rgb(255, 255, 255); stroke: rgb(51, 51, 51);\"/><circle r=\"10\" class=\"node\" id=\"0_10\" cx=\"640.1666666666666\" cy=\"549.5\" style=\"fill: rgb(255, 255, 255); stroke: rgb(51, 51, 51);\"/><circle r=\"10\" class=\"node\" id=\"0_11\" cx=\"640.1666666666666\" cy=\"589.5\" style=\"fill: rgb(255, 255, 255); stroke: rgb(51, 51, 51);\"/><circle r=\"10\" class=\"node\" id=\"0_12\" cx=\"640.1666666666666\" cy=\"629.5\" style=\"fill: rgb(255, 255, 255); stroke: rgb(51, 51, 51);\"/><circle r=\"10\" class=\"node\" id=\"1_0\" cx=\"820.1666666666666\" cy=\"329.5\" style=\"fill: rgb(255, 255, 255); stroke: rgb(51, 51, 51);\"/><circle r=\"10\" class=\"node\" id=\"1_1\" cx=\"820.1666666666666\" cy=\"369.5\" style=\"fill: rgb(255, 255, 255); stroke: rgb(51, 51, 51);\"/><circle r=\"10\" class=\"node\" id=\"1_2\" cx=\"820.1666666666666\" cy=\"409.5\" style=\"fill: rgb(255, 255, 255); stroke: rgb(51, 51, 51);\"/><circle r=\"10\" class=\"node\" id=\"1_3\" cx=\"820.1666666666666\" cy=\"449.5\" style=\"fill: rgb(255, 255, 255); stroke: rgb(51, 51, 51);\"/><circle r=\"10\" class=\"node\" id=\"2_0\" cx=\"1000.1666666666666\" cy=\"389.5\" style=\"fill: rgb(255, 255, 255); stroke: rgb(51, 51, 51);\"/><text class=\"text\" dy=\".35em\" x=\"605.1666666666666\" y=\"669.5\" style=\"font-size: 12px;\">Input Layer ∈ ℝ¹³</text><text class=\"text\" dy=\".35em\" x=\"785.1666666666666\" y=\"669.5\" style=\"font-size: 12px;\">Hidden Layer ∈ ℝ⁴</text><text class=\"text\" dy=\".35em\" x=\"965.1666666666666\" y=\"669.5\" style=\"font-size: 12px;\">Hidden Layer ∈ ℝ¹</text><text class=\"text\" dy=\".35em\" x=\"1145.1666666666667\" y=\"669.5\" style=\"font-size: 12px;\">Output Layer ∈ ℝ⁰</text></g><defs><marker id=\"arrow\" viewBox=\"0 -5 10 10\" markerWidth=\"7\" markerHeight=\"7\" orient=\"auto\" refX=\"40\"><path d=\"M0,-5L10,0L0,5\" style=\"stroke: rgb(80, 80, 80); fill: none;\"/></marker></defs></svg>"
          },
          "metadata": {}
        }
      ]
    },
    {
      "cell_type": "markdown",
      "source": [
        "# Model building 5 (experimenting with RMSprop optimizer)\n",
        "The fifth model attempts to use a different optimizer when compiling the model, the RMSprop optimizer. The architecture are as follows:\n",
        "\n",
        "* Fully connected neural network (Dense)\n",
        "* First layer   - 4 neurons -AF: RELU\n",
        "* Second layer  - 1 neuron  -AF: Sigmoid\n",
        "\n",
        "Note: the test score are considerably high, similar to model_4\n"
      ],
      "metadata": {
        "id": "lsLJIq0mmLZ0"
      }
    },
    {
      "cell_type": "code",
      "source": [
        "# Define the model:\n",
        "model_5 = Sequential()\n",
        "model_5.add(Dense(4, input_dim=12, activation='relu'))\n",
        "model_5.add(Dense(1, activation='sigmoid'))\n",
        "print(model_5.summary())"
      ],
      "metadata": {
        "colab": {
          "base_uri": "https://localhost:8080/"
        },
        "outputId": "7ef2755b-364a-40a0-c2d2-352ba4bbad12",
        "id": "9ZSC06p6mLaB"
      },
      "execution_count": null,
      "outputs": [
        {
          "output_type": "stream",
          "name": "stdout",
          "text": [
            "Model: \"sequential_5\"\n",
            "_________________________________________________________________\n",
            " Layer (type)                Output Shape              Param #   \n",
            "=================================================================\n",
            " dense_12 (Dense)            (None, 4)                 52        \n",
            "                                                                 \n",
            " dense_13 (Dense)            (None, 1)                 5         \n",
            "                                                                 \n",
            "=================================================================\n",
            "Total params: 57\n",
            "Trainable params: 57\n",
            "Non-trainable params: 0\n",
            "_________________________________________________________________\n",
            "None\n"
          ]
        }
      ]
    },
    {
      "cell_type": "code",
      "source": [
        "#Compile the model\n",
        "model_5.compile(loss='binary_crossentropy', optimizer='RMSprop', metrics=['accuracy'])\n",
        "\n",
        "#Fit training data to the model\n",
        "model_5.fit(x_train, y_train, epochs=10, batch_size=32, validation_data=(x_test, y_test))"
      ],
      "metadata": {
        "colab": {
          "base_uri": "https://localhost:8080/"
        },
        "outputId": "16da9e2b-31bc-4626-eab6-3a98b881e7e1",
        "id": "jivearc_mLaC"
      },
      "execution_count": null,
      "outputs": [
        {
          "output_type": "stream",
          "name": "stdout",
          "text": [
            "Epoch 1/10\n",
            "143/143 [==============================] - 1s 4ms/step - loss: 3.6220 - accuracy: 0.4568 - val_loss: 0.9619 - val_accuracy: 0.7333\n",
            "Epoch 2/10\n",
            "143/143 [==============================] - 0s 3ms/step - loss: 0.5852 - accuracy: 0.7860 - val_loss: 0.3510 - val_accuracy: 0.8805\n",
            "Epoch 3/10\n",
            "143/143 [==============================] - 0s 3ms/step - loss: 0.2973 - accuracy: 0.8971 - val_loss: 0.2592 - val_accuracy: 0.9123\n",
            "Epoch 4/10\n",
            "143/143 [==============================] - 0s 3ms/step - loss: 0.2432 - accuracy: 0.9166 - val_loss: 0.2267 - val_accuracy: 0.9236\n",
            "Epoch 5/10\n",
            "143/143 [==============================] - 0s 3ms/step - loss: 0.2209 - accuracy: 0.9259 - val_loss: 0.2124 - val_accuracy: 0.9282\n",
            "Epoch 6/10\n",
            "143/143 [==============================] - 0s 3ms/step - loss: 0.2094 - accuracy: 0.9314 - val_loss: 0.2029 - val_accuracy: 0.9318\n",
            "Epoch 7/10\n",
            "143/143 [==============================] - 0s 3ms/step - loss: 0.2047 - accuracy: 0.9320 - val_loss: 0.2011 - val_accuracy: 0.9313\n",
            "Epoch 8/10\n",
            "143/143 [==============================] - 0s 3ms/step - loss: 0.2015 - accuracy: 0.9331 - val_loss: 0.1981 - val_accuracy: 0.9313\n",
            "Epoch 9/10\n",
            "143/143 [==============================] - 0s 3ms/step - loss: 0.1999 - accuracy: 0.9340 - val_loss: 0.1960 - val_accuracy: 0.9333\n",
            "Epoch 10/10\n",
            "143/143 [==============================] - 0s 3ms/step - loss: 0.1981 - accuracy: 0.9334 - val_loss: 0.1942 - val_accuracy: 0.9338\n"
          ]
        },
        {
          "output_type": "execute_result",
          "data": {
            "text/plain": [
              "<keras.callbacks.History at 0x7f7013b59c30>"
            ]
          },
          "metadata": {},
          "execution_count": 25
        }
      ]
    },
    {
      "cell_type": "code",
      "source": [
        "# Evaluate model on the test data \n",
        "loss, accuracy = model_5.evaluate(x_test, y_test)\n",
        "print(f'Test Loss: {loss:.4f}')\n",
        "print(f'Test Accuracy: {accuracy:.4f}')"
      ],
      "metadata": {
        "colab": {
          "base_uri": "https://localhost:8080/"
        },
        "outputId": "00ce2e03-9456-4042-d128-798b32508afd",
        "id": "6lufZP8dmLaC"
      },
      "execution_count": null,
      "outputs": [
        {
          "output_type": "stream",
          "name": "stdout",
          "text": [
            "61/61 [==============================] - 0s 1ms/step - loss: 0.1942 - accuracy: 0.9338\n",
            "Test Loss: 0.1942\n",
            "Test Accuracy: 0.9338\n"
          ]
        }
      ]
    },
    {
      "cell_type": "code",
      "source": [
        "svg4_path = '/content/drive/MyDrive/Colab Notebooks/nn (4).svg'\n",
        "display(SVG(svg4_path))\n"
      ],
      "metadata": {
        "colab": {
          "base_uri": "https://localhost:8080/",
          "height": 840
        },
        "outputId": "ea31148c-422a-4ac1-a895-d82a49e42ff9",
        "id": "bhUQ41_Ec0k5"
      },
      "execution_count": null,
      "outputs": [
        {
          "output_type": "display_data",
          "data": {
            "text/plain": [
              "<IPython.core.display.SVG object>"
            ],
            "image/svg+xml": "<svg xmlns=\"http://www.w3.org/2000/svg\" width=\"1707\" height=\"799\" style=\"cursor: move; touch-action: none; -webkit-tap-highlight-color: rgba(0, 0, 0, 0);\"><g transform=\"translate(-380.3881664074986,-305.84859491033967) scale(1.5157165665103982)\"><path class=\"link\" marker-end=\"\" d=\"M640.1666666666666,149.5, 820.1666666666666,369.5\" style=\"stroke-width: 0.5; stroke-opacity: 1; stroke: rgb(80, 80, 80);\"/><path class=\"link\" marker-end=\"\" d=\"M640.1666666666666,189.5, 820.1666666666666,369.5\" style=\"stroke-width: 0.5; stroke-opacity: 1; stroke: rgb(80, 80, 80);\"/><path class=\"link\" marker-end=\"\" d=\"M640.1666666666666,229.5, 820.1666666666666,369.5\" style=\"stroke-width: 0.5; stroke-opacity: 1; stroke: rgb(80, 80, 80);\"/><path class=\"link\" marker-end=\"\" d=\"M640.1666666666666,269.5, 820.1666666666666,369.5\" style=\"stroke-width: 0.5; stroke-opacity: 1; stroke: rgb(80, 80, 80);\"/><path class=\"link\" marker-end=\"\" d=\"M640.1666666666666,309.5, 820.1666666666666,369.5\" style=\"stroke-width: 0.5; stroke-opacity: 1; stroke: rgb(80, 80, 80);\"/><path class=\"link\" marker-end=\"\" d=\"M640.1666666666666,349.5, 820.1666666666666,369.5\" style=\"stroke-width: 0.5; stroke-opacity: 1; stroke: rgb(80, 80, 80);\"/><path class=\"link\" marker-end=\"\" d=\"M640.1666666666666,389.5, 820.1666666666666,369.5\" style=\"stroke-width: 0.5; stroke-opacity: 1; stroke: rgb(80, 80, 80);\"/><path class=\"link\" marker-end=\"\" d=\"M640.1666666666666,429.5, 820.1666666666666,369.5\" style=\"stroke-width: 0.5; stroke-opacity: 1; stroke: rgb(80, 80, 80);\"/><path class=\"link\" marker-end=\"\" d=\"M640.1666666666666,469.5, 820.1666666666666,369.5\" style=\"stroke-width: 0.5; stroke-opacity: 1; stroke: rgb(80, 80, 80);\"/><path class=\"link\" marker-end=\"\" d=\"M640.1666666666666,509.5, 820.1666666666666,369.5\" style=\"stroke-width: 0.5; stroke-opacity: 1; stroke: rgb(80, 80, 80);\"/><path class=\"link\" marker-end=\"\" d=\"M640.1666666666666,549.5, 820.1666666666666,369.5\" style=\"stroke-width: 0.5; stroke-opacity: 1; stroke: rgb(80, 80, 80);\"/><path class=\"link\" marker-end=\"\" d=\"M640.1666666666666,589.5, 820.1666666666666,369.5\" style=\"stroke-width: 0.5; stroke-opacity: 1; stroke: rgb(80, 80, 80);\"/><path class=\"link\" marker-end=\"\" d=\"M640.1666666666666,629.5, 820.1666666666666,369.5\" style=\"stroke-width: 0.5; stroke-opacity: 1; stroke: rgb(80, 80, 80);\"/><path class=\"link\" marker-end=\"\" d=\"M640.1666666666666,149.5, 820.1666666666666,329.5\" style=\"stroke-width: 0.5; stroke-opacity: 1; stroke: rgb(80, 80, 80);\"/><path class=\"link\" marker-end=\"\" d=\"M640.1666666666666,189.5, 820.1666666666666,329.5\" style=\"stroke-width: 0.5; stroke-opacity: 1; stroke: rgb(80, 80, 80);\"/><path class=\"link\" marker-end=\"\" d=\"M640.1666666666666,229.5, 820.1666666666666,329.5\" style=\"stroke-width: 0.5; stroke-opacity: 1; stroke: rgb(80, 80, 80);\"/><path class=\"link\" marker-end=\"\" d=\"M640.1666666666666,269.5, 820.1666666666666,329.5\" style=\"stroke-width: 0.5; stroke-opacity: 1; stroke: rgb(80, 80, 80);\"/><path class=\"link\" marker-end=\"\" d=\"M640.1666666666666,309.5, 820.1666666666666,329.5\" style=\"stroke-width: 0.5; stroke-opacity: 1; stroke: rgb(80, 80, 80);\"/><path class=\"link\" marker-end=\"\" d=\"M640.1666666666666,349.5, 820.1666666666666,329.5\" style=\"stroke-width: 0.5; stroke-opacity: 1; stroke: rgb(80, 80, 80);\"/><path class=\"link\" marker-end=\"\" d=\"M640.1666666666666,389.5, 820.1666666666666,329.5\" style=\"stroke-width: 0.5; stroke-opacity: 1; stroke: rgb(80, 80, 80);\"/><path class=\"link\" marker-end=\"\" d=\"M640.1666666666666,429.5, 820.1666666666666,329.5\" style=\"stroke-width: 0.5; stroke-opacity: 1; stroke: rgb(80, 80, 80);\"/><path class=\"link\" marker-end=\"\" d=\"M640.1666666666666,469.5, 820.1666666666666,329.5\" style=\"stroke-width: 0.5; stroke-opacity: 1; stroke: rgb(80, 80, 80);\"/><path class=\"link\" marker-end=\"\" d=\"M640.1666666666666,509.5, 820.1666666666666,329.5\" style=\"stroke-width: 0.5; stroke-opacity: 1; stroke: rgb(80, 80, 80);\"/><path class=\"link\" marker-end=\"\" d=\"M640.1666666666666,549.5, 820.1666666666666,329.5\" style=\"stroke-width: 0.5; stroke-opacity: 1; stroke: rgb(80, 80, 80);\"/><path class=\"link\" marker-end=\"\" d=\"M640.1666666666666,589.5, 820.1666666666666,329.5\" style=\"stroke-width: 0.5; stroke-opacity: 1; stroke: rgb(80, 80, 80);\"/><path class=\"link\" marker-end=\"\" d=\"M640.1666666666666,629.5, 820.1666666666666,329.5\" style=\"stroke-width: 0.5; stroke-opacity: 1; stroke: rgb(80, 80, 80);\"/><path class=\"link\" marker-end=\"\" d=\"M820.1666666666666,329.5, 1000.1666666666666,389.5\" style=\"stroke-width: 0.5; stroke-opacity: 1; stroke: rgb(80, 80, 80);\"/><path class=\"link\" marker-end=\"\" d=\"M820.1666666666666,369.5, 1000.1666666666666,389.5\" style=\"stroke-width: 0.5; stroke-opacity: 1; stroke: rgb(80, 80, 80);\"/><path class=\"link\" marker-end=\"\" d=\"M640.1666666666666,149.5, 820.1666666666666,409.5\" style=\"stroke-width: 0.5; stroke-opacity: 1; stroke: rgb(80, 80, 80);\"/><path class=\"link\" marker-end=\"\" d=\"M640.1666666666666,189.5, 820.1666666666666,409.5\" style=\"stroke-width: 0.5; stroke-opacity: 1; stroke: rgb(80, 80, 80);\"/><path class=\"link\" marker-end=\"\" d=\"M640.1666666666666,229.5, 820.1666666666666,409.5\" style=\"stroke-width: 0.5; stroke-opacity: 1; stroke: rgb(80, 80, 80);\"/><path class=\"link\" marker-end=\"\" d=\"M640.1666666666666,269.5, 820.1666666666666,409.5\" style=\"stroke-width: 0.5; stroke-opacity: 1; stroke: rgb(80, 80, 80);\"/><path class=\"link\" marker-end=\"\" d=\"M640.1666666666666,309.5, 820.1666666666666,409.5\" style=\"stroke-width: 0.5; stroke-opacity: 1; stroke: rgb(80, 80, 80);\"/><path class=\"link\" marker-end=\"\" d=\"M640.1666666666666,349.5, 820.1666666666666,409.5\" style=\"stroke-width: 0.5; stroke-opacity: 1; stroke: rgb(80, 80, 80);\"/><path class=\"link\" marker-end=\"\" d=\"M640.1666666666666,389.5, 820.1666666666666,409.5\" style=\"stroke-width: 0.5; stroke-opacity: 1; stroke: rgb(80, 80, 80);\"/><path class=\"link\" marker-end=\"\" d=\"M640.1666666666666,429.5, 820.1666666666666,409.5\" style=\"stroke-width: 0.5; stroke-opacity: 1; stroke: rgb(80, 80, 80);\"/><path class=\"link\" marker-end=\"\" d=\"M640.1666666666666,469.5, 820.1666666666666,409.5\" style=\"stroke-width: 0.5; stroke-opacity: 1; stroke: rgb(80, 80, 80);\"/><path class=\"link\" marker-end=\"\" d=\"M640.1666666666666,509.5, 820.1666666666666,409.5\" style=\"stroke-width: 0.5; stroke-opacity: 1; stroke: rgb(80, 80, 80);\"/><path class=\"link\" marker-end=\"\" d=\"M640.1666666666666,549.5, 820.1666666666666,409.5\" style=\"stroke-width: 0.5; stroke-opacity: 1; stroke: rgb(80, 80, 80);\"/><path class=\"link\" marker-end=\"\" d=\"M640.1666666666666,589.5, 820.1666666666666,409.5\" style=\"stroke-width: 0.5; stroke-opacity: 1; stroke: rgb(80, 80, 80);\"/><path class=\"link\" marker-end=\"\" d=\"M640.1666666666666,629.5, 820.1666666666666,409.5\" style=\"stroke-width: 0.5; stroke-opacity: 1; stroke: rgb(80, 80, 80);\"/><path class=\"link\" marker-end=\"\" d=\"M820.1666666666666,409.5, 1000.1666666666666,389.5\" style=\"stroke-width: 0.5; stroke-opacity: 1; stroke: rgb(80, 80, 80);\"/><path class=\"link\" marker-end=\"\" d=\"M640.1666666666666,149.5, 820.1666666666666,449.5\" style=\"stroke-width: 0.5; stroke-opacity: 1; stroke: rgb(80, 80, 80);\"/><path class=\"link\" marker-end=\"\" d=\"M640.1666666666666,189.5, 820.1666666666666,449.5\" style=\"stroke-width: 0.5; stroke-opacity: 1; stroke: rgb(80, 80, 80);\"/><path class=\"link\" marker-end=\"\" d=\"M640.1666666666666,229.5, 820.1666666666666,449.5\" style=\"stroke-width: 0.5; stroke-opacity: 1; stroke: rgb(80, 80, 80);\"/><path class=\"link\" marker-end=\"\" d=\"M640.1666666666666,269.5, 820.1666666666666,449.5\" style=\"stroke-width: 0.5; stroke-opacity: 1; stroke: rgb(80, 80, 80);\"/><path class=\"link\" marker-end=\"\" d=\"M640.1666666666666,309.5, 820.1666666666666,449.5\" style=\"stroke-width: 0.5; stroke-opacity: 1; stroke: rgb(80, 80, 80);\"/><path class=\"link\" marker-end=\"\" d=\"M640.1666666666666,349.5, 820.1666666666666,449.5\" style=\"stroke-width: 0.5; stroke-opacity: 1; stroke: rgb(80, 80, 80);\"/><path class=\"link\" marker-end=\"\" d=\"M640.1666666666666,389.5, 820.1666666666666,449.5\" style=\"stroke-width: 0.5; stroke-opacity: 1; stroke: rgb(80, 80, 80);\"/><path class=\"link\" marker-end=\"\" d=\"M640.1666666666666,429.5, 820.1666666666666,449.5\" style=\"stroke-width: 0.5; stroke-opacity: 1; stroke: rgb(80, 80, 80);\"/><path class=\"link\" marker-end=\"\" d=\"M640.1666666666666,469.5, 820.1666666666666,449.5\" style=\"stroke-width: 0.5; stroke-opacity: 1; stroke: rgb(80, 80, 80);\"/><path class=\"link\" marker-end=\"\" d=\"M640.1666666666666,509.5, 820.1666666666666,449.5\" style=\"stroke-width: 0.5; stroke-opacity: 1; stroke: rgb(80, 80, 80);\"/><path class=\"link\" marker-end=\"\" d=\"M640.1666666666666,549.5, 820.1666666666666,449.5\" style=\"stroke-width: 0.5; stroke-opacity: 1; stroke: rgb(80, 80, 80);\"/><path class=\"link\" marker-end=\"\" d=\"M640.1666666666666,589.5, 820.1666666666666,449.5\" style=\"stroke-width: 0.5; stroke-opacity: 1; stroke: rgb(80, 80, 80);\"/><path class=\"link\" marker-end=\"\" d=\"M640.1666666666666,629.5, 820.1666666666666,449.5\" style=\"stroke-width: 0.5; stroke-opacity: 1; stroke: rgb(80, 80, 80);\"/><path class=\"link\" marker-end=\"\" d=\"M820.1666666666666,449.5, 1000.1666666666666,389.5\" style=\"stroke-width: 0.5; stroke-opacity: 1; stroke: rgb(80, 80, 80);\"/><circle r=\"10\" class=\"node\" id=\"0_0\" cx=\"640.1666666666666\" cy=\"149.5\" style=\"fill: rgb(255, 255, 255); stroke: rgb(51, 51, 51);\"/><circle r=\"10\" class=\"node\" id=\"0_1\" cx=\"640.1666666666666\" cy=\"189.5\" style=\"fill: rgb(255, 255, 255); stroke: rgb(51, 51, 51);\"/><circle r=\"10\" class=\"node\" id=\"0_2\" cx=\"640.1666666666666\" cy=\"229.5\" style=\"fill: rgb(255, 255, 255); stroke: rgb(51, 51, 51);\"/><circle r=\"10\" class=\"node\" id=\"0_3\" cx=\"640.1666666666666\" cy=\"269.5\" style=\"fill: rgb(255, 255, 255); stroke: rgb(51, 51, 51);\"/><circle r=\"10\" class=\"node\" id=\"0_4\" cx=\"640.1666666666666\" cy=\"309.5\" style=\"fill: rgb(255, 255, 255); stroke: rgb(51, 51, 51);\"/><circle r=\"10\" class=\"node\" id=\"0_5\" cx=\"640.1666666666666\" cy=\"349.5\" style=\"fill: rgb(255, 255, 255); stroke: rgb(51, 51, 51);\"/><circle r=\"10\" class=\"node\" id=\"0_6\" cx=\"640.1666666666666\" cy=\"389.5\" style=\"fill: rgb(255, 255, 255); stroke: rgb(51, 51, 51);\"/><circle r=\"10\" class=\"node\" id=\"0_7\" cx=\"640.1666666666666\" cy=\"429.5\" style=\"fill: rgb(255, 255, 255); stroke: rgb(51, 51, 51);\"/><circle r=\"10\" class=\"node\" id=\"0_8\" cx=\"640.1666666666666\" cy=\"469.5\" style=\"fill: rgb(255, 255, 255); stroke: rgb(51, 51, 51);\"/><circle r=\"10\" class=\"node\" id=\"0_9\" cx=\"640.1666666666666\" cy=\"509.5\" style=\"fill: rgb(255, 255, 255); stroke: rgb(51, 51, 51);\"/><circle r=\"10\" class=\"node\" id=\"0_10\" cx=\"640.1666666666666\" cy=\"549.5\" style=\"fill: rgb(255, 255, 255); stroke: rgb(51, 51, 51);\"/><circle r=\"10\" class=\"node\" id=\"0_11\" cx=\"640.1666666666666\" cy=\"589.5\" style=\"fill: rgb(255, 255, 255); stroke: rgb(51, 51, 51);\"/><circle r=\"10\" class=\"node\" id=\"0_12\" cx=\"640.1666666666666\" cy=\"629.5\" style=\"fill: rgb(255, 255, 255); stroke: rgb(51, 51, 51);\"/><circle r=\"10\" class=\"node\" id=\"1_0\" cx=\"820.1666666666666\" cy=\"329.5\" style=\"fill: rgb(255, 255, 255); stroke: rgb(51, 51, 51);\"/><circle r=\"10\" class=\"node\" id=\"1_1\" cx=\"820.1666666666666\" cy=\"369.5\" style=\"fill: rgb(255, 255, 255); stroke: rgb(51, 51, 51);\"/><circle r=\"10\" class=\"node\" id=\"1_2\" cx=\"820.1666666666666\" cy=\"409.5\" style=\"fill: rgb(255, 255, 255); stroke: rgb(51, 51, 51);\"/><circle r=\"10\" class=\"node\" id=\"1_3\" cx=\"820.1666666666666\" cy=\"449.5\" style=\"fill: rgb(255, 255, 255); stroke: rgb(51, 51, 51);\"/><circle r=\"10\" class=\"node\" id=\"2_0\" cx=\"1000.1666666666666\" cy=\"389.5\" style=\"fill: rgb(255, 255, 255); stroke: rgb(51, 51, 51);\"/><text class=\"text\" dy=\".35em\" x=\"605.1666666666666\" y=\"669.5\" style=\"font-size: 12px;\">Input Layer ∈ ℝ¹³</text><text class=\"text\" dy=\".35em\" x=\"785.1666666666666\" y=\"669.5\" style=\"font-size: 12px;\">Hidden Layer ∈ ℝ⁴</text><text class=\"text\" dy=\".35em\" x=\"965.1666666666666\" y=\"669.5\" style=\"font-size: 12px;\">Hidden Layer ∈ ℝ¹</text><text class=\"text\" dy=\".35em\" x=\"1145.1666666666667\" y=\"669.5\" style=\"font-size: 12px;\">Output Layer ∈ ℝ⁰</text></g><defs><marker id=\"arrow\" viewBox=\"0 -5 10 10\" markerWidth=\"7\" markerHeight=\"7\" orient=\"auto\" refX=\"40\"><path d=\"M0,-5L10,0L0,5\" style=\"stroke: rgb(80, 80, 80); fill: none;\"/></marker></defs></svg>"
          },
          "metadata": {}
        }
      ]
    },
    {
      "cell_type": "markdown",
      "source": [
        "#Tuning Model 4 and 5\n",
        "Since Model_4 and Model_5 has the highest test score so far, hyperparameter tuning will be performed on the combination of both models.\n",
        "The new model will be using the tanh activation function whilst optimized using the RMSprop optimizer. \n",
        "* Fully connected neural network (Dense)\n",
        "* First layer   - 4 neurons -AF: tanh\n",
        "* Second layer  - 2 neuron  -AF: Sigmoid\n",
        "\n",
        "GirdSeach is also utilized to find the best parameters to fit the model.\n",
        "\n"
      ],
      "metadata": {
        "id": "wkXiKNxJnX4y"
      }
    },
    {
      "cell_type": "code",
      "source": [
        "from keras.wrappers.scikit_learn import KerasClassifier\n",
        "from sklearn.model_selection import GridSearchCV\n",
        "\n",
        "# Define the function to create the model\n",
        "def create_model(hidden_units=4, learning_rate=0.01):\n",
        "    model = Sequential()\n",
        "    model.add(Dense(4, input_dim=12, activation='tanh'))\n",
        "    model.add(Dense(1, activation='sigmoid'))\n",
        "    model.compile(loss='binary_crossentropy', optimizer='RMSprop', metrics=['accuracy'])\n",
        "    return model\n",
        "\n",
        "# Wrap the model creation function in KerasClassifier\n",
        "keras_model = KerasClassifier(build_fn=create_model)\n",
        "\n",
        "# Define the parameter grid\n",
        "param_grid = {\n",
        "    'hidden_units': [4, 8, 16],\n",
        "    'learning_rate': [0.1, 0.01, 0.001],\n",
        "    'batch_size': [20, 32, 64],\n",
        "}\n",
        "\n",
        "\n",
        "# Create the GridSearchCV object\n",
        "grid_search = GridSearchCV(estimator=keras_model, param_grid=param_grid, cv=5)\n",
        "\n",
        "# Fit the training data to perform the grid search\n",
        "grid_search.fit(x_train, y_train)\n",
        "\n",
        "# Print the best parameters and score\n",
        "print(grid_search.best_params_)\n",
        "print(grid_search.best_score_)\n"
      ],
      "metadata": {
        "colab": {
          "base_uri": "https://localhost:8080/"
        },
        "id": "-d1jt8gGotS_",
        "outputId": "af67f65e-66ef-4289-b835-82119af9b252"
      },
      "execution_count": null,
      "outputs": [
        {
          "output_type": "stream",
          "name": "stderr",
          "text": [
            "<ipython-input-43-a35e2114ddea>:13: DeprecationWarning: KerasClassifier is deprecated, use Sci-Keras (https://github.com/adriangb/scikeras) instead. See https://www.adriangb.com/scikeras/stable/migration.html for help migrating.\n",
            "  keras_model = KerasClassifier(build_fn=create_model)\n"
          ]
        },
        {
          "output_type": "stream",
          "name": "stdout",
          "text": [
            "182/182 [==============================] - 1s 2ms/step - loss: 1.3541 - accuracy: 0.2433\n",
            "46/46 [==============================] - 0s 2ms/step - loss: 1.0914 - accuracy: 0.2571\n",
            "182/182 [==============================] - 1s 2ms/step - loss: 0.4635 - accuracy: 0.9062\n",
            "46/46 [==============================] - 0s 2ms/step - loss: 0.3657 - accuracy: 0.9231\n",
            "182/182 [==============================] - 1s 2ms/step - loss: 0.5340 - accuracy: 0.8601\n",
            "46/46 [==============================] - 0s 1ms/step - loss: 0.3966 - accuracy: 0.9219\n",
            "182/182 [==============================] - 1s 2ms/step - loss: 0.3648 - accuracy: 0.8637\n",
            "46/46 [==============================] - 0s 1ms/step - loss: 0.2969 - accuracy: 0.9109\n",
            "182/182 [==============================] - 1s 2ms/step - loss: 0.6431 - accuracy: 0.7529\n",
            "46/46 [==============================] - 0s 2ms/step - loss: 0.5662 - accuracy: 0.7580\n",
            "182/182 [==============================] - 1s 2ms/step - loss: 0.4661 - accuracy: 0.8675\n",
            "46/46 [==============================] - 0s 1ms/step - loss: 0.4174 - accuracy: 0.8659\n",
            "182/182 [==============================] - 1s 2ms/step - loss: 0.5914 - accuracy: 0.7921\n",
            "46/46 [==============================] - 0s 2ms/step - loss: 0.4562 - accuracy: 0.8703\n",
            "182/182 [==============================] - 1s 2ms/step - loss: 0.3512 - accuracy: 0.8879\n",
            "46/46 [==============================] - 0s 2ms/step - loss: 0.2903 - accuracy: 0.9153\n",
            "182/182 [==============================] - 1s 2ms/step - loss: 0.5637 - accuracy: 0.7518\n",
            "46/46 [==============================] - 0s 2ms/step - loss: 0.5496 - accuracy: 0.7624\n",
            "182/182 [==============================] - 1s 2ms/step - loss: 1.0949 - accuracy: 0.2471\n",
            "46/46 [==============================] - 0s 2ms/step - loss: 0.8057 - accuracy: 0.2420\n",
            "182/182 [==============================] - 1s 2ms/step - loss: 0.4039 - accuracy: 0.8455\n",
            "46/46 [==============================] - 0s 2ms/step - loss: 0.3254 - accuracy: 0.9209\n",
            "182/182 [==============================] - 1s 2ms/step - loss: 0.7941 - accuracy: 0.2846\n",
            "46/46 [==============================] - 0s 2ms/step - loss: 0.6128 - accuracy: 0.8670\n",
            "182/182 [==============================] - 2s 2ms/step - loss: 0.5603 - accuracy: 0.8455\n",
            "46/46 [==============================] - 0s 2ms/step - loss: 0.4395 - accuracy: 0.9054\n",
            "182/182 [==============================] - 1s 2ms/step - loss: 0.5392 - accuracy: 0.7518\n",
            "46/46 [==============================] - 0s 2ms/step - loss: 0.5036 - accuracy: 0.7624\n",
            "182/182 [==============================] - 1s 2ms/step - loss: 0.4104 - accuracy: 0.8573\n",
            "46/46 [==============================] - 0s 2ms/step - loss: 0.3604 - accuracy: 0.8823\n",
            "182/182 [==============================] - 1s 2ms/step - loss: 0.5482 - accuracy: 0.7578\n",
            "46/46 [==============================] - 0s 2ms/step - loss: 0.5658 - accuracy: 0.7440\n",
            "182/182 [==============================] - 1s 2ms/step - loss: 0.6638 - accuracy: 0.6758\n",
            "46/46 [==============================] - 0s 2ms/step - loss: 0.5998 - accuracy: 0.7385\n",
            "182/182 [==============================] - 1s 3ms/step - loss: 0.9671 - accuracy: 0.4431\n",
            "46/46 [==============================] - 0s 2ms/step - loss: 0.5010 - accuracy: 0.7118\n",
            "182/182 [==============================] - 1s 3ms/step - loss: 0.7583 - accuracy: 0.3900\n",
            "46/46 [==============================] - 0s 2ms/step - loss: 0.6208 - accuracy: 0.9351\n",
            "182/182 [==============================] - 1s 2ms/step - loss: 0.5854 - accuracy: 0.7551\n",
            "46/46 [==============================] - 0s 2ms/step - loss: 0.5255 - accuracy: 0.7866\n",
            "182/182 [==============================] - 1s 2ms/step - loss: 0.4665 - accuracy: 0.8375\n",
            "46/46 [==============================] - 0s 2ms/step - loss: 0.4103 - accuracy: 0.8670\n",
            "182/182 [==============================] - 1s 2ms/step - loss: 0.5027 - accuracy: 0.8166\n",
            "46/46 [==============================] - 0s 2ms/step - loss: 0.3973 - accuracy: 0.8418\n",
            "182/182 [==============================] - 1s 2ms/step - loss: 0.5284 - accuracy: 0.7565\n",
            "46/46 [==============================] - 0s 2ms/step - loss: 0.4471 - accuracy: 0.7679\n",
            "182/182 [==============================] - 1s 2ms/step - loss: 0.7043 - accuracy: 0.4164\n",
            "46/46 [==============================] - 0s 2ms/step - loss: 0.5561 - accuracy: 0.9065\n",
            "182/182 [==============================] - 1s 2ms/step - loss: 0.6904 - accuracy: 0.5280\n",
            "46/46 [==============================] - 0s 2ms/step - loss: 0.5671 - accuracy: 0.8350\n",
            "182/182 [==============================] - 1s 3ms/step - loss: 0.7489 - accuracy: 0.4199\n",
            "46/46 [==============================] - 0s 2ms/step - loss: 0.6009 - accuracy: 0.8429\n",
            "182/182 [==============================] - 1s 3ms/step - loss: 0.6940 - accuracy: 0.7578\n",
            "46/46 [==============================] - 0s 2ms/step - loss: 0.5973 - accuracy: 0.7407\n",
            "182/182 [==============================] - 1s 2ms/step - loss: 0.5797 - accuracy: 0.8057\n",
            "46/46 [==============================] - 0s 2ms/step - loss: 0.5026 - accuracy: 0.8383\n",
            "182/182 [==============================] - 1s 2ms/step - loss: 0.6584 - accuracy: 0.6322\n",
            "46/46 [==============================] - 0s 1ms/step - loss: 0.5806 - accuracy: 0.7657\n",
            "182/182 [==============================] - 1s 2ms/step - loss: 0.7989 - accuracy: 0.3623\n",
            "46/46 [==============================] - 0s 2ms/step - loss: 0.5015 - accuracy: 0.6733\n",
            "182/182 [==============================] - 1s 2ms/step - loss: 0.5130 - accuracy: 0.8754\n",
            "46/46 [==============================] - 0s 1ms/step - loss: 0.3705 - accuracy: 0.9275\n",
            "182/182 [==============================] - 1s 2ms/step - loss: 0.4569 - accuracy: 0.8199\n",
            "46/46 [==============================] - 0s 2ms/step - loss: 0.4016 - accuracy: 0.8648\n",
            "182/182 [==============================] - 1s 2ms/step - loss: 0.6473 - accuracy: 0.6421\n",
            "46/46 [==============================] - 0s 2ms/step - loss: 0.4620 - accuracy: 0.9175\n",
            "182/182 [==============================] - 2s 3ms/step - loss: 0.7056 - accuracy: 0.4876\n",
            "46/46 [==============================] - 0s 2ms/step - loss: 0.5758 - accuracy: 0.9263\n",
            "182/182 [==============================] - 1s 2ms/step - loss: 0.3963 - accuracy: 0.9250\n",
            "46/46 [==============================] - 0s 2ms/step - loss: 0.3248 - accuracy: 0.9340\n",
            "182/182 [==============================] - 1s 2ms/step - loss: 0.5735 - accuracy: 0.7418\n",
            "46/46 [==============================] - 0s 1ms/step - loss: 0.5799 - accuracy: 0.7308\n",
            "182/182 [==============================] - 1s 2ms/step - loss: 0.8975 - accuracy: 0.2945\n",
            "46/46 [==============================] - 0s 2ms/step - loss: 0.6166 - accuracy: 0.6516\n",
            "182/182 [==============================] - 1s 2ms/step - loss: 0.9188 - accuracy: 0.2496\n",
            "46/46 [==============================] - 0s 2ms/step - loss: 0.7296 - accuracy: 0.2321\n",
            "182/182 [==============================] - 1s 2ms/step - loss: 0.3156 - accuracy: 0.8527\n",
            "46/46 [==============================] - 0s 2ms/step - loss: 0.2855 - accuracy: 0.9175\n",
            "182/182 [==============================] - 1s 2ms/step - loss: 1.0192 - accuracy: 0.2298\n",
            "46/46 [==============================] - 0s 2ms/step - loss: 0.8208 - accuracy: 0.2365\n",
            "182/182 [==============================] - 1s 2ms/step - loss: 0.5568 - accuracy: 0.7567\n",
            "46/46 [==============================] - 0s 2ms/step - loss: 0.5707 - accuracy: 0.7429\n",
            "182/182 [==============================] - 1s 3ms/step - loss: 0.6299 - accuracy: 0.6362\n",
            "46/46 [==============================] - 0s 2ms/step - loss: 0.4958 - accuracy: 0.8978\n",
            "182/182 [==============================] - 1s 3ms/step - loss: 0.5274 - accuracy: 0.8639\n",
            "46/46 [==============================] - 0s 2ms/step - loss: 0.4206 - accuracy: 0.9076\n",
            "182/182 [==============================] - 1s 2ms/step - loss: 0.4055 - accuracy: 0.8172\n",
            "46/46 [==============================] - 0s 2ms/step - loss: 0.3781 - accuracy: 0.9032\n",
            "182/182 [==============================] - 1s 2ms/step - loss: 0.7695 - accuracy: 0.5093\n",
            "46/46 [==============================] - 0s 2ms/step - loss: 0.4923 - accuracy: 0.8856\n",
            "114/114 [==============================] - 1s 2ms/step - loss: 1.0772 - accuracy: 0.2433\n",
            "29/29 [==============================] - 0s 2ms/step - loss: 0.9283 - accuracy: 0.2571\n",
            "114/114 [==============================] - 1s 2ms/step - loss: 0.7258 - accuracy: 0.4614\n",
            "29/29 [==============================] - 0s 2ms/step - loss: 0.6173 - accuracy: 0.7890\n",
            "114/114 [==============================] - 1s 2ms/step - loss: 0.4011 - accuracy: 0.8637\n",
            "29/29 [==============================] - 0s 1ms/step - loss: 0.3668 - accuracy: 0.9054\n",
            "114/114 [==============================] - 1s 2ms/step - loss: 0.9524 - accuracy: 0.3290\n",
            "29/29 [==============================] - 0s 2ms/step - loss: 0.6969 - accuracy: 0.7723\n",
            "114/114 [==============================] - 1s 2ms/step - loss: 0.3954 - accuracy: 0.9002\n",
            "29/29 [==============================] - 0s 2ms/step - loss: 0.3378 - accuracy: 0.9252\n",
            "114/114 [==============================] - 1s 2ms/step - loss: 0.4312 - accuracy: 0.8609\n",
            "29/29 [==============================] - 0s 2ms/step - loss: 0.3358 - accuracy: 0.9143\n",
            "114/114 [==============================] - 1s 2ms/step - loss: 0.5205 - accuracy: 0.7578\n",
            "29/29 [==============================] - 0s 2ms/step - loss: 0.4993 - accuracy: 0.7407\n",
            "114/114 [==============================] - 1s 3ms/step - loss: 0.5672 - accuracy: 0.8637\n",
            "29/29 [==============================] - 0s 2ms/step - loss: 0.4766 - accuracy: 0.9120\n",
            "114/114 [==============================] - 1s 2ms/step - loss: 1.3744 - accuracy: 0.2482\n",
            "29/29 [==============================] - 0s 1ms/step - loss: 1.2247 - accuracy: 0.2365\n",
            "114/114 [==============================] - 2s 2ms/step - loss: 0.5945 - accuracy: 0.7397\n",
            "29/29 [==============================] - 0s 2ms/step - loss: 0.5433 - accuracy: 0.7547\n",
            "114/114 [==============================] - 1s 2ms/step - loss: 0.9898 - accuracy: 0.2433\n",
            "29/29 [==============================] - 0s 2ms/step - loss: 0.7449 - accuracy: 0.2571\n",
            "114/114 [==============================] - 1s 2ms/step - loss: 0.3710 - accuracy: 0.9192\n",
            "29/29 [==============================] - 0s 1ms/step - loss: 0.3271 - accuracy: 0.9264\n",
            "114/114 [==============================] - 1s 2ms/step - loss: 0.4649 - accuracy: 0.7815\n",
            "29/29 [==============================] - 0s 2ms/step - loss: 0.4078 - accuracy: 0.8449\n",
            "114/114 [==============================] - 1s 2ms/step - loss: 0.9005 - accuracy: 0.2455\n",
            "29/29 [==============================] - 0s 2ms/step - loss: 0.7844 - accuracy: 0.2365\n",
            "114/114 [==============================] - 1s 2ms/step - loss: 1.4080 - accuracy: 0.2471\n",
            "29/29 [==============================] - 0s 2ms/step - loss: 1.2515 - accuracy: 0.2420\n",
            "114/114 [==============================] - 1s 3ms/step - loss: 0.6514 - accuracy: 0.7061\n",
            "29/29 [==============================] - 0s 2ms/step - loss: 0.6062 - accuracy: 0.7429\n",
            "114/114 [==============================] - 1s 3ms/step - loss: 0.4658 - accuracy: 0.8235\n",
            "29/29 [==============================] - 0s 1ms/step - loss: 0.4219 - accuracy: 0.8582\n",
            "114/114 [==============================] - 1s 2ms/step - loss: 0.5525 - accuracy: 0.7787\n",
            "29/29 [==============================] - 0s 2ms/step - loss: 0.4190 - accuracy: 0.8317\n",
            "114/114 [==============================] - 1s 2ms/step - loss: 0.7734 - accuracy: 0.2482\n",
            "29/29 [==============================] - 0s 1ms/step - loss: 0.6765 - accuracy: 0.2376\n",
            "114/114 [==============================] - 1s 2ms/step - loss: 0.6650 - accuracy: 0.5750\n",
            "29/29 [==============================] - 0s 2ms/step - loss: 0.5648 - accuracy: 0.9021\n",
            "114/114 [==============================] - 1s 2ms/step - loss: 0.5622 - accuracy: 0.7572\n",
            "29/29 [==============================] - 0s 2ms/step - loss: 0.5130 - accuracy: 0.7440\n",
            "114/114 [==============================] - 1s 2ms/step - loss: 0.9315 - accuracy: 0.2367\n",
            "29/29 [==============================] - 0s 2ms/step - loss: 0.7935 - accuracy: 0.2615\n",
            "114/114 [==============================] - 1s 2ms/step - loss: 0.9321 - accuracy: 0.2499\n",
            "29/29 [==============================] - 0s 2ms/step - loss: 0.8247 - accuracy: 0.2321\n",
            "114/114 [==============================] - 1s 2ms/step - loss: 1.2519 - accuracy: 0.2482\n",
            "29/29 [==============================] - 0s 2ms/step - loss: 1.1029 - accuracy: 0.2376\n",
            "114/114 [==============================] - 1s 2ms/step - loss: 0.7180 - accuracy: 0.4219\n",
            "29/29 [==============================] - 0s 2ms/step - loss: 0.6230 - accuracy: 0.8603\n",
            "114/114 [==============================] - 1s 2ms/step - loss: 0.5406 - accuracy: 0.8265\n",
            "29/29 [==============================] - 0s 3ms/step - loss: 0.4448 - accuracy: 0.8725\n",
            "114/114 [==============================] - 1s 3ms/step - loss: 0.4950 - accuracy: 0.7954\n",
            "29/29 [==============================] - 0s 3ms/step - loss: 0.4098 - accuracy: 0.8637\n",
            "114/114 [==============================] - 1s 2ms/step - loss: 0.4112 - accuracy: 0.8975\n",
            "29/29 [==============================] - 0s 2ms/step - loss: 0.3637 - accuracy: 0.9131\n",
            "114/114 [==============================] - 1s 2ms/step - loss: 1.0014 - accuracy: 0.2474\n",
            "29/29 [==============================] - 0s 1ms/step - loss: 0.8884 - accuracy: 0.2365\n",
            "114/114 [==============================] - 1s 2ms/step - loss: 0.3264 - accuracy: 0.9096\n",
            "29/29 [==============================] - 0s 2ms/step - loss: 0.2843 - accuracy: 0.9285\n",
            "114/114 [==============================] - 2s 2ms/step - loss: 0.6374 - accuracy: 0.6211\n",
            "29/29 [==============================] - 0s 2ms/step - loss: 0.4859 - accuracy: 0.7407\n",
            "114/114 [==============================] - 1s 2ms/step - loss: 0.8594 - accuracy: 0.2395\n",
            "29/29 [==============================] - 0s 2ms/step - loss: 0.7532 - accuracy: 0.2604\n",
            "114/114 [==============================] - 1s 2ms/step - loss: 1.3810 - accuracy: 0.2496\n",
            "29/29 [==============================] - 0s 2ms/step - loss: 1.2420 - accuracy: 0.2321\n",
            "114/114 [==============================] - 1s 2ms/step - loss: 1.2890 - accuracy: 0.2455\n",
            "29/29 [==============================] - 0s 1ms/step - loss: 1.1361 - accuracy: 0.2376\n",
            "114/114 [==============================] - 1s 3ms/step - loss: 0.7985 - accuracy: 0.3942\n",
            "29/29 [==============================] - 0s 3ms/step - loss: 0.5859 - accuracy: 0.7019\n",
            "114/114 [==============================] - 1s 3ms/step - loss: 0.8601 - accuracy: 0.1892\n",
            "29/29 [==============================] - 0s 2ms/step - loss: 0.6955 - accuracy: 0.2560\n",
            "114/114 [==============================] - 1s 2ms/step - loss: 0.4123 - accuracy: 0.8265\n",
            "29/29 [==============================] - 0s 2ms/step - loss: 0.3468 - accuracy: 0.8725\n",
            "114/114 [==============================] - 1s 2ms/step - loss: 0.5467 - accuracy: 0.7647\n",
            "29/29 [==============================] - 0s 2ms/step - loss: 0.5032 - accuracy: 0.7987\n",
            "114/114 [==============================] - 1s 2ms/step - loss: 0.9790 - accuracy: 0.1168\n",
            "29/29 [==============================] - 0s 1ms/step - loss: 0.7815 - accuracy: 0.1441\n",
            "114/114 [==============================] - 1s 2ms/step - loss: 0.7672 - accuracy: 0.5687\n",
            "29/29 [==============================] - 0s 2ms/step - loss: 0.5719 - accuracy: 0.7448\n",
            "114/114 [==============================] - 1s 2ms/step - loss: 0.7310 - accuracy: 0.5210\n",
            "29/29 [==============================] - 0s 1ms/step - loss: 0.5921 - accuracy: 0.8429\n",
            "114/114 [==============================] - 1s 2ms/step - loss: 0.6201 - accuracy: 0.6261\n",
            "29/29 [==============================] - 0s 2ms/step - loss: 0.5193 - accuracy: 0.9275\n",
            "114/114 [==============================] - 1s 2ms/step - loss: 1.1617 - accuracy: 0.2496\n",
            "29/29 [==============================] - 0s 2ms/step - loss: 1.0294 - accuracy: 0.2321\n",
            "114/114 [==============================] - 1s 2ms/step - loss: 0.7155 - accuracy: 0.4579\n",
            "29/29 [==============================] - 0s 2ms/step - loss: 0.6400 - accuracy: 0.7624\n",
            "114/114 [==============================] - 1s 3ms/step - loss: 0.5471 - accuracy: 0.7672\n",
            "29/29 [==============================] - 0s 2ms/step - loss: 0.4854 - accuracy: 0.8075\n",
            "57/57 [==============================] - 1s 3ms/step - loss: 0.5114 - accuracy: 0.8227\n",
            "15/15 [==============================] - 0s 3ms/step - loss: 0.4751 - accuracy: 0.8495\n",
            "57/57 [==============================] - 1s 2ms/step - loss: 0.5155 - accuracy: 0.7641\n",
            "15/15 [==============================] - 0s 2ms/step - loss: 0.5043 - accuracy: 0.7593\n",
            "57/57 [==============================] - 1s 2ms/step - loss: 0.5843 - accuracy: 0.7504\n",
            "15/15 [==============================] - 0s 2ms/step - loss: 0.5426 - accuracy: 0.7657\n",
            "57/57 [==============================] - 1s 2ms/step - loss: 0.8658 - accuracy: 0.2482\n",
            "15/15 [==============================] - 0s 2ms/step - loss: 0.8025 - accuracy: 0.2376\n",
            "57/57 [==============================] - 1s 2ms/step - loss: 0.7052 - accuracy: 0.5899\n",
            "15/15 [==============================] - 0s 2ms/step - loss: 0.5657 - accuracy: 0.7602\n",
            "57/57 [==============================] - 1s 2ms/step - loss: 0.5901 - accuracy: 0.7567\n",
            "15/15 [==============================] - 0s 2ms/step - loss: 0.5326 - accuracy: 0.7429\n",
            "57/57 [==============================] - 2s 2ms/step - loss: 0.3411 - accuracy: 0.8796\n",
            "15/15 [==============================] - 0s 2ms/step - loss: 0.3148 - accuracy: 0.8890\n",
            "57/57 [==============================] - 1s 2ms/step - loss: 0.5859 - accuracy: 0.7578\n",
            "15/15 [==============================] - 0s 2ms/step - loss: 0.4559 - accuracy: 0.8086\n",
            "57/57 [==============================] - 1s 2ms/step - loss: 0.5606 - accuracy: 0.7518\n",
            "15/15 [==============================] - 0s 2ms/step - loss: 0.5483 - accuracy: 0.7624\n",
            "57/57 [==============================] - 1s 3ms/step - loss: 1.1507 - accuracy: 0.2400\n",
            "15/15 [==============================] - 0s 3ms/step - loss: 1.0757 - accuracy: 0.2409\n",
            "57/57 [==============================] - 1s 3ms/step - loss: 0.5445 - accuracy: 0.7567\n",
            "15/15 [==============================] - 0s 2ms/step - loss: 0.5412 - accuracy: 0.7429\n",
            "57/57 [==============================] - 1s 2ms/step - loss: 0.7096 - accuracy: 0.7580\n",
            "15/15 [==============================] - 0s 2ms/step - loss: 0.6690 - accuracy: 0.7385\n",
            "57/57 [==============================] - 1s 2ms/step - loss: 0.4785 - accuracy: 0.8329\n",
            "15/15 [==============================] - 0s 2ms/step - loss: 0.4283 - accuracy: 0.8691\n",
            "57/57 [==============================] - 1s 2ms/step - loss: 0.6623 - accuracy: 0.5827\n",
            "15/15 [==============================] - 0s 2ms/step - loss: 0.5892 - accuracy: 0.7349\n",
            "57/57 [==============================] - 1s 2ms/step - loss: 1.2155 - accuracy: 0.2471\n",
            "15/15 [==============================] - 0s 2ms/step - loss: 1.1304 - accuracy: 0.2420\n",
            "57/57 [==============================] - 1s 2ms/step - loss: 2.1577 - accuracy: 0.2433\n",
            "15/15 [==============================] - 0s 2ms/step - loss: 2.0121 - accuracy: 0.2571\n",
            "57/57 [==============================] - 1s 2ms/step - loss: 0.4357 - accuracy: 0.8969\n",
            "15/15 [==============================] - 0s 2ms/step - loss: 0.3849 - accuracy: 0.9176\n",
            "57/57 [==============================] - 1s 2ms/step - loss: 0.8280 - accuracy: 0.4557\n",
            "15/15 [==============================] - 0s 2ms/step - loss: 0.5972 - accuracy: 0.6689\n",
            "57/57 [==============================] - 1s 2ms/step - loss: 1.6404 - accuracy: 0.2482\n",
            "15/15 [==============================] - 0s 2ms/step - loss: 1.5547 - accuracy: 0.2376\n",
            "57/57 [==============================] - 1s 2ms/step - loss: 0.7282 - accuracy: 0.2779\n",
            "15/15 [==============================] - 0s 2ms/step - loss: 0.6878 - accuracy: 0.7613\n",
            "57/57 [==============================] - 1s 2ms/step - loss: 0.6588 - accuracy: 0.7567\n",
            "15/15 [==============================] - 0s 3ms/step - loss: 0.6338 - accuracy: 0.7429\n",
            "57/57 [==============================] - 1s 3ms/step - loss: 1.5072 - accuracy: 0.2807\n",
            "15/15 [==============================] - 0s 3ms/step - loss: 1.0428 - accuracy: 0.3813\n",
            "57/57 [==============================] - 1s 3ms/step - loss: 0.7691 - accuracy: 0.2510\n",
            "15/15 [==============================] - 0s 3ms/step - loss: 0.7193 - accuracy: 0.2387\n",
            "57/57 [==============================] - 1s 2ms/step - loss: 0.9036 - accuracy: 0.3914\n",
            "15/15 [==============================] - 0s 2ms/step - loss: 0.7576 - accuracy: 0.5666\n",
            "57/57 [==============================] - 1s 2ms/step - loss: 1.0058 - accuracy: 0.2438\n",
            "15/15 [==============================] - 0s 2ms/step - loss: 0.9318 - accuracy: 0.2409\n",
            "57/57 [==============================] - 1s 2ms/step - loss: 0.6940 - accuracy: 0.4592\n",
            "15/15 [==============================] - 0s 2ms/step - loss: 0.6310 - accuracy: 0.8549\n",
            "57/57 [==============================] - 1s 2ms/step - loss: 0.4378 - accuracy: 0.9084\n",
            "15/15 [==============================] - 0s 2ms/step - loss: 0.4094 - accuracy: 0.9220\n",
            "57/57 [==============================] - 2s 2ms/step - loss: 0.4926 - accuracy: 0.7504\n",
            "15/15 [==============================] - 0s 2ms/step - loss: 0.4530 - accuracy: 0.7679\n",
            "57/57 [==============================] - 1s 2ms/step - loss: 0.4077 - accuracy: 0.8642\n",
            "15/15 [==============================] - 0s 2ms/step - loss: 0.3603 - accuracy: 0.8933\n",
            "57/57 [==============================] - 1s 2ms/step - loss: 0.7889 - accuracy: 0.2471\n",
            "15/15 [==============================] - 0s 2ms/step - loss: 0.7443 - accuracy: 0.2420\n",
            "57/57 [==============================] - 1s 2ms/step - loss: 0.6031 - accuracy: 0.7663\n",
            "15/15 [==============================] - 0s 2ms/step - loss: 0.5821 - accuracy: 0.7670\n",
            "57/57 [==============================] - 1s 3ms/step - loss: 0.6650 - accuracy: 0.4869\n",
            "15/15 [==============================] - 0s 3ms/step - loss: 0.6015 - accuracy: 0.9231\n",
            "57/57 [==============================] - 1s 3ms/step - loss: 0.5259 - accuracy: 0.7677\n",
            "15/15 [==============================] - 0s 2ms/step - loss: 0.4185 - accuracy: 0.8658\n",
            "57/57 [==============================] - 1s 2ms/step - loss: 0.5322 - accuracy: 0.7581\n",
            "15/15 [==============================] - 0s 2ms/step - loss: 0.4822 - accuracy: 0.7899\n",
            "57/57 [==============================] - 1s 2ms/step - loss: 0.6384 - accuracy: 0.7606\n",
            "15/15 [==============================] - 0s 2ms/step - loss: 0.5732 - accuracy: 0.7767\n",
            "57/57 [==============================] - 1s 2ms/step - loss: 0.4298 - accuracy: 0.8765\n",
            "15/15 [==============================] - 0s 2ms/step - loss: 0.3819 - accuracy: 0.9088\n",
            "57/57 [==============================] - 1s 2ms/step - loss: 0.5677 - accuracy: 0.7020\n",
            "15/15 [==============================] - 0s 2ms/step - loss: 0.4666 - accuracy: 0.8846\n",
            "57/57 [==============================] - 1s 2ms/step - loss: 0.9250 - accuracy: 0.2224\n",
            "15/15 [==============================] - 0s 2ms/step - loss: 0.8595 - accuracy: 0.2255\n",
            "57/57 [==============================] - 1s 2ms/step - loss: 0.5437 - accuracy: 0.7633\n",
            "15/15 [==============================] - 0s 2ms/step - loss: 0.5141 - accuracy: 0.7910\n",
            "57/57 [==============================] - 1s 2ms/step - loss: 1.4038 - accuracy: 0.1666\n",
            "15/15 [==============================] - 0s 2ms/step - loss: 1.2827 - accuracy: 0.1859\n",
            "57/57 [==============================] - 1s 2ms/step - loss: 0.5702 - accuracy: 0.7567\n",
            "15/15 [==============================] - 0s 2ms/step - loss: 0.5741 - accuracy: 0.7429\n",
            "57/57 [==============================] - 1s 2ms/step - loss: 1.6055 - accuracy: 0.2422\n",
            "15/15 [==============================] - 0s 2ms/step - loss: 1.4787 - accuracy: 0.2615\n",
            "57/57 [==============================] - 1s 2ms/step - loss: 0.4288 - accuracy: 0.8312\n",
            "15/15 [==============================] - 0s 2ms/step - loss: 0.3920 - accuracy: 0.8504\n",
            "57/57 [==============================] - 1s 3ms/step - loss: 0.6686 - accuracy: 0.5030\n",
            "15/15 [==============================] - 0s 2ms/step - loss: 0.6269 - accuracy: 0.8317\n",
            "57/57 [==============================] - 1s 3ms/step - loss: 1.4369 - accuracy: 0.2416\n",
            "15/15 [==============================] - 0s 3ms/step - loss: 1.2698 - accuracy: 0.2398\n",
            "228/228 [==============================] - 1s 2ms/step - loss: 0.9483 - accuracy: 0.2461\n",
            "{'batch_size': 20, 'hidden_units': 16, 'learning_rate': 0.1}\n",
            "0.9140170931816101\n"
          ]
        }
      ]
    },
    {
      "cell_type": "code",
      "source": [
        "# Get the best parameters\n",
        "best_params = grid_search.best_params_\n",
        "\n",
        "# Create a new model with the best parameters\n",
        "best_model = create_model(hidden_units=best_params['hidden_units'], learning_rate=best_params['learning_rate'])\n",
        "\n",
        "# Train the best model on the entire training set\n",
        "best_model.fit(x_train, y_train, epochs=10, batch_size=best_params['batch_size'])\n",
        "\n",
        "# Evaluate the best model on the test set\n",
        "test_loss, test_accuracy = best_model.evaluate(x_test, y_test)\n",
        "\n",
        "# Print the test accuracy\n",
        "print(\"Test Accuracy:\", test_accuracy)\n"
      ],
      "metadata": {
        "colab": {
          "base_uri": "https://localhost:8080/"
        },
        "id": "VbESWLtGqcsy",
        "outputId": "40e62d85-9a73-4ba7-b165-41eb2560fc86"
      },
      "execution_count": null,
      "outputs": [
        {
          "output_type": "stream",
          "name": "stdout",
          "text": [
            "Epoch 1/10\n",
            "228/228 [==============================] - 1s 2ms/step - loss: 0.6215 - accuracy: 0.7574\n",
            "Epoch 2/10\n",
            "228/228 [==============================] - 0s 2ms/step - loss: 0.3742 - accuracy: 0.8779\n",
            "Epoch 3/10\n",
            "228/228 [==============================] - 1s 2ms/step - loss: 0.2895 - accuracy: 0.9092\n",
            "Epoch 4/10\n",
            "228/228 [==============================] - 1s 2ms/step - loss: 0.2608 - accuracy: 0.9186\n",
            "Epoch 5/10\n",
            "228/228 [==============================] - 1s 2ms/step - loss: 0.2410 - accuracy: 0.9294\n",
            "Epoch 6/10\n",
            "228/228 [==============================] - 1s 2ms/step - loss: 0.2330 - accuracy: 0.9307\n",
            "Epoch 7/10\n",
            "228/228 [==============================] - 1s 2ms/step - loss: 0.2274 - accuracy: 0.9318\n",
            "Epoch 8/10\n",
            "228/228 [==============================] - 1s 2ms/step - loss: 0.2216 - accuracy: 0.9325\n",
            "Epoch 9/10\n",
            "228/228 [==============================] - 1s 2ms/step - loss: 0.2194 - accuracy: 0.9331\n",
            "Epoch 10/10\n",
            "228/228 [==============================] - 1s 3ms/step - loss: 0.2174 - accuracy: 0.9334\n",
            "61/61 [==============================] - 0s 2ms/step - loss: 0.2089 - accuracy: 0.9338\n",
            "Test Accuracy: 0.9338461756706238\n"
          ]
        }
      ]
    },
    {
      "cell_type": "markdown",
      "source": [
        "#Evaluation Analysis"
      ],
      "metadata": {
        "id": "M1Ecooxr7S9t"
      }
    },
    {
      "cell_type": "markdown",
      "source": [
        "After performing the hyperparamter tunings, the result did not show any significant improvement. This is likely due to my lack of understanding on the tuning techniques. The following is a confusion matrix to evaluate the final model."
      ],
      "metadata": {
        "id": "WbTLQmyq8nby"
      }
    },
    {
      "cell_type": "code",
      "source": [
        "from sklearn.metrics import confusion_matrix\n",
        "\n",
        "# Predict the classes for the test set\n",
        "y_pred = best_model.predict(x_test)\n",
        "\n",
        "# Convert the predicted probabilities to class labels\n",
        "y_pred_classes = (y_pred > 0.5).astype(int)\n",
        "\n",
        "# Get the confusion matrix\n",
        "cm = confusion_matrix(y_test, y_pred_classes)\n",
        "print(\"Confusion Matrix:\")\n",
        "print(cm)\n"
      ],
      "metadata": {
        "colab": {
          "base_uri": "https://localhost:8080/"
        },
        "id": "vIlo5YbN7Wo0",
        "outputId": "236ea3a2-0b9a-491b-a614-05ab85c2ab01"
      },
      "execution_count": null,
      "outputs": [
        {
          "output_type": "stream",
          "name": "stdout",
          "text": [
            "61/61 [==============================] - 0s 1ms/step\n",
            "Confusion Matrix:\n",
            "[[1442   28]\n",
            " [ 101  379]]\n"
          ]
        }
      ]
    },
    {
      "cell_type": "code",
      "source": [
        "import numpy as np\n",
        "\n",
        "# Define the confusion matrix\n",
        "confusion_matrix = np.array([[1442, 28], [101, 379]])\n",
        "\n",
        "# Calculate the True Positives, True Negatives, False Positives, and False Negatives\n",
        "TP = confusion_matrix[1, 1]\n",
        "TN = confusion_matrix[0, 0]\n",
        "FP = confusion_matrix[0, 1]\n",
        "FN = confusion_matrix[1, 0]\n",
        "\n",
        "# Calculate accuracy\n",
        "accuracy = (TP + TN) / np.sum(confusion_matrix)\n",
        "\n",
        "# Calculate precision\n",
        "precision = TP / (TP + FP)\n",
        "\n",
        "# Calculate recall (also known as sensitivity or true positive rate)\n",
        "recall = TP / (TP + FN)\n",
        "\n",
        "# Calculate specificity (true negative rate)\n",
        "specificity = TN / (TN + FP)\n",
        "\n",
        "# Print the results\n",
        "print(\"Accuracy:\", accuracy)\n",
        "print(\"Precision:\", precision)\n",
        "print(\"Recall:\", recall)\n",
        "print(\"Specificity:\", specificity)\n"
      ],
      "metadata": {
        "colab": {
          "base_uri": "https://localhost:8080/"
        },
        "id": "kJQVEvXY-aDv",
        "outputId": "bc9158cf-23f3-4ba6-f2c1-e69633d59d02"
      },
      "execution_count": null,
      "outputs": [
        {
          "output_type": "stream",
          "name": "stdout",
          "text": [
            "Accuracy: 0.9338461538461539\n",
            "Precision: 0.9312039312039312\n",
            "Recall: 0.7895833333333333\n",
            "Specificity: 0.9809523809523809\n"
          ]
        }
      ]
    },
    {
      "cell_type": "markdown",
      "source": [
        "##Break down of the confusion matrix:\n",
        "\n",
        "True Positives (TP): 379.\\\n",
        "True Negatives (TN): 1442.\\\n",
        "False Positives (FP):28.\\\n",
        "False Negatives (FN): 101.\\\n",
        "Accuracy: 0.9338461538461539\\\n",
        "Precision: 0.9312039312039312\\\n",
        "Recall: 0.7895833333333333\\\n",
        "Specificity: 0.9809523809523809\\"
      ],
      "metadata": {
        "id": "mSeMxDaj8HR2"
      }
    }
  ]
}