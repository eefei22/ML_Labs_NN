{
  "nbformat": 4,
  "nbformat_minor": 0,
  "metadata": {
    "colab": {
      "provenance": [],
      "toc_visible": true
    },
    "kernelspec": {
      "name": "python3",
      "display_name": "Python 3"
    },
    "language_info": {
      "name": "python"
    }
  },
  "cells": [
    {
      "cell_type": "markdown",
      "source": [
        "#Wine Classification Using Nueral Network\n",
        "This lab work assignment performs a systematic analysis on the performance of neural network models in classifying the type of wine \n",
        "(red wine / white wine). 5 models are designed, of which the best will be further tuned to make the best possible prediction.\n"
      ],
      "metadata": {
        "id": "nxDvWyMA3i_U"
      }
    },
    {
      "cell_type": "code",
      "source": [
        "# import libraries\n",
        "\n",
        "import pandas as pd\n",
        "import tensorflow as tf\n",
        "import pandas as pd\n",
        "\n",
        "from tensorflow import keras\n",
        "from keras import optimizers\n",
        "from sklearn.model_selection import train_test_split\n",
        "from IPython.display import SVG, display\n",
        "\n"
      ],
      "metadata": {
        "id": "twR3hRrg55Vr"
      },
      "execution_count": 1,
      "outputs": []
    },
    {
      "cell_type": "markdown",
      "source": [
        "#Data Preperation\n",
        "In this section, basic data preparation steps have been taken including:\n",
        "* Load\n",
        "* Merge\n",
        "* Split for training and testing"
      ],
      "metadata": {
        "id": "bgUR5EQL4DBj"
      }
    },
    {
      "cell_type": "code",
      "source": [
        "from google.colab import drive\n",
        "drive.mount('/content/drive')"
      ],
      "metadata": {
        "colab": {
          "base_uri": "https://localhost:8080/"
        },
        "id": "E0N90dbFt_fy",
        "outputId": "da04dd5d-c27b-469e-8dcc-b0e14ec65b10"
      },
      "execution_count": 2,
      "outputs": [
        {
          "output_type": "stream",
          "name": "stdout",
          "text": [
            "Mounted at /content/drive\n"
          ]
        }
      ]
    },
    {
      "cell_type": "code",
      "source": [
        "# Load the dataset\n",
        "dataR = pd.read_csv('/content/drive/MyDrive/Colab Notebooks/winequality-red.csv', sep=';')\n",
        "\n",
        "# Add a new column 'WineType'(boolean) - red wine = 1\n",
        "dataR['WineType'] = 1\n",
        "\n",
        "# Display the resulting dataframe\n",
        "dataR\n"
      ],
      "metadata": {
        "colab": {
          "base_uri": "https://localhost:8080/",
          "height": 485
        },
        "id": "0hmwVvkPufPe",
        "outputId": "78647f0c-8e7f-4757-8acf-07667808e87c"
      },
      "execution_count": 3,
      "outputs": [
        {
          "output_type": "execute_result",
          "data": {
            "text/plain": [
              "      fixed acidity  volatile acidity  citric acid  residual sugar  chlorides  \\\n",
              "0               7.4             0.700         0.00             1.9      0.076   \n",
              "1               7.8             0.880         0.00             2.6      0.098   \n",
              "2               7.8             0.760         0.04             2.3      0.092   \n",
              "3              11.2             0.280         0.56             1.9      0.075   \n",
              "4               7.4             0.700         0.00             1.9      0.076   \n",
              "...             ...               ...          ...             ...        ...   \n",
              "1594            6.2             0.600         0.08             2.0      0.090   \n",
              "1595            5.9             0.550         0.10             2.2      0.062   \n",
              "1596            6.3             0.510         0.13             2.3      0.076   \n",
              "1597            5.9             0.645         0.12             2.0      0.075   \n",
              "1598            6.0             0.310         0.47             3.6      0.067   \n",
              "\n",
              "      free sulfur dioxide  total sulfur dioxide  density    pH  sulphates  \\\n",
              "0                    11.0                  34.0  0.99780  3.51       0.56   \n",
              "1                    25.0                  67.0  0.99680  3.20       0.68   \n",
              "2                    15.0                  54.0  0.99700  3.26       0.65   \n",
              "3                    17.0                  60.0  0.99800  3.16       0.58   \n",
              "4                    11.0                  34.0  0.99780  3.51       0.56   \n",
              "...                   ...                   ...      ...   ...        ...   \n",
              "1594                 32.0                  44.0  0.99490  3.45       0.58   \n",
              "1595                 39.0                  51.0  0.99512  3.52       0.76   \n",
              "1596                 29.0                  40.0  0.99574  3.42       0.75   \n",
              "1597                 32.0                  44.0  0.99547  3.57       0.71   \n",
              "1598                 18.0                  42.0  0.99549  3.39       0.66   \n",
              "\n",
              "      alcohol  quality  WineType  \n",
              "0         9.4        5         1  \n",
              "1         9.8        5         1  \n",
              "2         9.8        5         1  \n",
              "3         9.8        6         1  \n",
              "4         9.4        5         1  \n",
              "...       ...      ...       ...  \n",
              "1594     10.5        5         1  \n",
              "1595     11.2        6         1  \n",
              "1596     11.0        6         1  \n",
              "1597     10.2        5         1  \n",
              "1598     11.0        6         1  \n",
              "\n",
              "[1599 rows x 13 columns]"
            ],
            "text/html": [
              "\n",
              "  <div id=\"df-05b8a447-5ea6-4ef9-8600-090db369eac5\">\n",
              "    <div class=\"colab-df-container\">\n",
              "      <div>\n",
              "<style scoped>\n",
              "    .dataframe tbody tr th:only-of-type {\n",
              "        vertical-align: middle;\n",
              "    }\n",
              "\n",
              "    .dataframe tbody tr th {\n",
              "        vertical-align: top;\n",
              "    }\n",
              "\n",
              "    .dataframe thead th {\n",
              "        text-align: right;\n",
              "    }\n",
              "</style>\n",
              "<table border=\"1\" class=\"dataframe\">\n",
              "  <thead>\n",
              "    <tr style=\"text-align: right;\">\n",
              "      <th></th>\n",
              "      <th>fixed acidity</th>\n",
              "      <th>volatile acidity</th>\n",
              "      <th>citric acid</th>\n",
              "      <th>residual sugar</th>\n",
              "      <th>chlorides</th>\n",
              "      <th>free sulfur dioxide</th>\n",
              "      <th>total sulfur dioxide</th>\n",
              "      <th>density</th>\n",
              "      <th>pH</th>\n",
              "      <th>sulphates</th>\n",
              "      <th>alcohol</th>\n",
              "      <th>quality</th>\n",
              "      <th>WineType</th>\n",
              "    </tr>\n",
              "  </thead>\n",
              "  <tbody>\n",
              "    <tr>\n",
              "      <th>0</th>\n",
              "      <td>7.4</td>\n",
              "      <td>0.700</td>\n",
              "      <td>0.00</td>\n",
              "      <td>1.9</td>\n",
              "      <td>0.076</td>\n",
              "      <td>11.0</td>\n",
              "      <td>34.0</td>\n",
              "      <td>0.99780</td>\n",
              "      <td>3.51</td>\n",
              "      <td>0.56</td>\n",
              "      <td>9.4</td>\n",
              "      <td>5</td>\n",
              "      <td>1</td>\n",
              "    </tr>\n",
              "    <tr>\n",
              "      <th>1</th>\n",
              "      <td>7.8</td>\n",
              "      <td>0.880</td>\n",
              "      <td>0.00</td>\n",
              "      <td>2.6</td>\n",
              "      <td>0.098</td>\n",
              "      <td>25.0</td>\n",
              "      <td>67.0</td>\n",
              "      <td>0.99680</td>\n",
              "      <td>3.20</td>\n",
              "      <td>0.68</td>\n",
              "      <td>9.8</td>\n",
              "      <td>5</td>\n",
              "      <td>1</td>\n",
              "    </tr>\n",
              "    <tr>\n",
              "      <th>2</th>\n",
              "      <td>7.8</td>\n",
              "      <td>0.760</td>\n",
              "      <td>0.04</td>\n",
              "      <td>2.3</td>\n",
              "      <td>0.092</td>\n",
              "      <td>15.0</td>\n",
              "      <td>54.0</td>\n",
              "      <td>0.99700</td>\n",
              "      <td>3.26</td>\n",
              "      <td>0.65</td>\n",
              "      <td>9.8</td>\n",
              "      <td>5</td>\n",
              "      <td>1</td>\n",
              "    </tr>\n",
              "    <tr>\n",
              "      <th>3</th>\n",
              "      <td>11.2</td>\n",
              "      <td>0.280</td>\n",
              "      <td>0.56</td>\n",
              "      <td>1.9</td>\n",
              "      <td>0.075</td>\n",
              "      <td>17.0</td>\n",
              "      <td>60.0</td>\n",
              "      <td>0.99800</td>\n",
              "      <td>3.16</td>\n",
              "      <td>0.58</td>\n",
              "      <td>9.8</td>\n",
              "      <td>6</td>\n",
              "      <td>1</td>\n",
              "    </tr>\n",
              "    <tr>\n",
              "      <th>4</th>\n",
              "      <td>7.4</td>\n",
              "      <td>0.700</td>\n",
              "      <td>0.00</td>\n",
              "      <td>1.9</td>\n",
              "      <td>0.076</td>\n",
              "      <td>11.0</td>\n",
              "      <td>34.0</td>\n",
              "      <td>0.99780</td>\n",
              "      <td>3.51</td>\n",
              "      <td>0.56</td>\n",
              "      <td>9.4</td>\n",
              "      <td>5</td>\n",
              "      <td>1</td>\n",
              "    </tr>\n",
              "    <tr>\n",
              "      <th>...</th>\n",
              "      <td>...</td>\n",
              "      <td>...</td>\n",
              "      <td>...</td>\n",
              "      <td>...</td>\n",
              "      <td>...</td>\n",
              "      <td>...</td>\n",
              "      <td>...</td>\n",
              "      <td>...</td>\n",
              "      <td>...</td>\n",
              "      <td>...</td>\n",
              "      <td>...</td>\n",
              "      <td>...</td>\n",
              "      <td>...</td>\n",
              "    </tr>\n",
              "    <tr>\n",
              "      <th>1594</th>\n",
              "      <td>6.2</td>\n",
              "      <td>0.600</td>\n",
              "      <td>0.08</td>\n",
              "      <td>2.0</td>\n",
              "      <td>0.090</td>\n",
              "      <td>32.0</td>\n",
              "      <td>44.0</td>\n",
              "      <td>0.99490</td>\n",
              "      <td>3.45</td>\n",
              "      <td>0.58</td>\n",
              "      <td>10.5</td>\n",
              "      <td>5</td>\n",
              "      <td>1</td>\n",
              "    </tr>\n",
              "    <tr>\n",
              "      <th>1595</th>\n",
              "      <td>5.9</td>\n",
              "      <td>0.550</td>\n",
              "      <td>0.10</td>\n",
              "      <td>2.2</td>\n",
              "      <td>0.062</td>\n",
              "      <td>39.0</td>\n",
              "      <td>51.0</td>\n",
              "      <td>0.99512</td>\n",
              "      <td>3.52</td>\n",
              "      <td>0.76</td>\n",
              "      <td>11.2</td>\n",
              "      <td>6</td>\n",
              "      <td>1</td>\n",
              "    </tr>\n",
              "    <tr>\n",
              "      <th>1596</th>\n",
              "      <td>6.3</td>\n",
              "      <td>0.510</td>\n",
              "      <td>0.13</td>\n",
              "      <td>2.3</td>\n",
              "      <td>0.076</td>\n",
              "      <td>29.0</td>\n",
              "      <td>40.0</td>\n",
              "      <td>0.99574</td>\n",
              "      <td>3.42</td>\n",
              "      <td>0.75</td>\n",
              "      <td>11.0</td>\n",
              "      <td>6</td>\n",
              "      <td>1</td>\n",
              "    </tr>\n",
              "    <tr>\n",
              "      <th>1597</th>\n",
              "      <td>5.9</td>\n",
              "      <td>0.645</td>\n",
              "      <td>0.12</td>\n",
              "      <td>2.0</td>\n",
              "      <td>0.075</td>\n",
              "      <td>32.0</td>\n",
              "      <td>44.0</td>\n",
              "      <td>0.99547</td>\n",
              "      <td>3.57</td>\n",
              "      <td>0.71</td>\n",
              "      <td>10.2</td>\n",
              "      <td>5</td>\n",
              "      <td>1</td>\n",
              "    </tr>\n",
              "    <tr>\n",
              "      <th>1598</th>\n",
              "      <td>6.0</td>\n",
              "      <td>0.310</td>\n",
              "      <td>0.47</td>\n",
              "      <td>3.6</td>\n",
              "      <td>0.067</td>\n",
              "      <td>18.0</td>\n",
              "      <td>42.0</td>\n",
              "      <td>0.99549</td>\n",
              "      <td>3.39</td>\n",
              "      <td>0.66</td>\n",
              "      <td>11.0</td>\n",
              "      <td>6</td>\n",
              "      <td>1</td>\n",
              "    </tr>\n",
              "  </tbody>\n",
              "</table>\n",
              "<p>1599 rows × 13 columns</p>\n",
              "</div>\n",
              "      <button class=\"colab-df-convert\" onclick=\"convertToInteractive('df-05b8a447-5ea6-4ef9-8600-090db369eac5')\"\n",
              "              title=\"Convert this dataframe to an interactive table.\"\n",
              "              style=\"display:none;\">\n",
              "        \n",
              "  <svg xmlns=\"http://www.w3.org/2000/svg\" height=\"24px\"viewBox=\"0 0 24 24\"\n",
              "       width=\"24px\">\n",
              "    <path d=\"M0 0h24v24H0V0z\" fill=\"none\"/>\n",
              "    <path d=\"M18.56 5.44l.94 2.06.94-2.06 2.06-.94-2.06-.94-.94-2.06-.94 2.06-2.06.94zm-11 1L8.5 8.5l.94-2.06 2.06-.94-2.06-.94L8.5 2.5l-.94 2.06-2.06.94zm10 10l.94 2.06.94-2.06 2.06-.94-2.06-.94-.94-2.06-.94 2.06-2.06.94z\"/><path d=\"M17.41 7.96l-1.37-1.37c-.4-.4-.92-.59-1.43-.59-.52 0-1.04.2-1.43.59L10.3 9.45l-7.72 7.72c-.78.78-.78 2.05 0 2.83L4 21.41c.39.39.9.59 1.41.59.51 0 1.02-.2 1.41-.59l7.78-7.78 2.81-2.81c.8-.78.8-2.07 0-2.86zM5.41 20L4 18.59l7.72-7.72 1.47 1.35L5.41 20z\"/>\n",
              "  </svg>\n",
              "      </button>\n",
              "      \n",
              "  <style>\n",
              "    .colab-df-container {\n",
              "      display:flex;\n",
              "      flex-wrap:wrap;\n",
              "      gap: 12px;\n",
              "    }\n",
              "\n",
              "    .colab-df-convert {\n",
              "      background-color: #E8F0FE;\n",
              "      border: none;\n",
              "      border-radius: 50%;\n",
              "      cursor: pointer;\n",
              "      display: none;\n",
              "      fill: #1967D2;\n",
              "      height: 32px;\n",
              "      padding: 0 0 0 0;\n",
              "      width: 32px;\n",
              "    }\n",
              "\n",
              "    .colab-df-convert:hover {\n",
              "      background-color: #E2EBFA;\n",
              "      box-shadow: 0px 1px 2px rgba(60, 64, 67, 0.3), 0px 1px 3px 1px rgba(60, 64, 67, 0.15);\n",
              "      fill: #174EA6;\n",
              "    }\n",
              "\n",
              "    [theme=dark] .colab-df-convert {\n",
              "      background-color: #3B4455;\n",
              "      fill: #D2E3FC;\n",
              "    }\n",
              "\n",
              "    [theme=dark] .colab-df-convert:hover {\n",
              "      background-color: #434B5C;\n",
              "      box-shadow: 0px 1px 3px 1px rgba(0, 0, 0, 0.15);\n",
              "      filter: drop-shadow(0px 1px 2px rgba(0, 0, 0, 0.3));\n",
              "      fill: #FFFFFF;\n",
              "    }\n",
              "  </style>\n",
              "\n",
              "      <script>\n",
              "        const buttonEl =\n",
              "          document.querySelector('#df-05b8a447-5ea6-4ef9-8600-090db369eac5 button.colab-df-convert');\n",
              "        buttonEl.style.display =\n",
              "          google.colab.kernel.accessAllowed ? 'block' : 'none';\n",
              "\n",
              "        async function convertToInteractive(key) {\n",
              "          const element = document.querySelector('#df-05b8a447-5ea6-4ef9-8600-090db369eac5');\n",
              "          const dataTable =\n",
              "            await google.colab.kernel.invokeFunction('convertToInteractive',\n",
              "                                                     [key], {});\n",
              "          if (!dataTable) return;\n",
              "\n",
              "          const docLinkHtml = 'Like what you see? Visit the ' +\n",
              "            '<a target=\"_blank\" href=https://colab.research.google.com/notebooks/data_table.ipynb>data table notebook</a>'\n",
              "            + ' to learn more about interactive tables.';\n",
              "          element.innerHTML = '';\n",
              "          dataTable['output_type'] = 'display_data';\n",
              "          await google.colab.output.renderOutput(dataTable, element);\n",
              "          const docLink = document.createElement('div');\n",
              "          docLink.innerHTML = docLinkHtml;\n",
              "          element.appendChild(docLink);\n",
              "        }\n",
              "      </script>\n",
              "    </div>\n",
              "  </div>\n",
              "  "
            ]
          },
          "metadata": {},
          "execution_count": 3
        }
      ]
    },
    {
      "cell_type": "code",
      "source": [
        "# Load the dataset\n",
        "dataW = pd.read_csv('/content/drive/MyDrive/Colab Notebooks/winequality-white.csv', sep=';')\n",
        "\n",
        "# Add a new column 'WineType'(boolean) - white wine = 0\n",
        "dataW ['WineType'] = 0\n",
        "\n",
        "# Display the resulting dataframe\n",
        "dataW"
      ],
      "metadata": {
        "colab": {
          "base_uri": "https://localhost:8080/",
          "height": 485
        },
        "id": "swZmgorXySfF",
        "outputId": "9854bdec-22eb-4b53-8789-a4af15d11a93"
      },
      "execution_count": 4,
      "outputs": [
        {
          "output_type": "execute_result",
          "data": {
            "text/plain": [
              "      fixed acidity  volatile acidity  citric acid  residual sugar  chlorides  \\\n",
              "0               7.0              0.27         0.36            20.7      0.045   \n",
              "1               6.3              0.30         0.34             1.6      0.049   \n",
              "2               8.1              0.28         0.40             6.9      0.050   \n",
              "3               7.2              0.23         0.32             8.5      0.058   \n",
              "4               7.2              0.23         0.32             8.5      0.058   \n",
              "...             ...               ...          ...             ...        ...   \n",
              "4893            6.2              0.21         0.29             1.6      0.039   \n",
              "4894            6.6              0.32         0.36             8.0      0.047   \n",
              "4895            6.5              0.24         0.19             1.2      0.041   \n",
              "4896            5.5              0.29         0.30             1.1      0.022   \n",
              "4897            6.0              0.21         0.38             0.8      0.020   \n",
              "\n",
              "      free sulfur dioxide  total sulfur dioxide  density    pH  sulphates  \\\n",
              "0                    45.0                 170.0  1.00100  3.00       0.45   \n",
              "1                    14.0                 132.0  0.99400  3.30       0.49   \n",
              "2                    30.0                  97.0  0.99510  3.26       0.44   \n",
              "3                    47.0                 186.0  0.99560  3.19       0.40   \n",
              "4                    47.0                 186.0  0.99560  3.19       0.40   \n",
              "...                   ...                   ...      ...   ...        ...   \n",
              "4893                 24.0                  92.0  0.99114  3.27       0.50   \n",
              "4894                 57.0                 168.0  0.99490  3.15       0.46   \n",
              "4895                 30.0                 111.0  0.99254  2.99       0.46   \n",
              "4896                 20.0                 110.0  0.98869  3.34       0.38   \n",
              "4897                 22.0                  98.0  0.98941  3.26       0.32   \n",
              "\n",
              "      alcohol  quality  WineType  \n",
              "0         8.8        6         0  \n",
              "1         9.5        6         0  \n",
              "2        10.1        6         0  \n",
              "3         9.9        6         0  \n",
              "4         9.9        6         0  \n",
              "...       ...      ...       ...  \n",
              "4893     11.2        6         0  \n",
              "4894      9.6        5         0  \n",
              "4895      9.4        6         0  \n",
              "4896     12.8        7         0  \n",
              "4897     11.8        6         0  \n",
              "\n",
              "[4898 rows x 13 columns]"
            ],
            "text/html": [
              "\n",
              "  <div id=\"df-948b52a7-b2b2-44fa-b5b7-bb5d6fc4ca40\">\n",
              "    <div class=\"colab-df-container\">\n",
              "      <div>\n",
              "<style scoped>\n",
              "    .dataframe tbody tr th:only-of-type {\n",
              "        vertical-align: middle;\n",
              "    }\n",
              "\n",
              "    .dataframe tbody tr th {\n",
              "        vertical-align: top;\n",
              "    }\n",
              "\n",
              "    .dataframe thead th {\n",
              "        text-align: right;\n",
              "    }\n",
              "</style>\n",
              "<table border=\"1\" class=\"dataframe\">\n",
              "  <thead>\n",
              "    <tr style=\"text-align: right;\">\n",
              "      <th></th>\n",
              "      <th>fixed acidity</th>\n",
              "      <th>volatile acidity</th>\n",
              "      <th>citric acid</th>\n",
              "      <th>residual sugar</th>\n",
              "      <th>chlorides</th>\n",
              "      <th>free sulfur dioxide</th>\n",
              "      <th>total sulfur dioxide</th>\n",
              "      <th>density</th>\n",
              "      <th>pH</th>\n",
              "      <th>sulphates</th>\n",
              "      <th>alcohol</th>\n",
              "      <th>quality</th>\n",
              "      <th>WineType</th>\n",
              "    </tr>\n",
              "  </thead>\n",
              "  <tbody>\n",
              "    <tr>\n",
              "      <th>0</th>\n",
              "      <td>7.0</td>\n",
              "      <td>0.27</td>\n",
              "      <td>0.36</td>\n",
              "      <td>20.7</td>\n",
              "      <td>0.045</td>\n",
              "      <td>45.0</td>\n",
              "      <td>170.0</td>\n",
              "      <td>1.00100</td>\n",
              "      <td>3.00</td>\n",
              "      <td>0.45</td>\n",
              "      <td>8.8</td>\n",
              "      <td>6</td>\n",
              "      <td>0</td>\n",
              "    </tr>\n",
              "    <tr>\n",
              "      <th>1</th>\n",
              "      <td>6.3</td>\n",
              "      <td>0.30</td>\n",
              "      <td>0.34</td>\n",
              "      <td>1.6</td>\n",
              "      <td>0.049</td>\n",
              "      <td>14.0</td>\n",
              "      <td>132.0</td>\n",
              "      <td>0.99400</td>\n",
              "      <td>3.30</td>\n",
              "      <td>0.49</td>\n",
              "      <td>9.5</td>\n",
              "      <td>6</td>\n",
              "      <td>0</td>\n",
              "    </tr>\n",
              "    <tr>\n",
              "      <th>2</th>\n",
              "      <td>8.1</td>\n",
              "      <td>0.28</td>\n",
              "      <td>0.40</td>\n",
              "      <td>6.9</td>\n",
              "      <td>0.050</td>\n",
              "      <td>30.0</td>\n",
              "      <td>97.0</td>\n",
              "      <td>0.99510</td>\n",
              "      <td>3.26</td>\n",
              "      <td>0.44</td>\n",
              "      <td>10.1</td>\n",
              "      <td>6</td>\n",
              "      <td>0</td>\n",
              "    </tr>\n",
              "    <tr>\n",
              "      <th>3</th>\n",
              "      <td>7.2</td>\n",
              "      <td>0.23</td>\n",
              "      <td>0.32</td>\n",
              "      <td>8.5</td>\n",
              "      <td>0.058</td>\n",
              "      <td>47.0</td>\n",
              "      <td>186.0</td>\n",
              "      <td>0.99560</td>\n",
              "      <td>3.19</td>\n",
              "      <td>0.40</td>\n",
              "      <td>9.9</td>\n",
              "      <td>6</td>\n",
              "      <td>0</td>\n",
              "    </tr>\n",
              "    <tr>\n",
              "      <th>4</th>\n",
              "      <td>7.2</td>\n",
              "      <td>0.23</td>\n",
              "      <td>0.32</td>\n",
              "      <td>8.5</td>\n",
              "      <td>0.058</td>\n",
              "      <td>47.0</td>\n",
              "      <td>186.0</td>\n",
              "      <td>0.99560</td>\n",
              "      <td>3.19</td>\n",
              "      <td>0.40</td>\n",
              "      <td>9.9</td>\n",
              "      <td>6</td>\n",
              "      <td>0</td>\n",
              "    </tr>\n",
              "    <tr>\n",
              "      <th>...</th>\n",
              "      <td>...</td>\n",
              "      <td>...</td>\n",
              "      <td>...</td>\n",
              "      <td>...</td>\n",
              "      <td>...</td>\n",
              "      <td>...</td>\n",
              "      <td>...</td>\n",
              "      <td>...</td>\n",
              "      <td>...</td>\n",
              "      <td>...</td>\n",
              "      <td>...</td>\n",
              "      <td>...</td>\n",
              "      <td>...</td>\n",
              "    </tr>\n",
              "    <tr>\n",
              "      <th>4893</th>\n",
              "      <td>6.2</td>\n",
              "      <td>0.21</td>\n",
              "      <td>0.29</td>\n",
              "      <td>1.6</td>\n",
              "      <td>0.039</td>\n",
              "      <td>24.0</td>\n",
              "      <td>92.0</td>\n",
              "      <td>0.99114</td>\n",
              "      <td>3.27</td>\n",
              "      <td>0.50</td>\n",
              "      <td>11.2</td>\n",
              "      <td>6</td>\n",
              "      <td>0</td>\n",
              "    </tr>\n",
              "    <tr>\n",
              "      <th>4894</th>\n",
              "      <td>6.6</td>\n",
              "      <td>0.32</td>\n",
              "      <td>0.36</td>\n",
              "      <td>8.0</td>\n",
              "      <td>0.047</td>\n",
              "      <td>57.0</td>\n",
              "      <td>168.0</td>\n",
              "      <td>0.99490</td>\n",
              "      <td>3.15</td>\n",
              "      <td>0.46</td>\n",
              "      <td>9.6</td>\n",
              "      <td>5</td>\n",
              "      <td>0</td>\n",
              "    </tr>\n",
              "    <tr>\n",
              "      <th>4895</th>\n",
              "      <td>6.5</td>\n",
              "      <td>0.24</td>\n",
              "      <td>0.19</td>\n",
              "      <td>1.2</td>\n",
              "      <td>0.041</td>\n",
              "      <td>30.0</td>\n",
              "      <td>111.0</td>\n",
              "      <td>0.99254</td>\n",
              "      <td>2.99</td>\n",
              "      <td>0.46</td>\n",
              "      <td>9.4</td>\n",
              "      <td>6</td>\n",
              "      <td>0</td>\n",
              "    </tr>\n",
              "    <tr>\n",
              "      <th>4896</th>\n",
              "      <td>5.5</td>\n",
              "      <td>0.29</td>\n",
              "      <td>0.30</td>\n",
              "      <td>1.1</td>\n",
              "      <td>0.022</td>\n",
              "      <td>20.0</td>\n",
              "      <td>110.0</td>\n",
              "      <td>0.98869</td>\n",
              "      <td>3.34</td>\n",
              "      <td>0.38</td>\n",
              "      <td>12.8</td>\n",
              "      <td>7</td>\n",
              "      <td>0</td>\n",
              "    </tr>\n",
              "    <tr>\n",
              "      <th>4897</th>\n",
              "      <td>6.0</td>\n",
              "      <td>0.21</td>\n",
              "      <td>0.38</td>\n",
              "      <td>0.8</td>\n",
              "      <td>0.020</td>\n",
              "      <td>22.0</td>\n",
              "      <td>98.0</td>\n",
              "      <td>0.98941</td>\n",
              "      <td>3.26</td>\n",
              "      <td>0.32</td>\n",
              "      <td>11.8</td>\n",
              "      <td>6</td>\n",
              "      <td>0</td>\n",
              "    </tr>\n",
              "  </tbody>\n",
              "</table>\n",
              "<p>4898 rows × 13 columns</p>\n",
              "</div>\n",
              "      <button class=\"colab-df-convert\" onclick=\"convertToInteractive('df-948b52a7-b2b2-44fa-b5b7-bb5d6fc4ca40')\"\n",
              "              title=\"Convert this dataframe to an interactive table.\"\n",
              "              style=\"display:none;\">\n",
              "        \n",
              "  <svg xmlns=\"http://www.w3.org/2000/svg\" height=\"24px\"viewBox=\"0 0 24 24\"\n",
              "       width=\"24px\">\n",
              "    <path d=\"M0 0h24v24H0V0z\" fill=\"none\"/>\n",
              "    <path d=\"M18.56 5.44l.94 2.06.94-2.06 2.06-.94-2.06-.94-.94-2.06-.94 2.06-2.06.94zm-11 1L8.5 8.5l.94-2.06 2.06-.94-2.06-.94L8.5 2.5l-.94 2.06-2.06.94zm10 10l.94 2.06.94-2.06 2.06-.94-2.06-.94-.94-2.06-.94 2.06-2.06.94z\"/><path d=\"M17.41 7.96l-1.37-1.37c-.4-.4-.92-.59-1.43-.59-.52 0-1.04.2-1.43.59L10.3 9.45l-7.72 7.72c-.78.78-.78 2.05 0 2.83L4 21.41c.39.39.9.59 1.41.59.51 0 1.02-.2 1.41-.59l7.78-7.78 2.81-2.81c.8-.78.8-2.07 0-2.86zM5.41 20L4 18.59l7.72-7.72 1.47 1.35L5.41 20z\"/>\n",
              "  </svg>\n",
              "      </button>\n",
              "      \n",
              "  <style>\n",
              "    .colab-df-container {\n",
              "      display:flex;\n",
              "      flex-wrap:wrap;\n",
              "      gap: 12px;\n",
              "    }\n",
              "\n",
              "    .colab-df-convert {\n",
              "      background-color: #E8F0FE;\n",
              "      border: none;\n",
              "      border-radius: 50%;\n",
              "      cursor: pointer;\n",
              "      display: none;\n",
              "      fill: #1967D2;\n",
              "      height: 32px;\n",
              "      padding: 0 0 0 0;\n",
              "      width: 32px;\n",
              "    }\n",
              "\n",
              "    .colab-df-convert:hover {\n",
              "      background-color: #E2EBFA;\n",
              "      box-shadow: 0px 1px 2px rgba(60, 64, 67, 0.3), 0px 1px 3px 1px rgba(60, 64, 67, 0.15);\n",
              "      fill: #174EA6;\n",
              "    }\n",
              "\n",
              "    [theme=dark] .colab-df-convert {\n",
              "      background-color: #3B4455;\n",
              "      fill: #D2E3FC;\n",
              "    }\n",
              "\n",
              "    [theme=dark] .colab-df-convert:hover {\n",
              "      background-color: #434B5C;\n",
              "      box-shadow: 0px 1px 3px 1px rgba(0, 0, 0, 0.15);\n",
              "      filter: drop-shadow(0px 1px 2px rgba(0, 0, 0, 0.3));\n",
              "      fill: #FFFFFF;\n",
              "    }\n",
              "  </style>\n",
              "\n",
              "      <script>\n",
              "        const buttonEl =\n",
              "          document.querySelector('#df-948b52a7-b2b2-44fa-b5b7-bb5d6fc4ca40 button.colab-df-convert');\n",
              "        buttonEl.style.display =\n",
              "          google.colab.kernel.accessAllowed ? 'block' : 'none';\n",
              "\n",
              "        async function convertToInteractive(key) {\n",
              "          const element = document.querySelector('#df-948b52a7-b2b2-44fa-b5b7-bb5d6fc4ca40');\n",
              "          const dataTable =\n",
              "            await google.colab.kernel.invokeFunction('convertToInteractive',\n",
              "                                                     [key], {});\n",
              "          if (!dataTable) return;\n",
              "\n",
              "          const docLinkHtml = 'Like what you see? Visit the ' +\n",
              "            '<a target=\"_blank\" href=https://colab.research.google.com/notebooks/data_table.ipynb>data table notebook</a>'\n",
              "            + ' to learn more about interactive tables.';\n",
              "          element.innerHTML = '';\n",
              "          dataTable['output_type'] = 'display_data';\n",
              "          await google.colab.output.renderOutput(dataTable, element);\n",
              "          const docLink = document.createElement('div');\n",
              "          docLink.innerHTML = docLinkHtml;\n",
              "          element.appendChild(docLink);\n",
              "        }\n",
              "      </script>\n",
              "    </div>\n",
              "  </div>\n",
              "  "
            ]
          },
          "metadata": {},
          "execution_count": 4
        }
      ]
    },
    {
      "cell_type": "code",
      "source": [
        "#Mege the two data sets\n",
        "data = pd.merge(dataW, dataR, how='outer')\n",
        "\n",
        "data"
      ],
      "metadata": {
        "colab": {
          "base_uri": "https://localhost:8080/",
          "height": 485
        },
        "id": "sY_PdVgd2fvy",
        "outputId": "307da267-ba38-43a7-b145-f6e0ad29f42a"
      },
      "execution_count": 5,
      "outputs": [
        {
          "output_type": "execute_result",
          "data": {
            "text/plain": [
              "      fixed acidity  volatile acidity  citric acid  residual sugar  chlorides  \\\n",
              "0               7.0             0.270         0.36            20.7      0.045   \n",
              "1               7.0             0.270         0.36            20.7      0.045   \n",
              "2               6.3             0.300         0.34             1.6      0.049   \n",
              "3               6.3             0.300         0.34             1.6      0.049   \n",
              "4               8.1             0.280         0.40             6.9      0.050   \n",
              "...             ...               ...          ...             ...        ...   \n",
              "6492            6.8             0.620         0.08             1.9      0.068   \n",
              "6493            6.2             0.600         0.08             2.0      0.090   \n",
              "6494            5.9             0.550         0.10             2.2      0.062   \n",
              "6495            5.9             0.645         0.12             2.0      0.075   \n",
              "6496            6.0             0.310         0.47             3.6      0.067   \n",
              "\n",
              "      free sulfur dioxide  total sulfur dioxide  density    pH  sulphates  \\\n",
              "0                    45.0                 170.0  1.00100  3.00       0.45   \n",
              "1                    45.0                 170.0  1.00100  3.00       0.45   \n",
              "2                    14.0                 132.0  0.99400  3.30       0.49   \n",
              "3                    14.0                 132.0  0.99400  3.30       0.49   \n",
              "4                    30.0                  97.0  0.99510  3.26       0.44   \n",
              "...                   ...                   ...      ...   ...        ...   \n",
              "6492                 28.0                  38.0  0.99651  3.42       0.82   \n",
              "6493                 32.0                  44.0  0.99490  3.45       0.58   \n",
              "6494                 39.0                  51.0  0.99512  3.52       0.76   \n",
              "6495                 32.0                  44.0  0.99547  3.57       0.71   \n",
              "6496                 18.0                  42.0  0.99549  3.39       0.66   \n",
              "\n",
              "      alcohol  quality  WineType  \n",
              "0         8.8        6         0  \n",
              "1         8.8        6         0  \n",
              "2         9.5        6         0  \n",
              "3         9.5        6         0  \n",
              "4        10.1        6         0  \n",
              "...       ...      ...       ...  \n",
              "6492      9.5        6         1  \n",
              "6493     10.5        5         1  \n",
              "6494     11.2        6         1  \n",
              "6495     10.2        5         1  \n",
              "6496     11.0        6         1  \n",
              "\n",
              "[6497 rows x 13 columns]"
            ],
            "text/html": [
              "\n",
              "  <div id=\"df-50b71366-1617-4683-8d6f-746a7f44095f\">\n",
              "    <div class=\"colab-df-container\">\n",
              "      <div>\n",
              "<style scoped>\n",
              "    .dataframe tbody tr th:only-of-type {\n",
              "        vertical-align: middle;\n",
              "    }\n",
              "\n",
              "    .dataframe tbody tr th {\n",
              "        vertical-align: top;\n",
              "    }\n",
              "\n",
              "    .dataframe thead th {\n",
              "        text-align: right;\n",
              "    }\n",
              "</style>\n",
              "<table border=\"1\" class=\"dataframe\">\n",
              "  <thead>\n",
              "    <tr style=\"text-align: right;\">\n",
              "      <th></th>\n",
              "      <th>fixed acidity</th>\n",
              "      <th>volatile acidity</th>\n",
              "      <th>citric acid</th>\n",
              "      <th>residual sugar</th>\n",
              "      <th>chlorides</th>\n",
              "      <th>free sulfur dioxide</th>\n",
              "      <th>total sulfur dioxide</th>\n",
              "      <th>density</th>\n",
              "      <th>pH</th>\n",
              "      <th>sulphates</th>\n",
              "      <th>alcohol</th>\n",
              "      <th>quality</th>\n",
              "      <th>WineType</th>\n",
              "    </tr>\n",
              "  </thead>\n",
              "  <tbody>\n",
              "    <tr>\n",
              "      <th>0</th>\n",
              "      <td>7.0</td>\n",
              "      <td>0.270</td>\n",
              "      <td>0.36</td>\n",
              "      <td>20.7</td>\n",
              "      <td>0.045</td>\n",
              "      <td>45.0</td>\n",
              "      <td>170.0</td>\n",
              "      <td>1.00100</td>\n",
              "      <td>3.00</td>\n",
              "      <td>0.45</td>\n",
              "      <td>8.8</td>\n",
              "      <td>6</td>\n",
              "      <td>0</td>\n",
              "    </tr>\n",
              "    <tr>\n",
              "      <th>1</th>\n",
              "      <td>7.0</td>\n",
              "      <td>0.270</td>\n",
              "      <td>0.36</td>\n",
              "      <td>20.7</td>\n",
              "      <td>0.045</td>\n",
              "      <td>45.0</td>\n",
              "      <td>170.0</td>\n",
              "      <td>1.00100</td>\n",
              "      <td>3.00</td>\n",
              "      <td>0.45</td>\n",
              "      <td>8.8</td>\n",
              "      <td>6</td>\n",
              "      <td>0</td>\n",
              "    </tr>\n",
              "    <tr>\n",
              "      <th>2</th>\n",
              "      <td>6.3</td>\n",
              "      <td>0.300</td>\n",
              "      <td>0.34</td>\n",
              "      <td>1.6</td>\n",
              "      <td>0.049</td>\n",
              "      <td>14.0</td>\n",
              "      <td>132.0</td>\n",
              "      <td>0.99400</td>\n",
              "      <td>3.30</td>\n",
              "      <td>0.49</td>\n",
              "      <td>9.5</td>\n",
              "      <td>6</td>\n",
              "      <td>0</td>\n",
              "    </tr>\n",
              "    <tr>\n",
              "      <th>3</th>\n",
              "      <td>6.3</td>\n",
              "      <td>0.300</td>\n",
              "      <td>0.34</td>\n",
              "      <td>1.6</td>\n",
              "      <td>0.049</td>\n",
              "      <td>14.0</td>\n",
              "      <td>132.0</td>\n",
              "      <td>0.99400</td>\n",
              "      <td>3.30</td>\n",
              "      <td>0.49</td>\n",
              "      <td>9.5</td>\n",
              "      <td>6</td>\n",
              "      <td>0</td>\n",
              "    </tr>\n",
              "    <tr>\n",
              "      <th>4</th>\n",
              "      <td>8.1</td>\n",
              "      <td>0.280</td>\n",
              "      <td>0.40</td>\n",
              "      <td>6.9</td>\n",
              "      <td>0.050</td>\n",
              "      <td>30.0</td>\n",
              "      <td>97.0</td>\n",
              "      <td>0.99510</td>\n",
              "      <td>3.26</td>\n",
              "      <td>0.44</td>\n",
              "      <td>10.1</td>\n",
              "      <td>6</td>\n",
              "      <td>0</td>\n",
              "    </tr>\n",
              "    <tr>\n",
              "      <th>...</th>\n",
              "      <td>...</td>\n",
              "      <td>...</td>\n",
              "      <td>...</td>\n",
              "      <td>...</td>\n",
              "      <td>...</td>\n",
              "      <td>...</td>\n",
              "      <td>...</td>\n",
              "      <td>...</td>\n",
              "      <td>...</td>\n",
              "      <td>...</td>\n",
              "      <td>...</td>\n",
              "      <td>...</td>\n",
              "      <td>...</td>\n",
              "    </tr>\n",
              "    <tr>\n",
              "      <th>6492</th>\n",
              "      <td>6.8</td>\n",
              "      <td>0.620</td>\n",
              "      <td>0.08</td>\n",
              "      <td>1.9</td>\n",
              "      <td>0.068</td>\n",
              "      <td>28.0</td>\n",
              "      <td>38.0</td>\n",
              "      <td>0.99651</td>\n",
              "      <td>3.42</td>\n",
              "      <td>0.82</td>\n",
              "      <td>9.5</td>\n",
              "      <td>6</td>\n",
              "      <td>1</td>\n",
              "    </tr>\n",
              "    <tr>\n",
              "      <th>6493</th>\n",
              "      <td>6.2</td>\n",
              "      <td>0.600</td>\n",
              "      <td>0.08</td>\n",
              "      <td>2.0</td>\n",
              "      <td>0.090</td>\n",
              "      <td>32.0</td>\n",
              "      <td>44.0</td>\n",
              "      <td>0.99490</td>\n",
              "      <td>3.45</td>\n",
              "      <td>0.58</td>\n",
              "      <td>10.5</td>\n",
              "      <td>5</td>\n",
              "      <td>1</td>\n",
              "    </tr>\n",
              "    <tr>\n",
              "      <th>6494</th>\n",
              "      <td>5.9</td>\n",
              "      <td>0.550</td>\n",
              "      <td>0.10</td>\n",
              "      <td>2.2</td>\n",
              "      <td>0.062</td>\n",
              "      <td>39.0</td>\n",
              "      <td>51.0</td>\n",
              "      <td>0.99512</td>\n",
              "      <td>3.52</td>\n",
              "      <td>0.76</td>\n",
              "      <td>11.2</td>\n",
              "      <td>6</td>\n",
              "      <td>1</td>\n",
              "    </tr>\n",
              "    <tr>\n",
              "      <th>6495</th>\n",
              "      <td>5.9</td>\n",
              "      <td>0.645</td>\n",
              "      <td>0.12</td>\n",
              "      <td>2.0</td>\n",
              "      <td>0.075</td>\n",
              "      <td>32.0</td>\n",
              "      <td>44.0</td>\n",
              "      <td>0.99547</td>\n",
              "      <td>3.57</td>\n",
              "      <td>0.71</td>\n",
              "      <td>10.2</td>\n",
              "      <td>5</td>\n",
              "      <td>1</td>\n",
              "    </tr>\n",
              "    <tr>\n",
              "      <th>6496</th>\n",
              "      <td>6.0</td>\n",
              "      <td>0.310</td>\n",
              "      <td>0.47</td>\n",
              "      <td>3.6</td>\n",
              "      <td>0.067</td>\n",
              "      <td>18.0</td>\n",
              "      <td>42.0</td>\n",
              "      <td>0.99549</td>\n",
              "      <td>3.39</td>\n",
              "      <td>0.66</td>\n",
              "      <td>11.0</td>\n",
              "      <td>6</td>\n",
              "      <td>1</td>\n",
              "    </tr>\n",
              "  </tbody>\n",
              "</table>\n",
              "<p>6497 rows × 13 columns</p>\n",
              "</div>\n",
              "      <button class=\"colab-df-convert\" onclick=\"convertToInteractive('df-50b71366-1617-4683-8d6f-746a7f44095f')\"\n",
              "              title=\"Convert this dataframe to an interactive table.\"\n",
              "              style=\"display:none;\">\n",
              "        \n",
              "  <svg xmlns=\"http://www.w3.org/2000/svg\" height=\"24px\"viewBox=\"0 0 24 24\"\n",
              "       width=\"24px\">\n",
              "    <path d=\"M0 0h24v24H0V0z\" fill=\"none\"/>\n",
              "    <path d=\"M18.56 5.44l.94 2.06.94-2.06 2.06-.94-2.06-.94-.94-2.06-.94 2.06-2.06.94zm-11 1L8.5 8.5l.94-2.06 2.06-.94-2.06-.94L8.5 2.5l-.94 2.06-2.06.94zm10 10l.94 2.06.94-2.06 2.06-.94-2.06-.94-.94-2.06-.94 2.06-2.06.94z\"/><path d=\"M17.41 7.96l-1.37-1.37c-.4-.4-.92-.59-1.43-.59-.52 0-1.04.2-1.43.59L10.3 9.45l-7.72 7.72c-.78.78-.78 2.05 0 2.83L4 21.41c.39.39.9.59 1.41.59.51 0 1.02-.2 1.41-.59l7.78-7.78 2.81-2.81c.8-.78.8-2.07 0-2.86zM5.41 20L4 18.59l7.72-7.72 1.47 1.35L5.41 20z\"/>\n",
              "  </svg>\n",
              "      </button>\n",
              "      \n",
              "  <style>\n",
              "    .colab-df-container {\n",
              "      display:flex;\n",
              "      flex-wrap:wrap;\n",
              "      gap: 12px;\n",
              "    }\n",
              "\n",
              "    .colab-df-convert {\n",
              "      background-color: #E8F0FE;\n",
              "      border: none;\n",
              "      border-radius: 50%;\n",
              "      cursor: pointer;\n",
              "      display: none;\n",
              "      fill: #1967D2;\n",
              "      height: 32px;\n",
              "      padding: 0 0 0 0;\n",
              "      width: 32px;\n",
              "    }\n",
              "\n",
              "    .colab-df-convert:hover {\n",
              "      background-color: #E2EBFA;\n",
              "      box-shadow: 0px 1px 2px rgba(60, 64, 67, 0.3), 0px 1px 3px 1px rgba(60, 64, 67, 0.15);\n",
              "      fill: #174EA6;\n",
              "    }\n",
              "\n",
              "    [theme=dark] .colab-df-convert {\n",
              "      background-color: #3B4455;\n",
              "      fill: #D2E3FC;\n",
              "    }\n",
              "\n",
              "    [theme=dark] .colab-df-convert:hover {\n",
              "      background-color: #434B5C;\n",
              "      box-shadow: 0px 1px 3px 1px rgba(0, 0, 0, 0.15);\n",
              "      filter: drop-shadow(0px 1px 2px rgba(0, 0, 0, 0.3));\n",
              "      fill: #FFFFFF;\n",
              "    }\n",
              "  </style>\n",
              "\n",
              "      <script>\n",
              "        const buttonEl =\n",
              "          document.querySelector('#df-50b71366-1617-4683-8d6f-746a7f44095f button.colab-df-convert');\n",
              "        buttonEl.style.display =\n",
              "          google.colab.kernel.accessAllowed ? 'block' : 'none';\n",
              "\n",
              "        async function convertToInteractive(key) {\n",
              "          const element = document.querySelector('#df-50b71366-1617-4683-8d6f-746a7f44095f');\n",
              "          const dataTable =\n",
              "            await google.colab.kernel.invokeFunction('convertToInteractive',\n",
              "                                                     [key], {});\n",
              "          if (!dataTable) return;\n",
              "\n",
              "          const docLinkHtml = 'Like what you see? Visit the ' +\n",
              "            '<a target=\"_blank\" href=https://colab.research.google.com/notebooks/data_table.ipynb>data table notebook</a>'\n",
              "            + ' to learn more about interactive tables.';\n",
              "          element.innerHTML = '';\n",
              "          dataTable['output_type'] = 'display_data';\n",
              "          await google.colab.output.renderOutput(dataTable, element);\n",
              "          const docLink = document.createElement('div');\n",
              "          docLink.innerHTML = docLinkHtml;\n",
              "          element.appendChild(docLink);\n",
              "        }\n",
              "      </script>\n",
              "    </div>\n",
              "  </div>\n",
              "  "
            ]
          },
          "metadata": {},
          "execution_count": 5
        }
      ]
    },
    {
      "cell_type": "code",
      "source": [
        "# Assign WineType as the target \n",
        "y = data['WineType']\n",
        "x = data.drop(columns = ['WineType'])\n",
        "\n",
        "# Splitting the data into train and test sets\n",
        "#Stratify since red and white data are imbalanced\n",
        "x_train, x_test, y_train, y_test = train_test_split(x, y, test_size=0.3, stratify=y, random_state=42)\n"
      ],
      "metadata": {
        "id": "XKmUjIQl5Ofi"
      },
      "execution_count": 6,
      "outputs": []
    },
    {
      "cell_type": "markdown",
      "source": [
        "#Model Building 1 (simple neural network)\n",
        "The first model is a simple neural network that contains 2 layers. The purpose of this is to set a base reference for experimenting with other neural network architectures. The architecture of the model is such that: \n",
        "\n",
        "* Fully connected neural network (Dense)\n",
        "* First layer   - 2 neurons -AF: RELU\n",
        "* Second layer  - 1 neuron  -AF: Sigmoid\n",
        "\n"
      ],
      "metadata": {
        "id": "kGamQbA5KEL3"
      }
    },
    {
      "cell_type": "code",
      "source": [
        "# Define the model:\n",
        "from keras.models import Sequential\n",
        "from keras.layers import Dense\n",
        "model_1 = Sequential()\n",
        "model_1.add(Dense(2, input_dim=12, activation='relu'))\n",
        "model_1.add(Dense(1, activation='sigmoid'))\n",
        "print(model_1.summary())"
      ],
      "metadata": {
        "colab": {
          "base_uri": "https://localhost:8080/"
        },
        "id": "ORg7xVFzFfjG",
        "outputId": "aad2e08e-1001-4ece-b85f-13f754639581"
      },
      "execution_count": 7,
      "outputs": [
        {
          "output_type": "stream",
          "name": "stdout",
          "text": [
            "Model: \"sequential\"\n",
            "_________________________________________________________________\n",
            " Layer (type)                Output Shape              Param #   \n",
            "=================================================================\n",
            " dense (Dense)               (None, 2)                 26        \n",
            "                                                                 \n",
            " dense_1 (Dense)             (None, 1)                 3         \n",
            "                                                                 \n",
            "=================================================================\n",
            "Total params: 29\n",
            "Trainable params: 29\n",
            "Non-trainable params: 0\n",
            "_________________________________________________________________\n",
            "None\n"
          ]
        }
      ]
    },
    {
      "cell_type": "code",
      "source": [
        "svg_path = '/content/drive/MyDrive/Colab Notebooks/nn (1).svg'\n",
        "display(SVG(svg_path))\n"
      ],
      "metadata": {
        "colab": {
          "base_uri": "https://localhost:8080/",
          "height": 840
        },
        "id": "bSAgtwHpYZt5",
        "outputId": "d58ac65c-c28e-4b1e-eabd-a06ee832d872"
      },
      "execution_count": 8,
      "outputs": [
        {
          "output_type": "display_data",
          "data": {
            "text/plain": [
              "<IPython.core.display.SVG object>"
            ],
            "image/svg+xml": "<svg xmlns=\"http://www.w3.org/2000/svg\" width=\"1707\" height=\"799\" style=\"cursor: move; touch-action: none; -webkit-tap-highlight-color: rgba(0, 0, 0, 0);\"><g transform=\"translate(-752.8203494480965,-99.48924937672564) scale(1.2311444133449165)\"><path class=\"link\" marker-end=\"\" d=\"M693.5,169.5, 873.5,369.5\" style=\"stroke-width: 0.5; stroke-opacity: 1; stroke: rgb(80, 80, 80);\"/><path class=\"link\" marker-end=\"\" d=\"M693.5,169.5, 873.5,409.5\" style=\"stroke-width: 0.5; stroke-opacity: 1; stroke: rgb(80, 80, 80);\"/><path class=\"link\" marker-end=\"\" d=\"M693.5,209.5, 873.5,369.5\" style=\"stroke-width: 0.5; stroke-opacity: 1; stroke: rgb(80, 80, 80);\"/><path class=\"link\" marker-end=\"\" d=\"M693.5,209.5, 873.5,409.5\" style=\"stroke-width: 0.5; stroke-opacity: 1; stroke: rgb(80, 80, 80);\"/><path class=\"link\" marker-end=\"\" d=\"M693.5,249.5, 873.5,369.5\" style=\"stroke-width: 0.5; stroke-opacity: 1; stroke: rgb(80, 80, 80);\"/><path class=\"link\" marker-end=\"\" d=\"M693.5,249.5, 873.5,409.5\" style=\"stroke-width: 0.5; stroke-opacity: 1; stroke: rgb(80, 80, 80);\"/><path class=\"link\" marker-end=\"\" d=\"M693.5,289.5, 873.5,369.5\" style=\"stroke-width: 0.5; stroke-opacity: 1; stroke: rgb(80, 80, 80);\"/><path class=\"link\" marker-end=\"\" d=\"M693.5,289.5, 873.5,409.5\" style=\"stroke-width: 0.5; stroke-opacity: 1; stroke: rgb(80, 80, 80);\"/><path class=\"link\" marker-end=\"\" d=\"M693.5,329.5, 873.5,369.5\" style=\"stroke-width: 0.5; stroke-opacity: 1; stroke: rgb(80, 80, 80);\"/><path class=\"link\" marker-end=\"\" d=\"M693.5,329.5, 873.5,409.5\" style=\"stroke-width: 0.5; stroke-opacity: 1; stroke: rgb(80, 80, 80);\"/><path class=\"link\" marker-end=\"\" d=\"M693.5,369.5, 873.5,369.5\" style=\"stroke-width: 0.5; stroke-opacity: 1; stroke: rgb(80, 80, 80);\"/><path class=\"link\" marker-end=\"\" d=\"M693.5,369.5, 873.5,409.5\" style=\"stroke-width: 0.5; stroke-opacity: 1; stroke: rgb(80, 80, 80);\"/><path class=\"link\" marker-end=\"\" d=\"M693.5,409.5, 873.5,369.5\" style=\"stroke-width: 0.5; stroke-opacity: 1; stroke: rgb(80, 80, 80);\"/><path class=\"link\" marker-end=\"\" d=\"M693.5,409.5, 873.5,409.5\" style=\"stroke-width: 0.5; stroke-opacity: 1; stroke: rgb(80, 80, 80);\"/><path class=\"link\" marker-end=\"\" d=\"M693.5,449.5, 873.5,369.5\" style=\"stroke-width: 0.5; stroke-opacity: 1; stroke: rgb(80, 80, 80);\"/><path class=\"link\" marker-end=\"\" d=\"M693.5,449.5, 873.5,409.5\" style=\"stroke-width: 0.5; stroke-opacity: 1; stroke: rgb(80, 80, 80);\"/><path class=\"link\" marker-end=\"\" d=\"M693.5,489.5, 873.5,369.5\" style=\"stroke-width: 0.5; stroke-opacity: 1; stroke: rgb(80, 80, 80);\"/><path class=\"link\" marker-end=\"\" d=\"M693.5,489.5, 873.5,409.5\" style=\"stroke-width: 0.5; stroke-opacity: 1; stroke: rgb(80, 80, 80);\"/><path class=\"link\" marker-end=\"\" d=\"M693.5,529.5, 873.5,369.5\" style=\"stroke-width: 0.5; stroke-opacity: 1; stroke: rgb(80, 80, 80);\"/><path class=\"link\" marker-end=\"\" d=\"M693.5,529.5, 873.5,409.5\" style=\"stroke-width: 0.5; stroke-opacity: 1; stroke: rgb(80, 80, 80);\"/><path class=\"link\" marker-end=\"\" d=\"M693.5,569.5, 873.5,369.5\" style=\"stroke-width: 0.5; stroke-opacity: 1; stroke: rgb(80, 80, 80);\"/><path class=\"link\" marker-end=\"\" d=\"M693.5,569.5, 873.5,409.5\" style=\"stroke-width: 0.5; stroke-opacity: 1; stroke: rgb(80, 80, 80);\"/><path class=\"link\" marker-end=\"\" d=\"M693.5,609.5, 873.5,369.5\" style=\"stroke-width: 0.5; stroke-opacity: 1; stroke: rgb(80, 80, 80);\"/><path class=\"link\" marker-end=\"\" d=\"M693.5,609.5, 873.5,409.5\" style=\"stroke-width: 0.5; stroke-opacity: 1; stroke: rgb(80, 80, 80);\"/><path class=\"link\" marker-end=\"\" d=\"M873.5,369.5, 1053.5,389.5\" style=\"stroke-width: 0.5; stroke-opacity: 1; stroke: rgb(80, 80, 80);\"/><path class=\"link\" marker-end=\"\" d=\"M873.5,409.5, 1053.5,389.5\" style=\"stroke-width: 0.5; stroke-opacity: 1; stroke: rgb(80, 80, 80);\"/><circle r=\"10\" class=\"node\" id=\"0_0\" cx=\"693.5\" cy=\"169.5\" style=\"fill: rgb(255, 255, 255); stroke: rgb(51, 51, 51);\"/><circle r=\"10\" class=\"node\" id=\"0_1\" cx=\"693.5\" cy=\"209.5\" style=\"fill: rgb(255, 255, 255); stroke: rgb(51, 51, 51);\"/><circle r=\"10\" class=\"node\" id=\"0_2\" cx=\"693.5\" cy=\"249.5\" style=\"fill: rgb(255, 255, 255); stroke: rgb(51, 51, 51);\"/><circle r=\"10\" class=\"node\" id=\"0_3\" cx=\"693.5\" cy=\"289.5\" style=\"fill: rgb(255, 255, 255); stroke: rgb(51, 51, 51);\"/><circle r=\"10\" class=\"node\" id=\"0_4\" cx=\"693.5\" cy=\"329.5\" style=\"fill: rgb(255, 255, 255); stroke: rgb(51, 51, 51);\"/><circle r=\"10\" class=\"node\" id=\"0_5\" cx=\"693.5\" cy=\"369.5\" style=\"fill: rgb(255, 255, 255); stroke: rgb(51, 51, 51);\"/><circle r=\"10\" class=\"node\" id=\"0_6\" cx=\"693.5\" cy=\"409.5\" style=\"fill: rgb(255, 255, 255); stroke: rgb(51, 51, 51);\"/><circle r=\"10\" class=\"node\" id=\"0_7\" cx=\"693.5\" cy=\"449.5\" style=\"fill: rgb(255, 255, 255); stroke: rgb(51, 51, 51);\"/><circle r=\"10\" class=\"node\" id=\"0_8\" cx=\"693.5\" cy=\"489.5\" style=\"fill: rgb(255, 255, 255); stroke: rgb(51, 51, 51);\"/><circle r=\"10\" class=\"node\" id=\"0_9\" cx=\"693.5\" cy=\"529.5\" style=\"fill: rgb(255, 255, 255); stroke: rgb(51, 51, 51);\"/><circle r=\"10\" class=\"node\" id=\"0_10\" cx=\"693.5\" cy=\"569.5\" style=\"fill: rgb(255, 255, 255); stroke: rgb(51, 51, 51);\"/><circle r=\"10\" class=\"node\" id=\"0_11\" cx=\"693.5\" cy=\"609.5\" style=\"fill: rgb(255, 255, 255); stroke: rgb(51, 51, 51);\"/><circle r=\"10\" class=\"node\" id=\"1_0\" cx=\"873.5\" cy=\"369.5\" style=\"fill: rgb(255, 255, 255); stroke: rgb(51, 51, 51);\"/><circle r=\"10\" class=\"node\" id=\"1_1\" cx=\"873.5\" cy=\"409.5\" style=\"fill: rgb(255, 255, 255); stroke: rgb(51, 51, 51);\"/><circle r=\"10\" class=\"node\" id=\"2_0\" cx=\"1053.5\" cy=\"389.5\" style=\"fill: rgb(255, 255, 255); stroke: rgb(51, 51, 51);\"/><text class=\"text\" dy=\".35em\" x=\"658.5\" y=\"649.5\" style=\"font-size: 12px;\">Input Layer ∈ ℝ¹²</text><text class=\"text\" dy=\".35em\" x=\"838.5\" y=\"649.5\" style=\"font-size: 12px;\">Hidden Layer ∈ ℝ²</text><text class=\"text\" dy=\".35em\" x=\"1018.5\" y=\"649.5\" style=\"font-size: 12px;\">Output Layer ∈ ℝ¹</text></g><defs><marker id=\"arrow\" viewBox=\"0 -5 10 10\" markerWidth=\"7\" markerHeight=\"7\" orient=\"auto\" refX=\"40\"><path d=\"M0,-5L10,0L0,5\" style=\"stroke: rgb(80, 80, 80); fill: none;\"/></marker></defs></svg>"
          },
          "metadata": {}
        }
      ]
    },
    {
      "cell_type": "code",
      "source": [
        "#Compile the model\n",
        "model_1.compile(loss='binary_crossentropy', optimizer='adam', metrics=['accuracy'])\n",
        "\n",
        "#Fit training data to the model\n",
        "model_1.fit(x_train, y_train, epochs=10, batch_size=32, validation_data=(x_test, y_test))\n"
      ],
      "metadata": {
        "colab": {
          "base_uri": "https://localhost:8080/"
        },
        "id": "IazlqdBRMZ67",
        "outputId": "1e80ce53-0f8b-41d8-9516-ac4ecb52a2ec"
      },
      "execution_count": 9,
      "outputs": [
        {
          "output_type": "stream",
          "name": "stdout",
          "text": [
            "Epoch 1/10\n",
            "143/143 [==============================] - 3s 7ms/step - loss: 0.6770 - accuracy: 0.7539 - val_loss: 0.6618 - val_accuracy: 0.7538\n",
            "Epoch 2/10\n",
            "143/143 [==============================] - 1s 4ms/step - loss: 0.6487 - accuracy: 0.7539 - val_loss: 0.6365 - val_accuracy: 0.7538\n",
            "Epoch 3/10\n",
            "143/143 [==============================] - 1s 4ms/step - loss: 0.6261 - accuracy: 0.7539 - val_loss: 0.6165 - val_accuracy: 0.7538\n",
            "Epoch 4/10\n",
            "143/143 [==============================] - 0s 3ms/step - loss: 0.6084 - accuracy: 0.7539 - val_loss: 0.6010 - val_accuracy: 0.7538\n",
            "Epoch 5/10\n",
            "143/143 [==============================] - 0s 3ms/step - loss: 0.5948 - accuracy: 0.7539 - val_loss: 0.5891 - val_accuracy: 0.7538\n",
            "Epoch 6/10\n",
            "143/143 [==============================] - 0s 3ms/step - loss: 0.5845 - accuracy: 0.7539 - val_loss: 0.5801 - val_accuracy: 0.7538\n",
            "Epoch 7/10\n",
            "143/143 [==============================] - 0s 3ms/step - loss: 0.5768 - accuracy: 0.7539 - val_loss: 0.5737 - val_accuracy: 0.7538\n",
            "Epoch 8/10\n",
            "143/143 [==============================] - 0s 3ms/step - loss: 0.5712 - accuracy: 0.7539 - val_loss: 0.5689 - val_accuracy: 0.7538\n",
            "Epoch 9/10\n",
            "143/143 [==============================] - 0s 3ms/step - loss: 0.5673 - accuracy: 0.7539 - val_loss: 0.5657 - val_accuracy: 0.7538\n",
            "Epoch 10/10\n",
            "143/143 [==============================] - 0s 3ms/step - loss: 0.5645 - accuracy: 0.7539 - val_loss: 0.5634 - val_accuracy: 0.7538\n"
          ]
        },
        {
          "output_type": "execute_result",
          "data": {
            "text/plain": [
              "<keras.callbacks.History at 0x7f031c4df6a0>"
            ]
          },
          "metadata": {},
          "execution_count": 9
        }
      ]
    },
    {
      "cell_type": "code",
      "source": [
        "# Evaluate model on the test data \n",
        "loss, accuracy = model_1.evaluate(x_test, y_test)\n",
        "print(f'Test Loss: {loss:.4f}')\n",
        "print(f'Test Accuracy: {accuracy:.4f}')"
      ],
      "metadata": {
        "colab": {
          "base_uri": "https://localhost:8080/"
        },
        "id": "bp_XMLNmNY3d",
        "outputId": "ad3564d3-6112-4a51-eb70-1fbd3dfbacc3"
      },
      "execution_count": 10,
      "outputs": [
        {
          "output_type": "stream",
          "name": "stdout",
          "text": [
            "61/61 [==============================] - 0s 2ms/step - loss: 0.5634 - accuracy: 0.7538\n",
            "Test Loss: 0.5634\n",
            "Test Accuracy: 0.7538\n"
          ]
        }
      ]
    },
    {
      "cell_type": "markdown",
      "source": [
        "# Model building 2 (additional neurons)\n",
        "The second model adds on 2 more neuraons to the first layer, everything else remain the same. The architecture of the model is such that:\n",
        "* Fully connected neural network (Dense)\n",
        "* First layer   - 4 neurons -AF: RELU\n",
        "* Second layer  - 1 neuron  -AF: Sigmoid\n",
        "\n",
        "Note: Test results coming from this model has significantly improved commpared to the first moodel\n",
        "\n"
      ],
      "metadata": {
        "id": "M5BFqPXEPI2f"
      }
    },
    {
      "cell_type": "code",
      "source": [
        "# Define the model:\n",
        "model_2 = Sequential()\n",
        "model_2.add(Dense(4, input_dim=12, activation='relu'))\n",
        "model_2.add(Dense(1, activation='sigmoid'))\n",
        "print(model_2.summary())"
      ],
      "metadata": {
        "colab": {
          "base_uri": "https://localhost:8080/"
        },
        "outputId": "12f28fb1-dcfe-4866-9569-65ea29031e37",
        "id": "C4bg5h5kPN-D"
      },
      "execution_count": 11,
      "outputs": [
        {
          "output_type": "stream",
          "name": "stdout",
          "text": [
            "Model: \"sequential_1\"\n",
            "_________________________________________________________________\n",
            " Layer (type)                Output Shape              Param #   \n",
            "=================================================================\n",
            " dense_2 (Dense)             (None, 4)                 52        \n",
            "                                                                 \n",
            " dense_3 (Dense)             (None, 1)                 5         \n",
            "                                                                 \n",
            "=================================================================\n",
            "Total params: 57\n",
            "Trainable params: 57\n",
            "Non-trainable params: 0\n",
            "_________________________________________________________________\n",
            "None\n"
          ]
        }
      ]
    },
    {
      "cell_type": "code",
      "source": [
        "svg2_path = '/content/drive/MyDrive/Colab Notebooks/nn (2).svg'\n",
        "display(SVG(svg2_path))"
      ],
      "metadata": {
        "colab": {
          "base_uri": "https://localhost:8080/",
          "height": 840
        },
        "id": "yMoeG4o4bRJK",
        "outputId": "c19e1215-d520-4be7-d6bf-66f12347d741"
      },
      "execution_count": 12,
      "outputs": [
        {
          "output_type": "display_data",
          "data": {
            "text/plain": [
              "<IPython.core.display.SVG object>"
            ],
            "image/svg+xml": "<svg xmlns=\"http://www.w3.org/2000/svg\" width=\"1707\" height=\"799\" style=\"cursor: move; touch-action: none; -webkit-tap-highlight-color: rgba(0, 0, 0, 0);\"><g transform=\"translate(-752.8203494480965,-99.48924937672564) scale(1.2311444133449165)\"><path class=\"link\" marker-end=\"\" d=\"M693.5,169.5, 873.5,329.5\" style=\"stroke-width: 0.5; stroke-opacity: 1; stroke: rgb(80, 80, 80);\"/><path class=\"link\" marker-end=\"\" d=\"M693.5,169.5, 873.5,369.5\" style=\"stroke-width: 0.5; stroke-opacity: 1; stroke: rgb(80, 80, 80);\"/><path class=\"link\" marker-end=\"\" d=\"M693.5,209.5, 873.5,329.5\" style=\"stroke-width: 0.5; stroke-opacity: 1; stroke: rgb(80, 80, 80);\"/><path class=\"link\" marker-end=\"\" d=\"M693.5,209.5, 873.5,369.5\" style=\"stroke-width: 0.5; stroke-opacity: 1; stroke: rgb(80, 80, 80);\"/><path class=\"link\" marker-end=\"\" d=\"M693.5,249.5, 873.5,329.5\" style=\"stroke-width: 0.5; stroke-opacity: 1; stroke: rgb(80, 80, 80);\"/><path class=\"link\" marker-end=\"\" d=\"M693.5,249.5, 873.5,369.5\" style=\"stroke-width: 0.5; stroke-opacity: 1; stroke: rgb(80, 80, 80);\"/><path class=\"link\" marker-end=\"\" d=\"M693.5,289.5, 873.5,329.5\" style=\"stroke-width: 0.5; stroke-opacity: 1; stroke: rgb(80, 80, 80);\"/><path class=\"link\" marker-end=\"\" d=\"M693.5,289.5, 873.5,369.5\" style=\"stroke-width: 0.5; stroke-opacity: 1; stroke: rgb(80, 80, 80);\"/><path class=\"link\" marker-end=\"\" d=\"M693.5,329.5, 873.5,329.5\" style=\"stroke-width: 0.5; stroke-opacity: 1; stroke: rgb(80, 80, 80);\"/><path class=\"link\" marker-end=\"\" d=\"M693.5,329.5, 873.5,369.5\" style=\"stroke-width: 0.5; stroke-opacity: 1; stroke: rgb(80, 80, 80);\"/><path class=\"link\" marker-end=\"\" d=\"M693.5,369.5, 873.5,329.5\" style=\"stroke-width: 0.5; stroke-opacity: 1; stroke: rgb(80, 80, 80);\"/><path class=\"link\" marker-end=\"\" d=\"M693.5,369.5, 873.5,369.5\" style=\"stroke-width: 0.5; stroke-opacity: 1; stroke: rgb(80, 80, 80);\"/><path class=\"link\" marker-end=\"\" d=\"M693.5,409.5, 873.5,329.5\" style=\"stroke-width: 0.5; stroke-opacity: 1; stroke: rgb(80, 80, 80);\"/><path class=\"link\" marker-end=\"\" d=\"M693.5,409.5, 873.5,369.5\" style=\"stroke-width: 0.5; stroke-opacity: 1; stroke: rgb(80, 80, 80);\"/><path class=\"link\" marker-end=\"\" d=\"M693.5,449.5, 873.5,329.5\" style=\"stroke-width: 0.5; stroke-opacity: 1; stroke: rgb(80, 80, 80);\"/><path class=\"link\" marker-end=\"\" d=\"M693.5,449.5, 873.5,369.5\" style=\"stroke-width: 0.5; stroke-opacity: 1; stroke: rgb(80, 80, 80);\"/><path class=\"link\" marker-end=\"\" d=\"M693.5,489.5, 873.5,329.5\" style=\"stroke-width: 0.5; stroke-opacity: 1; stroke: rgb(80, 80, 80);\"/><path class=\"link\" marker-end=\"\" d=\"M693.5,489.5, 873.5,369.5\" style=\"stroke-width: 0.5; stroke-opacity: 1; stroke: rgb(80, 80, 80);\"/><path class=\"link\" marker-end=\"\" d=\"M693.5,529.5, 873.5,329.5\" style=\"stroke-width: 0.5; stroke-opacity: 1; stroke: rgb(80, 80, 80);\"/><path class=\"link\" marker-end=\"\" d=\"M693.5,529.5, 873.5,369.5\" style=\"stroke-width: 0.5; stroke-opacity: 1; stroke: rgb(80, 80, 80);\"/><path class=\"link\" marker-end=\"\" d=\"M693.5,569.5, 873.5,329.5\" style=\"stroke-width: 0.5; stroke-opacity: 1; stroke: rgb(80, 80, 80);\"/><path class=\"link\" marker-end=\"\" d=\"M693.5,569.5, 873.5,369.5\" style=\"stroke-width: 0.5; stroke-opacity: 1; stroke: rgb(80, 80, 80);\"/><path class=\"link\" marker-end=\"\" d=\"M693.5,609.5, 873.5,329.5\" style=\"stroke-width: 0.5; stroke-opacity: 1; stroke: rgb(80, 80, 80);\"/><path class=\"link\" marker-end=\"\" d=\"M693.5,609.5, 873.5,369.5\" style=\"stroke-width: 0.5; stroke-opacity: 1; stroke: rgb(80, 80, 80);\"/><path class=\"link\" marker-end=\"\" d=\"M873.5,329.5, 1053.5,389.5\" style=\"stroke-width: 0.5; stroke-opacity: 1; stroke: rgb(80, 80, 80);\"/><path class=\"link\" marker-end=\"\" d=\"M873.5,369.5, 1053.5,389.5\" style=\"stroke-width: 0.5; stroke-opacity: 1; stroke: rgb(80, 80, 80);\"/><path class=\"link\" marker-end=\"\" d=\"M693.5,169.5, 873.5,409.5\" style=\"stroke-width: 0.5; stroke-opacity: 1; stroke: rgb(80, 80, 80);\"/><path class=\"link\" marker-end=\"\" d=\"M693.5,209.5, 873.5,409.5\" style=\"stroke-width: 0.5; stroke-opacity: 1; stroke: rgb(80, 80, 80);\"/><path class=\"link\" marker-end=\"\" d=\"M693.5,249.5, 873.5,409.5\" style=\"stroke-width: 0.5; stroke-opacity: 1; stroke: rgb(80, 80, 80);\"/><path class=\"link\" marker-end=\"\" d=\"M693.5,289.5, 873.5,409.5\" style=\"stroke-width: 0.5; stroke-opacity: 1; stroke: rgb(80, 80, 80);\"/><path class=\"link\" marker-end=\"\" d=\"M693.5,329.5, 873.5,409.5\" style=\"stroke-width: 0.5; stroke-opacity: 1; stroke: rgb(80, 80, 80);\"/><path class=\"link\" marker-end=\"\" d=\"M693.5,369.5, 873.5,409.5\" style=\"stroke-width: 0.5; stroke-opacity: 1; stroke: rgb(80, 80, 80);\"/><path class=\"link\" marker-end=\"\" d=\"M693.5,409.5, 873.5,409.5\" style=\"stroke-width: 0.5; stroke-opacity: 1; stroke: rgb(80, 80, 80);\"/><path class=\"link\" marker-end=\"\" d=\"M693.5,449.5, 873.5,409.5\" style=\"stroke-width: 0.5; stroke-opacity: 1; stroke: rgb(80, 80, 80);\"/><path class=\"link\" marker-end=\"\" d=\"M693.5,489.5, 873.5,409.5\" style=\"stroke-width: 0.5; stroke-opacity: 1; stroke: rgb(80, 80, 80);\"/><path class=\"link\" marker-end=\"\" d=\"M693.5,529.5, 873.5,409.5\" style=\"stroke-width: 0.5; stroke-opacity: 1; stroke: rgb(80, 80, 80);\"/><path class=\"link\" marker-end=\"\" d=\"M693.5,569.5, 873.5,409.5\" style=\"stroke-width: 0.5; stroke-opacity: 1; stroke: rgb(80, 80, 80);\"/><path class=\"link\" marker-end=\"\" d=\"M693.5,609.5, 873.5,409.5\" style=\"stroke-width: 0.5; stroke-opacity: 1; stroke: rgb(80, 80, 80);\"/><path class=\"link\" marker-end=\"\" d=\"M873.5,409.5, 1053.5,389.5\" style=\"stroke-width: 0.5; stroke-opacity: 1; stroke: rgb(80, 80, 80);\"/><path class=\"link\" marker-end=\"\" d=\"M693.5,169.5, 873.5,449.5\" style=\"stroke-width: 0.5; stroke-opacity: 1; stroke: rgb(80, 80, 80);\"/><path class=\"link\" marker-end=\"\" d=\"M693.5,209.5, 873.5,449.5\" style=\"stroke-width: 0.5; stroke-opacity: 1; stroke: rgb(80, 80, 80);\"/><path class=\"link\" marker-end=\"\" d=\"M693.5,249.5, 873.5,449.5\" style=\"stroke-width: 0.5; stroke-opacity: 1; stroke: rgb(80, 80, 80);\"/><path class=\"link\" marker-end=\"\" d=\"M693.5,289.5, 873.5,449.5\" style=\"stroke-width: 0.5; stroke-opacity: 1; stroke: rgb(80, 80, 80);\"/><path class=\"link\" marker-end=\"\" d=\"M693.5,329.5, 873.5,449.5\" style=\"stroke-width: 0.5; stroke-opacity: 1; stroke: rgb(80, 80, 80);\"/><path class=\"link\" marker-end=\"\" d=\"M693.5,369.5, 873.5,449.5\" style=\"stroke-width: 0.5; stroke-opacity: 1; stroke: rgb(80, 80, 80);\"/><path class=\"link\" marker-end=\"\" d=\"M693.5,409.5, 873.5,449.5\" style=\"stroke-width: 0.5; stroke-opacity: 1; stroke: rgb(80, 80, 80);\"/><path class=\"link\" marker-end=\"\" d=\"M693.5,449.5, 873.5,449.5\" style=\"stroke-width: 0.5; stroke-opacity: 1; stroke: rgb(80, 80, 80);\"/><path class=\"link\" marker-end=\"\" d=\"M693.5,489.5, 873.5,449.5\" style=\"stroke-width: 0.5; stroke-opacity: 1; stroke: rgb(80, 80, 80);\"/><path class=\"link\" marker-end=\"\" d=\"M693.5,529.5, 873.5,449.5\" style=\"stroke-width: 0.5; stroke-opacity: 1; stroke: rgb(80, 80, 80);\"/><path class=\"link\" marker-end=\"\" d=\"M693.5,569.5, 873.5,449.5\" style=\"stroke-width: 0.5; stroke-opacity: 1; stroke: rgb(80, 80, 80);\"/><path class=\"link\" marker-end=\"\" d=\"M693.5,609.5, 873.5,449.5\" style=\"stroke-width: 0.5; stroke-opacity: 1; stroke: rgb(80, 80, 80);\"/><path class=\"link\" marker-end=\"\" d=\"M873.5,449.5, 1053.5,389.5\" style=\"stroke-width: 0.5; stroke-opacity: 1; stroke: rgb(80, 80, 80);\"/><circle r=\"10\" class=\"node\" id=\"0_0\" cx=\"693.5\" cy=\"169.5\" style=\"fill: rgb(255, 255, 255); stroke: rgb(51, 51, 51);\"/><circle r=\"10\" class=\"node\" id=\"0_1\" cx=\"693.5\" cy=\"209.5\" style=\"fill: rgb(255, 255, 255); stroke: rgb(51, 51, 51);\"/><circle r=\"10\" class=\"node\" id=\"0_2\" cx=\"693.5\" cy=\"249.5\" style=\"fill: rgb(255, 255, 255); stroke: rgb(51, 51, 51);\"/><circle r=\"10\" class=\"node\" id=\"0_3\" cx=\"693.5\" cy=\"289.5\" style=\"fill: rgb(255, 255, 255); stroke: rgb(51, 51, 51);\"/><circle r=\"10\" class=\"node\" id=\"0_4\" cx=\"693.5\" cy=\"329.5\" style=\"fill: rgb(255, 255, 255); stroke: rgb(51, 51, 51);\"/><circle r=\"10\" class=\"node\" id=\"0_5\" cx=\"693.5\" cy=\"369.5\" style=\"fill: rgb(255, 255, 255); stroke: rgb(51, 51, 51);\"/><circle r=\"10\" class=\"node\" id=\"0_6\" cx=\"693.5\" cy=\"409.5\" style=\"fill: rgb(255, 255, 255); stroke: rgb(51, 51, 51);\"/><circle r=\"10\" class=\"node\" id=\"0_7\" cx=\"693.5\" cy=\"449.5\" style=\"fill: rgb(255, 255, 255); stroke: rgb(51, 51, 51);\"/><circle r=\"10\" class=\"node\" id=\"0_8\" cx=\"693.5\" cy=\"489.5\" style=\"fill: rgb(255, 255, 255); stroke: rgb(51, 51, 51);\"/><circle r=\"10\" class=\"node\" id=\"0_9\" cx=\"693.5\" cy=\"529.5\" style=\"fill: rgb(255, 255, 255); stroke: rgb(51, 51, 51);\"/><circle r=\"10\" class=\"node\" id=\"0_10\" cx=\"693.5\" cy=\"569.5\" style=\"fill: rgb(255, 255, 255); stroke: rgb(51, 51, 51);\"/><circle r=\"10\" class=\"node\" id=\"0_11\" cx=\"693.5\" cy=\"609.5\" style=\"fill: rgb(255, 255, 255); stroke: rgb(51, 51, 51);\"/><circle r=\"10\" class=\"node\" id=\"1_0\" cx=\"873.5\" cy=\"329.5\" style=\"fill: rgb(255, 255, 255); stroke: rgb(51, 51, 51);\"/><circle r=\"10\" class=\"node\" id=\"1_1\" cx=\"873.5\" cy=\"369.5\" style=\"fill: rgb(255, 255, 255); stroke: rgb(51, 51, 51);\"/><circle r=\"10\" class=\"node\" id=\"1_2\" cx=\"873.5\" cy=\"409.5\" style=\"fill: rgb(255, 255, 255); stroke: rgb(51, 51, 51);\"/><circle r=\"10\" class=\"node\" id=\"1_3\" cx=\"873.5\" cy=\"449.5\" style=\"fill: rgb(255, 255, 255); stroke: rgb(51, 51, 51);\"/><circle r=\"10\" class=\"node\" id=\"2_0\" cx=\"1053.5\" cy=\"389.5\" style=\"fill: rgb(255, 255, 255); stroke: rgb(51, 51, 51);\"/><text class=\"text\" dy=\".35em\" x=\"658.5\" y=\"649.5\" style=\"font-size: 12px;\">Input Layer ∈ ℝ¹²</text><text class=\"text\" dy=\".35em\" x=\"838.5\" y=\"649.5\" style=\"font-size: 12px;\">Hidden Layer ∈ ℝ⁴</text><text class=\"text\" dy=\".35em\" x=\"1018.5\" y=\"649.5\" style=\"font-size: 12px;\">Output Layer ∈ ℝ¹</text></g><defs><marker id=\"arrow\" viewBox=\"0 -5 10 10\" markerWidth=\"7\" markerHeight=\"7\" orient=\"auto\" refX=\"40\"><path d=\"M0,-5L10,0L0,5\" style=\"stroke: rgb(80, 80, 80); fill: none;\"/></marker></defs></svg>"
          },
          "metadata": {}
        }
      ]
    },
    {
      "cell_type": "code",
      "source": [
        "#Compile the model\n",
        "model_2.compile(loss='binary_crossentropy', optimizer='adam', metrics=['accuracy'])\n",
        "\n",
        "#Fit training data to the model\n",
        "model_2.fit(x_train, y_train, epochs=10, batch_size=32, validation_data=(x_test, y_test))\n"
      ],
      "metadata": {
        "colab": {
          "base_uri": "https://localhost:8080/"
        },
        "outputId": "d5d56aaf-3ce4-4808-f59d-310de72f9090",
        "id": "p89n-t8vVbMU"
      },
      "execution_count": 13,
      "outputs": [
        {
          "output_type": "stream",
          "name": "stdout",
          "text": [
            "Epoch 1/10\n",
            "143/143 [==============================] - 1s 5ms/step - loss: 1.4643 - accuracy: 0.8513 - val_loss: 0.4761 - val_accuracy: 0.9072\n",
            "Epoch 2/10\n",
            "143/143 [==============================] - 1s 5ms/step - loss: 0.4704 - accuracy: 0.9107 - val_loss: 0.3857 - val_accuracy: 0.9185\n",
            "Epoch 3/10\n",
            "143/143 [==============================] - 1s 4ms/step - loss: 0.3880 - accuracy: 0.9116 - val_loss: 0.3188 - val_accuracy: 0.9256\n",
            "Epoch 4/10\n",
            "143/143 [==============================] - 1s 4ms/step - loss: 0.3216 - accuracy: 0.9162 - val_loss: 0.2747 - val_accuracy: 0.9231\n",
            "Epoch 5/10\n",
            "143/143 [==============================] - 1s 5ms/step - loss: 0.2754 - accuracy: 0.9188 - val_loss: 0.2426 - val_accuracy: 0.9262\n",
            "Epoch 6/10\n",
            "143/143 [==============================] - 2s 13ms/step - loss: 0.2472 - accuracy: 0.9195 - val_loss: 0.2208 - val_accuracy: 0.9328\n",
            "Epoch 7/10\n",
            "143/143 [==============================] - 1s 4ms/step - loss: 0.2222 - accuracy: 0.9232 - val_loss: 0.2048 - val_accuracy: 0.9359\n",
            "Epoch 8/10\n",
            "143/143 [==============================] - 0s 3ms/step - loss: 0.2091 - accuracy: 0.9250 - val_loss: 0.1949 - val_accuracy: 0.9349\n",
            "Epoch 9/10\n",
            "143/143 [==============================] - 0s 3ms/step - loss: 0.1966 - accuracy: 0.9298 - val_loss: 0.1909 - val_accuracy: 0.9344\n",
            "Epoch 10/10\n",
            "143/143 [==============================] - 0s 3ms/step - loss: 0.1892 - accuracy: 0.9320 - val_loss: 0.1787 - val_accuracy: 0.9421\n"
          ]
        },
        {
          "output_type": "execute_result",
          "data": {
            "text/plain": [
              "<keras.callbacks.History at 0x7f030a2da710>"
            ]
          },
          "metadata": {},
          "execution_count": 13
        }
      ]
    },
    {
      "cell_type": "code",
      "source": [
        "# Evaluate model on the test data \n",
        "loss, accuracy = model_2.evaluate(x_test, y_test)\n",
        "print(f'Test Loss: {loss:.4f}')\n",
        "print(f'Test Accuracy: {accuracy:.4f}')"
      ],
      "metadata": {
        "colab": {
          "base_uri": "https://localhost:8080/"
        },
        "outputId": "95dde9a0-2275-411d-805d-063bf28e3628",
        "id": "msrzyH-QWVyk"
      },
      "execution_count": 14,
      "outputs": [
        {
          "output_type": "stream",
          "name": "stdout",
          "text": [
            "61/61 [==============================] - 0s 1ms/step - loss: 0.1787 - accuracy: 0.9421\n",
            "Test Loss: 0.1787\n",
            "Test Accuracy: 0.9421\n"
          ]
        }
      ]
    },
    {
      "cell_type": "markdown",
      "source": [
        "# Model building 3 (additional hidden layer)\n",
        "The third model adds on a new hidden layer. With 2 nuerons for the first and second layer. The architecture is as follows:\n",
        "* Fully connected neural network (Dense)\n",
        "* First layer   - 2 neurons -AF: RELU\n",
        "* Second layer  - 2 neuron  -AF: RELU\n",
        "* Third layer   - 1 neuron  -AF: Sigmoid\n",
        "\n",
        "Note: Test results from this model is quite similar to the first model, no apparent improvement of accuracy scores.\n",
        "\n"
      ],
      "metadata": {
        "id": "I9xOJUQbc_yC"
      }
    },
    {
      "cell_type": "code",
      "source": [
        "# Define the model:\n",
        "model_3 = Sequential()\n",
        "model_3.add(Dense(2, input_dim=12, activation='relu'))\n",
        "model_3.add(Dense(2, activation='relu'))\n",
        "model_3.add(Dense(1, activation='sigmoid'))\n",
        "print(model_3.summary())"
      ],
      "metadata": {
        "colab": {
          "base_uri": "https://localhost:8080/"
        },
        "outputId": "7abdaa16-a0f7-43a0-ad10-9345f020d3aa",
        "id": "DAjGzqfTc_yC"
      },
      "execution_count": 15,
      "outputs": [
        {
          "output_type": "stream",
          "name": "stdout",
          "text": [
            "Model: \"sequential_2\"\n",
            "_________________________________________________________________\n",
            " Layer (type)                Output Shape              Param #   \n",
            "=================================================================\n",
            " dense_4 (Dense)             (None, 2)                 26        \n",
            "                                                                 \n",
            " dense_5 (Dense)             (None, 2)                 6         \n",
            "                                                                 \n",
            " dense_6 (Dense)             (None, 1)                 3         \n",
            "                                                                 \n",
            "=================================================================\n",
            "Total params: 35\n",
            "Trainable params: 35\n",
            "Non-trainable params: 0\n",
            "_________________________________________________________________\n",
            "None\n"
          ]
        }
      ]
    },
    {
      "cell_type": "code",
      "source": [
        "svg3_path = '/content/drive/MyDrive/Colab Notebooks/nn (3).svg'\n",
        "display(SVG(svg3_path))\n"
      ],
      "metadata": {
        "colab": {
          "base_uri": "https://localhost:8080/",
          "height": 897
        },
        "id": "u3T09KdvbkXJ",
        "outputId": "eff310f3-128a-4503-8f63-f475af82f425"
      },
      "execution_count": 32,
      "outputs": [
        {
          "output_type": "display_data",
          "data": {
            "text/plain": [
              "<IPython.core.display.SVG object>"
            ],
            "image/svg+xml": "<svg xmlns=\"http://www.w3.org/2000/svg\" width=\"1707\" height=\"856\" style=\"cursor: move; touch-action: none; -webkit-tap-highlight-color: rgba(0, 0, 0, 0);\"><g transform=\"translate(-703.8203494480965,-99.48924937672564) scale(1.2311444133449165)\"><path class=\"link\" marker-end=\"\" d=\"M640.1666666666666,198, 820.1666666666666,398\" style=\"stroke-width: 0.5; stroke-opacity: 1; stroke: rgb(80, 80, 80);\"/><path class=\"link\" marker-end=\"\" d=\"M640.1666666666666,198, 820.1666666666666,438\" style=\"stroke-width: 0.5; stroke-opacity: 1; stroke: rgb(80, 80, 80);\"/><path class=\"link\" marker-end=\"\" d=\"M640.1666666666666,238, 820.1666666666666,398\" style=\"stroke-width: 0.5; stroke-opacity: 1; stroke: rgb(80, 80, 80);\"/><path class=\"link\" marker-end=\"\" d=\"M640.1666666666666,238, 820.1666666666666,438\" style=\"stroke-width: 0.5; stroke-opacity: 1; stroke: rgb(80, 80, 80);\"/><path class=\"link\" marker-end=\"\" d=\"M640.1666666666666,278, 820.1666666666666,398\" style=\"stroke-width: 0.5; stroke-opacity: 1; stroke: rgb(80, 80, 80);\"/><path class=\"link\" marker-end=\"\" d=\"M640.1666666666666,278, 820.1666666666666,438\" style=\"stroke-width: 0.5; stroke-opacity: 1; stroke: rgb(80, 80, 80);\"/><path class=\"link\" marker-end=\"\" d=\"M640.1666666666666,318, 820.1666666666666,398\" style=\"stroke-width: 0.5; stroke-opacity: 1; stroke: rgb(80, 80, 80);\"/><path class=\"link\" marker-end=\"\" d=\"M640.1666666666666,318, 820.1666666666666,438\" style=\"stroke-width: 0.5; stroke-opacity: 1; stroke: rgb(80, 80, 80);\"/><path class=\"link\" marker-end=\"\" d=\"M640.1666666666666,358, 820.1666666666666,398\" style=\"stroke-width: 0.5; stroke-opacity: 1; stroke: rgb(80, 80, 80);\"/><path class=\"link\" marker-end=\"\" d=\"M640.1666666666666,358, 820.1666666666666,438\" style=\"stroke-width: 0.5; stroke-opacity: 1; stroke: rgb(80, 80, 80);\"/><path class=\"link\" marker-end=\"\" d=\"M640.1666666666666,398, 820.1666666666666,398\" style=\"stroke-width: 0.5; stroke-opacity: 1; stroke: rgb(80, 80, 80);\"/><path class=\"link\" marker-end=\"\" d=\"M640.1666666666666,398, 820.1666666666666,438\" style=\"stroke-width: 0.5; stroke-opacity: 1; stroke: rgb(80, 80, 80);\"/><path class=\"link\" marker-end=\"\" d=\"M640.1666666666666,438, 820.1666666666666,398\" style=\"stroke-width: 0.5; stroke-opacity: 1; stroke: rgb(80, 80, 80);\"/><path class=\"link\" marker-end=\"\" d=\"M640.1666666666666,438, 820.1666666666666,438\" style=\"stroke-width: 0.5; stroke-opacity: 1; stroke: rgb(80, 80, 80);\"/><path class=\"link\" marker-end=\"\" d=\"M640.1666666666666,478, 820.1666666666666,398\" style=\"stroke-width: 0.5; stroke-opacity: 1; stroke: rgb(80, 80, 80);\"/><path class=\"link\" marker-end=\"\" d=\"M640.1666666666666,478, 820.1666666666666,438\" style=\"stroke-width: 0.5; stroke-opacity: 1; stroke: rgb(80, 80, 80);\"/><path class=\"link\" marker-end=\"\" d=\"M640.1666666666666,518, 820.1666666666666,398\" style=\"stroke-width: 0.5; stroke-opacity: 1; stroke: rgb(80, 80, 80);\"/><path class=\"link\" marker-end=\"\" d=\"M640.1666666666666,518, 820.1666666666666,438\" style=\"stroke-width: 0.5; stroke-opacity: 1; stroke: rgb(80, 80, 80);\"/><path class=\"link\" marker-end=\"\" d=\"M640.1666666666666,558, 820.1666666666666,398\" style=\"stroke-width: 0.5; stroke-opacity: 1; stroke: rgb(80, 80, 80);\"/><path class=\"link\" marker-end=\"\" d=\"M640.1666666666666,558, 820.1666666666666,438\" style=\"stroke-width: 0.5; stroke-opacity: 1; stroke: rgb(80, 80, 80);\"/><path class=\"link\" marker-end=\"\" d=\"M640.1666666666666,598, 820.1666666666666,398\" style=\"stroke-width: 0.5; stroke-opacity: 1; stroke: rgb(80, 80, 80);\"/><path class=\"link\" marker-end=\"\" d=\"M640.1666666666666,598, 820.1666666666666,438\" style=\"stroke-width: 0.5; stroke-opacity: 1; stroke: rgb(80, 80, 80);\"/><path class=\"link\" marker-end=\"\" d=\"M640.1666666666666,638, 820.1666666666666,398\" style=\"stroke-width: 0.5; stroke-opacity: 1; stroke: rgb(80, 80, 80);\"/><path class=\"link\" marker-end=\"\" d=\"M640.1666666666666,638, 820.1666666666666,438\" style=\"stroke-width: 0.5; stroke-opacity: 1; stroke: rgb(80, 80, 80);\"/><path class=\"link\" marker-end=\"\" d=\"M820.1666666666666,398, 1000.1666666666666,398\" style=\"stroke-width: 0.5; stroke-opacity: 1; stroke: rgb(80, 80, 80);\"/><path class=\"link\" marker-end=\"\" d=\"M820.1666666666666,438, 1000.1666666666666,398\" style=\"stroke-width: 0.5; stroke-opacity: 1; stroke: rgb(80, 80, 80);\"/><path class=\"link\" marker-end=\"\" d=\"M820.1666666666666,398, 1000.1666666666666,438\" style=\"stroke-width: 0.5; stroke-opacity: 1; stroke: rgb(80, 80, 80);\"/><path class=\"link\" marker-end=\"\" d=\"M820.1666666666666,438, 1000.1666666666666,438\" style=\"stroke-width: 0.5; stroke-opacity: 1; stroke: rgb(80, 80, 80);\"/><path class=\"link\" marker-end=\"\" d=\"M1000.1666666666666,398, 1180.1666666666667,418\" style=\"stroke-width: 0.5; stroke-opacity: 1; stroke: rgb(80, 80, 80);\"/><path class=\"link\" marker-end=\"\" d=\"M1000.1666666666666,438, 1180.1666666666667,418\" style=\"stroke-width: 0.5; stroke-opacity: 1; stroke: rgb(80, 80, 80);\"/><circle r=\"10\" class=\"node\" id=\"0_0\" cx=\"640.1666666666666\" cy=\"198\" style=\"fill: rgb(255, 255, 255); stroke: rgb(51, 51, 51);\"/><circle r=\"10\" class=\"node\" id=\"0_1\" cx=\"640.1666666666666\" cy=\"238\" style=\"fill: rgb(255, 255, 255); stroke: rgb(51, 51, 51);\"/><circle r=\"10\" class=\"node\" id=\"0_2\" cx=\"640.1666666666666\" cy=\"278\" style=\"fill: rgb(255, 255, 255); stroke: rgb(51, 51, 51);\"/><circle r=\"10\" class=\"node\" id=\"0_3\" cx=\"640.1666666666666\" cy=\"318\" style=\"fill: rgb(255, 255, 255); stroke: rgb(51, 51, 51);\"/><circle r=\"10\" class=\"node\" id=\"0_4\" cx=\"640.1666666666666\" cy=\"358\" style=\"fill: rgb(255, 255, 255); stroke: rgb(51, 51, 51);\"/><circle r=\"10\" class=\"node\" id=\"0_5\" cx=\"640.1666666666666\" cy=\"398\" style=\"fill: rgb(255, 255, 255); stroke: rgb(51, 51, 51);\"/><circle r=\"10\" class=\"node\" id=\"0_6\" cx=\"640.1666666666666\" cy=\"438\" style=\"fill: rgb(255, 255, 255); stroke: rgb(51, 51, 51);\"/><circle r=\"10\" class=\"node\" id=\"0_7\" cx=\"640.1666666666666\" cy=\"478\" style=\"fill: rgb(255, 255, 255); stroke: rgb(51, 51, 51);\"/><circle r=\"10\" class=\"node\" id=\"0_8\" cx=\"640.1666666666666\" cy=\"518\" style=\"fill: rgb(255, 255, 255); stroke: rgb(51, 51, 51);\"/><circle r=\"10\" class=\"node\" id=\"0_9\" cx=\"640.1666666666666\" cy=\"558\" style=\"fill: rgb(255, 255, 255); stroke: rgb(51, 51, 51);\"/><circle r=\"10\" class=\"node\" id=\"0_10\" cx=\"640.1666666666666\" cy=\"598\" style=\"fill: rgb(255, 255, 255); stroke: rgb(51, 51, 51);\"/><circle r=\"10\" class=\"node\" id=\"0_11\" cx=\"640.1666666666666\" cy=\"638\" style=\"fill: rgb(255, 255, 255); stroke: rgb(51, 51, 51);\"/><circle r=\"10\" class=\"node\" id=\"1_0\" cx=\"820.1666666666666\" cy=\"398\" style=\"fill: rgb(255, 255, 255); stroke: rgb(51, 51, 51);\"/><circle r=\"10\" class=\"node\" id=\"1_1\" cx=\"820.1666666666666\" cy=\"438\" style=\"fill: rgb(255, 255, 255); stroke: rgb(51, 51, 51);\"/><circle r=\"10\" class=\"node\" id=\"2_0\" cx=\"1000.1666666666666\" cy=\"398\" style=\"fill: rgb(255, 255, 255); stroke: rgb(51, 51, 51);\"/><text class=\"text\" dy=\".35em\" x=\"605.1666666666666\" y=\"678\" style=\"font-size: 12px;\">Input Layer ∈ ℝ¹²</text><text class=\"text\" dy=\".35em\" x=\"785.1666666666666\" y=\"678\" style=\"font-size: 12px;\">Hidden Layer ∈ ℝ²</text><text class=\"text\" dy=\".35em\" x=\"965.1666666666666\" y=\"678\" style=\"font-size: 12px;\">Hidden Layer ∈ ℝ²</text><circle r=\"10\" class=\"node\" id=\"2_1\" cx=\"1000.1666666666666\" cy=\"438\" style=\"fill: rgb(255, 255, 255); stroke: rgb(51, 51, 51);\"/><circle r=\"10\" class=\"node\" id=\"3_0\" cx=\"1180.1666666666667\" cy=\"418\" style=\"fill: rgb(255, 255, 255); stroke: rgb(51, 51, 51);\"/><text class=\"text\" dy=\".35em\" x=\"1145.1666666666667\" y=\"678\" style=\"font-size: 12px;\">Output Layer ∈ ℝ¹</text></g><defs><marker id=\"arrow\" viewBox=\"0 -5 10 10\" markerWidth=\"7\" markerHeight=\"7\" orient=\"auto\" refX=\"40\"><path d=\"M0,-5L10,0L0,5\" style=\"stroke: rgb(80, 80, 80); fill: none;\"/></marker></defs></svg>"
          },
          "metadata": {}
        }
      ]
    },
    {
      "cell_type": "code",
      "source": [
        "#Compile the model\n",
        "model_3.compile(loss='binary_crossentropy', optimizer='adam', metrics=['accuracy'])\n",
        "\n",
        "#Fit training data to the model\n",
        "model_3.fit(x_train, y_train, epochs=10, batch_size=32, validation_data=(x_test, y_test))\n"
      ],
      "metadata": {
        "colab": {
          "base_uri": "https://localhost:8080/"
        },
        "outputId": "77bcbc88-9ccc-4a74-c394-144355a515cb",
        "id": "S2hdGoTSc_yC"
      },
      "execution_count": 17,
      "outputs": [
        {
          "output_type": "stream",
          "name": "stdout",
          "text": [
            "Epoch 1/10\n",
            "143/143 [==============================] - 3s 11ms/step - loss: 1.2745 - accuracy: 0.2424 - val_loss: 0.7047 - val_accuracy: 0.5174\n",
            "Epoch 2/10\n",
            "143/143 [==============================] - 1s 5ms/step - loss: 0.6644 - accuracy: 0.7145 - val_loss: 0.6499 - val_accuracy: 0.7492\n",
            "Epoch 3/10\n",
            "143/143 [==============================] - 2s 11ms/step - loss: 0.6410 - accuracy: 0.7497 - val_loss: 0.6326 - val_accuracy: 0.7503\n",
            "Epoch 4/10\n",
            "143/143 [==============================] - 2s 12ms/step - loss: 0.6244 - accuracy: 0.7530 - val_loss: 0.6172 - val_accuracy: 0.7533\n",
            "Epoch 5/10\n",
            "143/143 [==============================] - 2s 11ms/step - loss: 0.6102 - accuracy: 0.7539 - val_loss: 0.6042 - val_accuracy: 0.7533\n",
            "Epoch 6/10\n",
            "143/143 [==============================] - 1s 7ms/step - loss: 0.5985 - accuracy: 0.7539 - val_loss: 0.5936 - val_accuracy: 0.7533\n",
            "Epoch 7/10\n",
            "143/143 [==============================] - 1s 7ms/step - loss: 0.5888 - accuracy: 0.7539 - val_loss: 0.5849 - val_accuracy: 0.7533\n",
            "Epoch 8/10\n",
            "143/143 [==============================] - 1s 6ms/step - loss: 0.5812 - accuracy: 0.7539 - val_loss: 0.5781 - val_accuracy: 0.7533\n",
            "Epoch 9/10\n",
            "143/143 [==============================] - 1s 8ms/step - loss: 0.5752 - accuracy: 0.7539 - val_loss: 0.5728 - val_accuracy: 0.7533\n",
            "Epoch 10/10\n",
            "143/143 [==============================] - 1s 7ms/step - loss: 0.5705 - accuracy: 0.7539 - val_loss: 0.5688 - val_accuracy: 0.7538\n"
          ]
        },
        {
          "output_type": "execute_result",
          "data": {
            "text/plain": [
              "<keras.callbacks.History at 0x7f030dfc68c0>"
            ]
          },
          "metadata": {},
          "execution_count": 17
        }
      ]
    },
    {
      "cell_type": "code",
      "source": [
        "# Evaluate model on the test data \n",
        "loss, accuracy = model_3.evaluate(x_test, y_test)\n",
        "print(f'Test Loss: {loss:.4f}')\n",
        "print(f'Test Accuracy: {accuracy:.4f}')"
      ],
      "metadata": {
        "colab": {
          "base_uri": "https://localhost:8080/"
        },
        "outputId": "446b62e1-ceba-4183-8bda-5869476c7561",
        "id": "Oyi--J-kc_yC"
      },
      "execution_count": 18,
      "outputs": [
        {
          "output_type": "stream",
          "name": "stdout",
          "text": [
            "61/61 [==============================] - 0s 2ms/step - loss: 0.5688 - accuracy: 0.7538\n",
            "Test Loss: 0.5688\n",
            "Test Accuracy: 0.7538\n"
          ]
        }
      ]
    },
    {
      "cell_type": "markdown",
      "source": [
        "# Model building 4 (experimenting with hyperbolic tan AF)\n",
        "The fourth model attempts to use a different actvation function, the hyperbolic tan function. Since model_2 returns the highest test score so far, the architecture follows the second model with:\n",
        "\n",
        "* Fully connected neural network (Dense)\n",
        "* First layer   - 4 neurons -AF: tanh\n",
        "* Second layer  - 1 neuron  -AF: Sigmoid\n",
        "\n",
        "Note: A higher test score is obtained, slighth improvement from model_2"
      ],
      "metadata": {
        "id": "eQnS0_Pid3OD"
      }
    },
    {
      "cell_type": "code",
      "source": [
        "# Define the model:\n",
        "model_4 = Sequential()\n",
        "model_4.add(Dense(4, input_dim=12, activation='tanh'))\n",
        "model_4.add(Dense(1, activation='sigmoid'))\n",
        "print(model_4.summary())"
      ],
      "metadata": {
        "colab": {
          "base_uri": "https://localhost:8080/"
        },
        "outputId": "7384dddb-7e4f-4b2a-8442-58bf88b41af4",
        "id": "w9ujBDypd3OD"
      },
      "execution_count": 19,
      "outputs": [
        {
          "output_type": "stream",
          "name": "stdout",
          "text": [
            "Model: \"sequential_3\"\n",
            "_________________________________________________________________\n",
            " Layer (type)                Output Shape              Param #   \n",
            "=================================================================\n",
            " dense_7 (Dense)             (None, 4)                 52        \n",
            "                                                                 \n",
            " dense_8 (Dense)             (None, 1)                 5         \n",
            "                                                                 \n",
            "=================================================================\n",
            "Total params: 57\n",
            "Trainable params: 57\n",
            "Non-trainable params: 0\n",
            "_________________________________________________________________\n",
            "None\n"
          ]
        }
      ]
    },
    {
      "cell_type": "code",
      "source": [
        "svg4_path = '/content/drive/MyDrive/Colab Notebooks/nn (2).svg'\n",
        "display(SVG(svg4_path))\n"
      ],
      "metadata": {
        "colab": {
          "base_uri": "https://localhost:8080/",
          "height": 840
        },
        "id": "B6rrPaJ9clGc",
        "outputId": "164a9cc7-babb-406d-c094-d60d85010ea9"
      },
      "execution_count": 20,
      "outputs": [
        {
          "output_type": "display_data",
          "data": {
            "text/plain": [
              "<IPython.core.display.SVG object>"
            ],
            "image/svg+xml": "<svg xmlns=\"http://www.w3.org/2000/svg\" width=\"1707\" height=\"799\" style=\"cursor: move; touch-action: none; -webkit-tap-highlight-color: rgba(0, 0, 0, 0);\"><g transform=\"translate(-752.8203494480965,-99.48924937672564) scale(1.2311444133449165)\"><path class=\"link\" marker-end=\"\" d=\"M693.5,169.5, 873.5,329.5\" style=\"stroke-width: 0.5; stroke-opacity: 1; stroke: rgb(80, 80, 80);\"/><path class=\"link\" marker-end=\"\" d=\"M693.5,169.5, 873.5,369.5\" style=\"stroke-width: 0.5; stroke-opacity: 1; stroke: rgb(80, 80, 80);\"/><path class=\"link\" marker-end=\"\" d=\"M693.5,209.5, 873.5,329.5\" style=\"stroke-width: 0.5; stroke-opacity: 1; stroke: rgb(80, 80, 80);\"/><path class=\"link\" marker-end=\"\" d=\"M693.5,209.5, 873.5,369.5\" style=\"stroke-width: 0.5; stroke-opacity: 1; stroke: rgb(80, 80, 80);\"/><path class=\"link\" marker-end=\"\" d=\"M693.5,249.5, 873.5,329.5\" style=\"stroke-width: 0.5; stroke-opacity: 1; stroke: rgb(80, 80, 80);\"/><path class=\"link\" marker-end=\"\" d=\"M693.5,249.5, 873.5,369.5\" style=\"stroke-width: 0.5; stroke-opacity: 1; stroke: rgb(80, 80, 80);\"/><path class=\"link\" marker-end=\"\" d=\"M693.5,289.5, 873.5,329.5\" style=\"stroke-width: 0.5; stroke-opacity: 1; stroke: rgb(80, 80, 80);\"/><path class=\"link\" marker-end=\"\" d=\"M693.5,289.5, 873.5,369.5\" style=\"stroke-width: 0.5; stroke-opacity: 1; stroke: rgb(80, 80, 80);\"/><path class=\"link\" marker-end=\"\" d=\"M693.5,329.5, 873.5,329.5\" style=\"stroke-width: 0.5; stroke-opacity: 1; stroke: rgb(80, 80, 80);\"/><path class=\"link\" marker-end=\"\" d=\"M693.5,329.5, 873.5,369.5\" style=\"stroke-width: 0.5; stroke-opacity: 1; stroke: rgb(80, 80, 80);\"/><path class=\"link\" marker-end=\"\" d=\"M693.5,369.5, 873.5,329.5\" style=\"stroke-width: 0.5; stroke-opacity: 1; stroke: rgb(80, 80, 80);\"/><path class=\"link\" marker-end=\"\" d=\"M693.5,369.5, 873.5,369.5\" style=\"stroke-width: 0.5; stroke-opacity: 1; stroke: rgb(80, 80, 80);\"/><path class=\"link\" marker-end=\"\" d=\"M693.5,409.5, 873.5,329.5\" style=\"stroke-width: 0.5; stroke-opacity: 1; stroke: rgb(80, 80, 80);\"/><path class=\"link\" marker-end=\"\" d=\"M693.5,409.5, 873.5,369.5\" style=\"stroke-width: 0.5; stroke-opacity: 1; stroke: rgb(80, 80, 80);\"/><path class=\"link\" marker-end=\"\" d=\"M693.5,449.5, 873.5,329.5\" style=\"stroke-width: 0.5; stroke-opacity: 1; stroke: rgb(80, 80, 80);\"/><path class=\"link\" marker-end=\"\" d=\"M693.5,449.5, 873.5,369.5\" style=\"stroke-width: 0.5; stroke-opacity: 1; stroke: rgb(80, 80, 80);\"/><path class=\"link\" marker-end=\"\" d=\"M693.5,489.5, 873.5,329.5\" style=\"stroke-width: 0.5; stroke-opacity: 1; stroke: rgb(80, 80, 80);\"/><path class=\"link\" marker-end=\"\" d=\"M693.5,489.5, 873.5,369.5\" style=\"stroke-width: 0.5; stroke-opacity: 1; stroke: rgb(80, 80, 80);\"/><path class=\"link\" marker-end=\"\" d=\"M693.5,529.5, 873.5,329.5\" style=\"stroke-width: 0.5; stroke-opacity: 1; stroke: rgb(80, 80, 80);\"/><path class=\"link\" marker-end=\"\" d=\"M693.5,529.5, 873.5,369.5\" style=\"stroke-width: 0.5; stroke-opacity: 1; stroke: rgb(80, 80, 80);\"/><path class=\"link\" marker-end=\"\" d=\"M693.5,569.5, 873.5,329.5\" style=\"stroke-width: 0.5; stroke-opacity: 1; stroke: rgb(80, 80, 80);\"/><path class=\"link\" marker-end=\"\" d=\"M693.5,569.5, 873.5,369.5\" style=\"stroke-width: 0.5; stroke-opacity: 1; stroke: rgb(80, 80, 80);\"/><path class=\"link\" marker-end=\"\" d=\"M693.5,609.5, 873.5,329.5\" style=\"stroke-width: 0.5; stroke-opacity: 1; stroke: rgb(80, 80, 80);\"/><path class=\"link\" marker-end=\"\" d=\"M693.5,609.5, 873.5,369.5\" style=\"stroke-width: 0.5; stroke-opacity: 1; stroke: rgb(80, 80, 80);\"/><path class=\"link\" marker-end=\"\" d=\"M873.5,329.5, 1053.5,389.5\" style=\"stroke-width: 0.5; stroke-opacity: 1; stroke: rgb(80, 80, 80);\"/><path class=\"link\" marker-end=\"\" d=\"M873.5,369.5, 1053.5,389.5\" style=\"stroke-width: 0.5; stroke-opacity: 1; stroke: rgb(80, 80, 80);\"/><path class=\"link\" marker-end=\"\" d=\"M693.5,169.5, 873.5,409.5\" style=\"stroke-width: 0.5; stroke-opacity: 1; stroke: rgb(80, 80, 80);\"/><path class=\"link\" marker-end=\"\" d=\"M693.5,209.5, 873.5,409.5\" style=\"stroke-width: 0.5; stroke-opacity: 1; stroke: rgb(80, 80, 80);\"/><path class=\"link\" marker-end=\"\" d=\"M693.5,249.5, 873.5,409.5\" style=\"stroke-width: 0.5; stroke-opacity: 1; stroke: rgb(80, 80, 80);\"/><path class=\"link\" marker-end=\"\" d=\"M693.5,289.5, 873.5,409.5\" style=\"stroke-width: 0.5; stroke-opacity: 1; stroke: rgb(80, 80, 80);\"/><path class=\"link\" marker-end=\"\" d=\"M693.5,329.5, 873.5,409.5\" style=\"stroke-width: 0.5; stroke-opacity: 1; stroke: rgb(80, 80, 80);\"/><path class=\"link\" marker-end=\"\" d=\"M693.5,369.5, 873.5,409.5\" style=\"stroke-width: 0.5; stroke-opacity: 1; stroke: rgb(80, 80, 80);\"/><path class=\"link\" marker-end=\"\" d=\"M693.5,409.5, 873.5,409.5\" style=\"stroke-width: 0.5; stroke-opacity: 1; stroke: rgb(80, 80, 80);\"/><path class=\"link\" marker-end=\"\" d=\"M693.5,449.5, 873.5,409.5\" style=\"stroke-width: 0.5; stroke-opacity: 1; stroke: rgb(80, 80, 80);\"/><path class=\"link\" marker-end=\"\" d=\"M693.5,489.5, 873.5,409.5\" style=\"stroke-width: 0.5; stroke-opacity: 1; stroke: rgb(80, 80, 80);\"/><path class=\"link\" marker-end=\"\" d=\"M693.5,529.5, 873.5,409.5\" style=\"stroke-width: 0.5; stroke-opacity: 1; stroke: rgb(80, 80, 80);\"/><path class=\"link\" marker-end=\"\" d=\"M693.5,569.5, 873.5,409.5\" style=\"stroke-width: 0.5; stroke-opacity: 1; stroke: rgb(80, 80, 80);\"/><path class=\"link\" marker-end=\"\" d=\"M693.5,609.5, 873.5,409.5\" style=\"stroke-width: 0.5; stroke-opacity: 1; stroke: rgb(80, 80, 80);\"/><path class=\"link\" marker-end=\"\" d=\"M873.5,409.5, 1053.5,389.5\" style=\"stroke-width: 0.5; stroke-opacity: 1; stroke: rgb(80, 80, 80);\"/><path class=\"link\" marker-end=\"\" d=\"M693.5,169.5, 873.5,449.5\" style=\"stroke-width: 0.5; stroke-opacity: 1; stroke: rgb(80, 80, 80);\"/><path class=\"link\" marker-end=\"\" d=\"M693.5,209.5, 873.5,449.5\" style=\"stroke-width: 0.5; stroke-opacity: 1; stroke: rgb(80, 80, 80);\"/><path class=\"link\" marker-end=\"\" d=\"M693.5,249.5, 873.5,449.5\" style=\"stroke-width: 0.5; stroke-opacity: 1; stroke: rgb(80, 80, 80);\"/><path class=\"link\" marker-end=\"\" d=\"M693.5,289.5, 873.5,449.5\" style=\"stroke-width: 0.5; stroke-opacity: 1; stroke: rgb(80, 80, 80);\"/><path class=\"link\" marker-end=\"\" d=\"M693.5,329.5, 873.5,449.5\" style=\"stroke-width: 0.5; stroke-opacity: 1; stroke: rgb(80, 80, 80);\"/><path class=\"link\" marker-end=\"\" d=\"M693.5,369.5, 873.5,449.5\" style=\"stroke-width: 0.5; stroke-opacity: 1; stroke: rgb(80, 80, 80);\"/><path class=\"link\" marker-end=\"\" d=\"M693.5,409.5, 873.5,449.5\" style=\"stroke-width: 0.5; stroke-opacity: 1; stroke: rgb(80, 80, 80);\"/><path class=\"link\" marker-end=\"\" d=\"M693.5,449.5, 873.5,449.5\" style=\"stroke-width: 0.5; stroke-opacity: 1; stroke: rgb(80, 80, 80);\"/><path class=\"link\" marker-end=\"\" d=\"M693.5,489.5, 873.5,449.5\" style=\"stroke-width: 0.5; stroke-opacity: 1; stroke: rgb(80, 80, 80);\"/><path class=\"link\" marker-end=\"\" d=\"M693.5,529.5, 873.5,449.5\" style=\"stroke-width: 0.5; stroke-opacity: 1; stroke: rgb(80, 80, 80);\"/><path class=\"link\" marker-end=\"\" d=\"M693.5,569.5, 873.5,449.5\" style=\"stroke-width: 0.5; stroke-opacity: 1; stroke: rgb(80, 80, 80);\"/><path class=\"link\" marker-end=\"\" d=\"M693.5,609.5, 873.5,449.5\" style=\"stroke-width: 0.5; stroke-opacity: 1; stroke: rgb(80, 80, 80);\"/><path class=\"link\" marker-end=\"\" d=\"M873.5,449.5, 1053.5,389.5\" style=\"stroke-width: 0.5; stroke-opacity: 1; stroke: rgb(80, 80, 80);\"/><circle r=\"10\" class=\"node\" id=\"0_0\" cx=\"693.5\" cy=\"169.5\" style=\"fill: rgb(255, 255, 255); stroke: rgb(51, 51, 51);\"/><circle r=\"10\" class=\"node\" id=\"0_1\" cx=\"693.5\" cy=\"209.5\" style=\"fill: rgb(255, 255, 255); stroke: rgb(51, 51, 51);\"/><circle r=\"10\" class=\"node\" id=\"0_2\" cx=\"693.5\" cy=\"249.5\" style=\"fill: rgb(255, 255, 255); stroke: rgb(51, 51, 51);\"/><circle r=\"10\" class=\"node\" id=\"0_3\" cx=\"693.5\" cy=\"289.5\" style=\"fill: rgb(255, 255, 255); stroke: rgb(51, 51, 51);\"/><circle r=\"10\" class=\"node\" id=\"0_4\" cx=\"693.5\" cy=\"329.5\" style=\"fill: rgb(255, 255, 255); stroke: rgb(51, 51, 51);\"/><circle r=\"10\" class=\"node\" id=\"0_5\" cx=\"693.5\" cy=\"369.5\" style=\"fill: rgb(255, 255, 255); stroke: rgb(51, 51, 51);\"/><circle r=\"10\" class=\"node\" id=\"0_6\" cx=\"693.5\" cy=\"409.5\" style=\"fill: rgb(255, 255, 255); stroke: rgb(51, 51, 51);\"/><circle r=\"10\" class=\"node\" id=\"0_7\" cx=\"693.5\" cy=\"449.5\" style=\"fill: rgb(255, 255, 255); stroke: rgb(51, 51, 51);\"/><circle r=\"10\" class=\"node\" id=\"0_8\" cx=\"693.5\" cy=\"489.5\" style=\"fill: rgb(255, 255, 255); stroke: rgb(51, 51, 51);\"/><circle r=\"10\" class=\"node\" id=\"0_9\" cx=\"693.5\" cy=\"529.5\" style=\"fill: rgb(255, 255, 255); stroke: rgb(51, 51, 51);\"/><circle r=\"10\" class=\"node\" id=\"0_10\" cx=\"693.5\" cy=\"569.5\" style=\"fill: rgb(255, 255, 255); stroke: rgb(51, 51, 51);\"/><circle r=\"10\" class=\"node\" id=\"0_11\" cx=\"693.5\" cy=\"609.5\" style=\"fill: rgb(255, 255, 255); stroke: rgb(51, 51, 51);\"/><circle r=\"10\" class=\"node\" id=\"1_0\" cx=\"873.5\" cy=\"329.5\" style=\"fill: rgb(255, 255, 255); stroke: rgb(51, 51, 51);\"/><circle r=\"10\" class=\"node\" id=\"1_1\" cx=\"873.5\" cy=\"369.5\" style=\"fill: rgb(255, 255, 255); stroke: rgb(51, 51, 51);\"/><circle r=\"10\" class=\"node\" id=\"1_2\" cx=\"873.5\" cy=\"409.5\" style=\"fill: rgb(255, 255, 255); stroke: rgb(51, 51, 51);\"/><circle r=\"10\" class=\"node\" id=\"1_3\" cx=\"873.5\" cy=\"449.5\" style=\"fill: rgb(255, 255, 255); stroke: rgb(51, 51, 51);\"/><circle r=\"10\" class=\"node\" id=\"2_0\" cx=\"1053.5\" cy=\"389.5\" style=\"fill: rgb(255, 255, 255); stroke: rgb(51, 51, 51);\"/><text class=\"text\" dy=\".35em\" x=\"658.5\" y=\"649.5\" style=\"font-size: 12px;\">Input Layer ∈ ℝ¹²</text><text class=\"text\" dy=\".35em\" x=\"838.5\" y=\"649.5\" style=\"font-size: 12px;\">Hidden Layer ∈ ℝ⁴</text><text class=\"text\" dy=\".35em\" x=\"1018.5\" y=\"649.5\" style=\"font-size: 12px;\">Output Layer ∈ ℝ¹</text></g><defs><marker id=\"arrow\" viewBox=\"0 -5 10 10\" markerWidth=\"7\" markerHeight=\"7\" orient=\"auto\" refX=\"40\"><path d=\"M0,-5L10,0L0,5\" style=\"stroke: rgb(80, 80, 80); fill: none;\"/></marker></defs></svg>"
          },
          "metadata": {}
        }
      ]
    },
    {
      "cell_type": "code",
      "source": [
        "#Compile the model\n",
        "model_4.compile(loss='binary_crossentropy', optimizer='adam', metrics=['accuracy'])\n",
        "\n",
        "#Fit training data to the model\n",
        "model_4.fit(x_train, y_train, epochs=10, batch_size=32, validation_data=(x_test, y_test))\n"
      ],
      "metadata": {
        "colab": {
          "base_uri": "https://localhost:8080/"
        },
        "outputId": "65eba9e4-40a9-4edf-bb20-8dccf5fe8891",
        "id": "H2mgPuHld3OE"
      },
      "execution_count": 21,
      "outputs": [
        {
          "output_type": "stream",
          "name": "stdout",
          "text": [
            "Epoch 1/10\n",
            "143/143 [==============================] - 1s 4ms/step - loss: 0.4426 - accuracy: 0.8392 - val_loss: 0.3694 - val_accuracy: 0.8544\n",
            "Epoch 2/10\n",
            "143/143 [==============================] - 0s 3ms/step - loss: 0.3376 - accuracy: 0.8733 - val_loss: 0.3152 - val_accuracy: 0.8774\n",
            "Epoch 3/10\n",
            "143/143 [==============================] - 0s 3ms/step - loss: 0.2929 - accuracy: 0.8944 - val_loss: 0.2848 - val_accuracy: 0.8856\n",
            "Epoch 4/10\n",
            "143/143 [==============================] - 0s 3ms/step - loss: 0.2674 - accuracy: 0.9101 - val_loss: 0.2633 - val_accuracy: 0.9123\n",
            "Epoch 5/10\n",
            "143/143 [==============================] - 0s 3ms/step - loss: 0.2504 - accuracy: 0.9254 - val_loss: 0.2488 - val_accuracy: 0.9210\n",
            "Epoch 6/10\n",
            "143/143 [==============================] - 0s 3ms/step - loss: 0.2384 - accuracy: 0.9287 - val_loss: 0.2360 - val_accuracy: 0.9267\n",
            "Epoch 7/10\n",
            "143/143 [==============================] - 0s 3ms/step - loss: 0.2294 - accuracy: 0.9303 - val_loss: 0.2275 - val_accuracy: 0.9262\n",
            "Epoch 8/10\n",
            "143/143 [==============================] - 0s 3ms/step - loss: 0.2235 - accuracy: 0.9316 - val_loss: 0.2219 - val_accuracy: 0.9262\n",
            "Epoch 9/10\n",
            "143/143 [==============================] - 1s 3ms/step - loss: 0.2191 - accuracy: 0.9318 - val_loss: 0.2139 - val_accuracy: 0.9313\n",
            "Epoch 10/10\n",
            "143/143 [==============================] - 0s 3ms/step - loss: 0.2146 - accuracy: 0.9329 - val_loss: 0.2142 - val_accuracy: 0.9277\n"
          ]
        },
        {
          "output_type": "execute_result",
          "data": {
            "text/plain": [
              "<keras.callbacks.History at 0x7f030dd8c9d0>"
            ]
          },
          "metadata": {},
          "execution_count": 21
        }
      ]
    },
    {
      "cell_type": "code",
      "source": [
        "# Evaluate model on the test data \n",
        "loss, accuracy = model_4.evaluate(x_test, y_test)\n",
        "print(f'Test Loss: {loss:.4f}')\n",
        "print(f'Test Accuracy: {accuracy:.4f}')"
      ],
      "metadata": {
        "colab": {
          "base_uri": "https://localhost:8080/"
        },
        "outputId": "86e15964-2087-4e0c-a22a-b99d47d9e386",
        "id": "YPv7PZ4Jd3OE"
      },
      "execution_count": 22,
      "outputs": [
        {
          "output_type": "stream",
          "name": "stdout",
          "text": [
            "61/61 [==============================] - 0s 2ms/step - loss: 0.2142 - accuracy: 0.9277\n",
            "Test Loss: 0.2142\n",
            "Test Accuracy: 0.9277\n"
          ]
        }
      ]
    },
    {
      "cell_type": "markdown",
      "source": [
        "# Model building 5 (experimenting with RMSprop optimizer)\n",
        "The fifth model attempts to use a different optimizer when compiling the model, the RMSprop optimizer. The architecture are as follows:\n",
        "\n",
        "* Fully connected neural network (Dense)\n",
        "* First layer   - 4 neurons -AF: RELU\n",
        "* Second layer  - 1 neuron  -AF: Sigmoid\n",
        "\n",
        "Note: the test score are considerably high, similar to model_4\n"
      ],
      "metadata": {
        "id": "lsLJIq0mmLZ0"
      }
    },
    {
      "cell_type": "code",
      "source": [
        "# Define the model:\n",
        "model_5 = Sequential()\n",
        "model_5.add(Dense(4, input_dim=12, activation='relu'))\n",
        "model_5.add(Dense(1, activation='sigmoid'))\n",
        "print(model_5.summary())"
      ],
      "metadata": {
        "colab": {
          "base_uri": "https://localhost:8080/"
        },
        "outputId": "c6b27071-d514-48d2-e0fa-427cafd0ee94",
        "id": "9ZSC06p6mLaB"
      },
      "execution_count": 24,
      "outputs": [
        {
          "output_type": "stream",
          "name": "stdout",
          "text": [
            "Model: \"sequential_4\"\n",
            "_________________________________________________________________\n",
            " Layer (type)                Output Shape              Param #   \n",
            "=================================================================\n",
            " dense_9 (Dense)             (None, 4)                 52        \n",
            "                                                                 \n",
            " dense_10 (Dense)            (None, 1)                 5         \n",
            "                                                                 \n",
            "=================================================================\n",
            "Total params: 57\n",
            "Trainable params: 57\n",
            "Non-trainable params: 0\n",
            "_________________________________________________________________\n",
            "None\n"
          ]
        }
      ]
    },
    {
      "cell_type": "code",
      "source": [
        "svg4_path = '/content/drive/MyDrive/Colab Notebooks/nn (2).svg'\n",
        "display(SVG(svg4_path))\n"
      ],
      "metadata": {
        "colab": {
          "base_uri": "https://localhost:8080/",
          "height": 840
        },
        "outputId": "d5dbb9e2-a5e3-4966-d7a3-3de688e3a396",
        "id": "bhUQ41_Ec0k5"
      },
      "execution_count": 25,
      "outputs": [
        {
          "output_type": "display_data",
          "data": {
            "text/plain": [
              "<IPython.core.display.SVG object>"
            ],
            "image/svg+xml": "<svg xmlns=\"http://www.w3.org/2000/svg\" width=\"1707\" height=\"799\" style=\"cursor: move; touch-action: none; -webkit-tap-highlight-color: rgba(0, 0, 0, 0);\"><g transform=\"translate(-752.8203494480965,-99.48924937672564) scale(1.2311444133449165)\"><path class=\"link\" marker-end=\"\" d=\"M693.5,169.5, 873.5,329.5\" style=\"stroke-width: 0.5; stroke-opacity: 1; stroke: rgb(80, 80, 80);\"/><path class=\"link\" marker-end=\"\" d=\"M693.5,169.5, 873.5,369.5\" style=\"stroke-width: 0.5; stroke-opacity: 1; stroke: rgb(80, 80, 80);\"/><path class=\"link\" marker-end=\"\" d=\"M693.5,209.5, 873.5,329.5\" style=\"stroke-width: 0.5; stroke-opacity: 1; stroke: rgb(80, 80, 80);\"/><path class=\"link\" marker-end=\"\" d=\"M693.5,209.5, 873.5,369.5\" style=\"stroke-width: 0.5; stroke-opacity: 1; stroke: rgb(80, 80, 80);\"/><path class=\"link\" marker-end=\"\" d=\"M693.5,249.5, 873.5,329.5\" style=\"stroke-width: 0.5; stroke-opacity: 1; stroke: rgb(80, 80, 80);\"/><path class=\"link\" marker-end=\"\" d=\"M693.5,249.5, 873.5,369.5\" style=\"stroke-width: 0.5; stroke-opacity: 1; stroke: rgb(80, 80, 80);\"/><path class=\"link\" marker-end=\"\" d=\"M693.5,289.5, 873.5,329.5\" style=\"stroke-width: 0.5; stroke-opacity: 1; stroke: rgb(80, 80, 80);\"/><path class=\"link\" marker-end=\"\" d=\"M693.5,289.5, 873.5,369.5\" style=\"stroke-width: 0.5; stroke-opacity: 1; stroke: rgb(80, 80, 80);\"/><path class=\"link\" marker-end=\"\" d=\"M693.5,329.5, 873.5,329.5\" style=\"stroke-width: 0.5; stroke-opacity: 1; stroke: rgb(80, 80, 80);\"/><path class=\"link\" marker-end=\"\" d=\"M693.5,329.5, 873.5,369.5\" style=\"stroke-width: 0.5; stroke-opacity: 1; stroke: rgb(80, 80, 80);\"/><path class=\"link\" marker-end=\"\" d=\"M693.5,369.5, 873.5,329.5\" style=\"stroke-width: 0.5; stroke-opacity: 1; stroke: rgb(80, 80, 80);\"/><path class=\"link\" marker-end=\"\" d=\"M693.5,369.5, 873.5,369.5\" style=\"stroke-width: 0.5; stroke-opacity: 1; stroke: rgb(80, 80, 80);\"/><path class=\"link\" marker-end=\"\" d=\"M693.5,409.5, 873.5,329.5\" style=\"stroke-width: 0.5; stroke-opacity: 1; stroke: rgb(80, 80, 80);\"/><path class=\"link\" marker-end=\"\" d=\"M693.5,409.5, 873.5,369.5\" style=\"stroke-width: 0.5; stroke-opacity: 1; stroke: rgb(80, 80, 80);\"/><path class=\"link\" marker-end=\"\" d=\"M693.5,449.5, 873.5,329.5\" style=\"stroke-width: 0.5; stroke-opacity: 1; stroke: rgb(80, 80, 80);\"/><path class=\"link\" marker-end=\"\" d=\"M693.5,449.5, 873.5,369.5\" style=\"stroke-width: 0.5; stroke-opacity: 1; stroke: rgb(80, 80, 80);\"/><path class=\"link\" marker-end=\"\" d=\"M693.5,489.5, 873.5,329.5\" style=\"stroke-width: 0.5; stroke-opacity: 1; stroke: rgb(80, 80, 80);\"/><path class=\"link\" marker-end=\"\" d=\"M693.5,489.5, 873.5,369.5\" style=\"stroke-width: 0.5; stroke-opacity: 1; stroke: rgb(80, 80, 80);\"/><path class=\"link\" marker-end=\"\" d=\"M693.5,529.5, 873.5,329.5\" style=\"stroke-width: 0.5; stroke-opacity: 1; stroke: rgb(80, 80, 80);\"/><path class=\"link\" marker-end=\"\" d=\"M693.5,529.5, 873.5,369.5\" style=\"stroke-width: 0.5; stroke-opacity: 1; stroke: rgb(80, 80, 80);\"/><path class=\"link\" marker-end=\"\" d=\"M693.5,569.5, 873.5,329.5\" style=\"stroke-width: 0.5; stroke-opacity: 1; stroke: rgb(80, 80, 80);\"/><path class=\"link\" marker-end=\"\" d=\"M693.5,569.5, 873.5,369.5\" style=\"stroke-width: 0.5; stroke-opacity: 1; stroke: rgb(80, 80, 80);\"/><path class=\"link\" marker-end=\"\" d=\"M693.5,609.5, 873.5,329.5\" style=\"stroke-width: 0.5; stroke-opacity: 1; stroke: rgb(80, 80, 80);\"/><path class=\"link\" marker-end=\"\" d=\"M693.5,609.5, 873.5,369.5\" style=\"stroke-width: 0.5; stroke-opacity: 1; stroke: rgb(80, 80, 80);\"/><path class=\"link\" marker-end=\"\" d=\"M873.5,329.5, 1053.5,389.5\" style=\"stroke-width: 0.5; stroke-opacity: 1; stroke: rgb(80, 80, 80);\"/><path class=\"link\" marker-end=\"\" d=\"M873.5,369.5, 1053.5,389.5\" style=\"stroke-width: 0.5; stroke-opacity: 1; stroke: rgb(80, 80, 80);\"/><path class=\"link\" marker-end=\"\" d=\"M693.5,169.5, 873.5,409.5\" style=\"stroke-width: 0.5; stroke-opacity: 1; stroke: rgb(80, 80, 80);\"/><path class=\"link\" marker-end=\"\" d=\"M693.5,209.5, 873.5,409.5\" style=\"stroke-width: 0.5; stroke-opacity: 1; stroke: rgb(80, 80, 80);\"/><path class=\"link\" marker-end=\"\" d=\"M693.5,249.5, 873.5,409.5\" style=\"stroke-width: 0.5; stroke-opacity: 1; stroke: rgb(80, 80, 80);\"/><path class=\"link\" marker-end=\"\" d=\"M693.5,289.5, 873.5,409.5\" style=\"stroke-width: 0.5; stroke-opacity: 1; stroke: rgb(80, 80, 80);\"/><path class=\"link\" marker-end=\"\" d=\"M693.5,329.5, 873.5,409.5\" style=\"stroke-width: 0.5; stroke-opacity: 1; stroke: rgb(80, 80, 80);\"/><path class=\"link\" marker-end=\"\" d=\"M693.5,369.5, 873.5,409.5\" style=\"stroke-width: 0.5; stroke-opacity: 1; stroke: rgb(80, 80, 80);\"/><path class=\"link\" marker-end=\"\" d=\"M693.5,409.5, 873.5,409.5\" style=\"stroke-width: 0.5; stroke-opacity: 1; stroke: rgb(80, 80, 80);\"/><path class=\"link\" marker-end=\"\" d=\"M693.5,449.5, 873.5,409.5\" style=\"stroke-width: 0.5; stroke-opacity: 1; stroke: rgb(80, 80, 80);\"/><path class=\"link\" marker-end=\"\" d=\"M693.5,489.5, 873.5,409.5\" style=\"stroke-width: 0.5; stroke-opacity: 1; stroke: rgb(80, 80, 80);\"/><path class=\"link\" marker-end=\"\" d=\"M693.5,529.5, 873.5,409.5\" style=\"stroke-width: 0.5; stroke-opacity: 1; stroke: rgb(80, 80, 80);\"/><path class=\"link\" marker-end=\"\" d=\"M693.5,569.5, 873.5,409.5\" style=\"stroke-width: 0.5; stroke-opacity: 1; stroke: rgb(80, 80, 80);\"/><path class=\"link\" marker-end=\"\" d=\"M693.5,609.5, 873.5,409.5\" style=\"stroke-width: 0.5; stroke-opacity: 1; stroke: rgb(80, 80, 80);\"/><path class=\"link\" marker-end=\"\" d=\"M873.5,409.5, 1053.5,389.5\" style=\"stroke-width: 0.5; stroke-opacity: 1; stroke: rgb(80, 80, 80);\"/><path class=\"link\" marker-end=\"\" d=\"M693.5,169.5, 873.5,449.5\" style=\"stroke-width: 0.5; stroke-opacity: 1; stroke: rgb(80, 80, 80);\"/><path class=\"link\" marker-end=\"\" d=\"M693.5,209.5, 873.5,449.5\" style=\"stroke-width: 0.5; stroke-opacity: 1; stroke: rgb(80, 80, 80);\"/><path class=\"link\" marker-end=\"\" d=\"M693.5,249.5, 873.5,449.5\" style=\"stroke-width: 0.5; stroke-opacity: 1; stroke: rgb(80, 80, 80);\"/><path class=\"link\" marker-end=\"\" d=\"M693.5,289.5, 873.5,449.5\" style=\"stroke-width: 0.5; stroke-opacity: 1; stroke: rgb(80, 80, 80);\"/><path class=\"link\" marker-end=\"\" d=\"M693.5,329.5, 873.5,449.5\" style=\"stroke-width: 0.5; stroke-opacity: 1; stroke: rgb(80, 80, 80);\"/><path class=\"link\" marker-end=\"\" d=\"M693.5,369.5, 873.5,449.5\" style=\"stroke-width: 0.5; stroke-opacity: 1; stroke: rgb(80, 80, 80);\"/><path class=\"link\" marker-end=\"\" d=\"M693.5,409.5, 873.5,449.5\" style=\"stroke-width: 0.5; stroke-opacity: 1; stroke: rgb(80, 80, 80);\"/><path class=\"link\" marker-end=\"\" d=\"M693.5,449.5, 873.5,449.5\" style=\"stroke-width: 0.5; stroke-opacity: 1; stroke: rgb(80, 80, 80);\"/><path class=\"link\" marker-end=\"\" d=\"M693.5,489.5, 873.5,449.5\" style=\"stroke-width: 0.5; stroke-opacity: 1; stroke: rgb(80, 80, 80);\"/><path class=\"link\" marker-end=\"\" d=\"M693.5,529.5, 873.5,449.5\" style=\"stroke-width: 0.5; stroke-opacity: 1; stroke: rgb(80, 80, 80);\"/><path class=\"link\" marker-end=\"\" d=\"M693.5,569.5, 873.5,449.5\" style=\"stroke-width: 0.5; stroke-opacity: 1; stroke: rgb(80, 80, 80);\"/><path class=\"link\" marker-end=\"\" d=\"M693.5,609.5, 873.5,449.5\" style=\"stroke-width: 0.5; stroke-opacity: 1; stroke: rgb(80, 80, 80);\"/><path class=\"link\" marker-end=\"\" d=\"M873.5,449.5, 1053.5,389.5\" style=\"stroke-width: 0.5; stroke-opacity: 1; stroke: rgb(80, 80, 80);\"/><circle r=\"10\" class=\"node\" id=\"0_0\" cx=\"693.5\" cy=\"169.5\" style=\"fill: rgb(255, 255, 255); stroke: rgb(51, 51, 51);\"/><circle r=\"10\" class=\"node\" id=\"0_1\" cx=\"693.5\" cy=\"209.5\" style=\"fill: rgb(255, 255, 255); stroke: rgb(51, 51, 51);\"/><circle r=\"10\" class=\"node\" id=\"0_2\" cx=\"693.5\" cy=\"249.5\" style=\"fill: rgb(255, 255, 255); stroke: rgb(51, 51, 51);\"/><circle r=\"10\" class=\"node\" id=\"0_3\" cx=\"693.5\" cy=\"289.5\" style=\"fill: rgb(255, 255, 255); stroke: rgb(51, 51, 51);\"/><circle r=\"10\" class=\"node\" id=\"0_4\" cx=\"693.5\" cy=\"329.5\" style=\"fill: rgb(255, 255, 255); stroke: rgb(51, 51, 51);\"/><circle r=\"10\" class=\"node\" id=\"0_5\" cx=\"693.5\" cy=\"369.5\" style=\"fill: rgb(255, 255, 255); stroke: rgb(51, 51, 51);\"/><circle r=\"10\" class=\"node\" id=\"0_6\" cx=\"693.5\" cy=\"409.5\" style=\"fill: rgb(255, 255, 255); stroke: rgb(51, 51, 51);\"/><circle r=\"10\" class=\"node\" id=\"0_7\" cx=\"693.5\" cy=\"449.5\" style=\"fill: rgb(255, 255, 255); stroke: rgb(51, 51, 51);\"/><circle r=\"10\" class=\"node\" id=\"0_8\" cx=\"693.5\" cy=\"489.5\" style=\"fill: rgb(255, 255, 255); stroke: rgb(51, 51, 51);\"/><circle r=\"10\" class=\"node\" id=\"0_9\" cx=\"693.5\" cy=\"529.5\" style=\"fill: rgb(255, 255, 255); stroke: rgb(51, 51, 51);\"/><circle r=\"10\" class=\"node\" id=\"0_10\" cx=\"693.5\" cy=\"569.5\" style=\"fill: rgb(255, 255, 255); stroke: rgb(51, 51, 51);\"/><circle r=\"10\" class=\"node\" id=\"0_11\" cx=\"693.5\" cy=\"609.5\" style=\"fill: rgb(255, 255, 255); stroke: rgb(51, 51, 51);\"/><circle r=\"10\" class=\"node\" id=\"1_0\" cx=\"873.5\" cy=\"329.5\" style=\"fill: rgb(255, 255, 255); stroke: rgb(51, 51, 51);\"/><circle r=\"10\" class=\"node\" id=\"1_1\" cx=\"873.5\" cy=\"369.5\" style=\"fill: rgb(255, 255, 255); stroke: rgb(51, 51, 51);\"/><circle r=\"10\" class=\"node\" id=\"1_2\" cx=\"873.5\" cy=\"409.5\" style=\"fill: rgb(255, 255, 255); stroke: rgb(51, 51, 51);\"/><circle r=\"10\" class=\"node\" id=\"1_3\" cx=\"873.5\" cy=\"449.5\" style=\"fill: rgb(255, 255, 255); stroke: rgb(51, 51, 51);\"/><circle r=\"10\" class=\"node\" id=\"2_0\" cx=\"1053.5\" cy=\"389.5\" style=\"fill: rgb(255, 255, 255); stroke: rgb(51, 51, 51);\"/><text class=\"text\" dy=\".35em\" x=\"658.5\" y=\"649.5\" style=\"font-size: 12px;\">Input Layer ∈ ℝ¹²</text><text class=\"text\" dy=\".35em\" x=\"838.5\" y=\"649.5\" style=\"font-size: 12px;\">Hidden Layer ∈ ℝ⁴</text><text class=\"text\" dy=\".35em\" x=\"1018.5\" y=\"649.5\" style=\"font-size: 12px;\">Output Layer ∈ ℝ¹</text></g><defs><marker id=\"arrow\" viewBox=\"0 -5 10 10\" markerWidth=\"7\" markerHeight=\"7\" orient=\"auto\" refX=\"40\"><path d=\"M0,-5L10,0L0,5\" style=\"stroke: rgb(80, 80, 80); fill: none;\"/></marker></defs></svg>"
          },
          "metadata": {}
        }
      ]
    },
    {
      "cell_type": "code",
      "source": [
        "#Compile the model\n",
        "model_5.compile(loss='binary_crossentropy', optimizer='RMSprop', metrics=['accuracy'])\n",
        "\n",
        "#Fit training data to the model\n",
        "model_5.fit(x_train, y_train, epochs=10, batch_size=32, validation_data=(x_test, y_test))"
      ],
      "metadata": {
        "colab": {
          "base_uri": "https://localhost:8080/"
        },
        "outputId": "65798081-d433-4cd0-958e-d351b2f7157f",
        "id": "jivearc_mLaC"
      },
      "execution_count": 26,
      "outputs": [
        {
          "output_type": "stream",
          "name": "stdout",
          "text": [
            "Epoch 1/10\n",
            "143/143 [==============================] - 1s 6ms/step - loss: 2.1423 - accuracy: 0.7766 - val_loss: 0.8143 - val_accuracy: 0.7923\n",
            "Epoch 2/10\n",
            "143/143 [==============================] - 1s 4ms/step - loss: 0.5729 - accuracy: 0.8322 - val_loss: 0.4725 - val_accuracy: 0.8569\n",
            "Epoch 3/10\n",
            "143/143 [==============================] - 0s 3ms/step - loss: 0.3508 - accuracy: 0.8782 - val_loss: 0.3379 - val_accuracy: 0.8892\n",
            "Epoch 4/10\n",
            "143/143 [==============================] - 1s 4ms/step - loss: 0.2657 - accuracy: 0.9039 - val_loss: 0.2409 - val_accuracy: 0.9082\n",
            "Epoch 5/10\n",
            "143/143 [==============================] - 0s 3ms/step - loss: 0.2273 - accuracy: 0.9175 - val_loss: 0.2245 - val_accuracy: 0.9123\n",
            "Epoch 6/10\n",
            "143/143 [==============================] - 0s 3ms/step - loss: 0.2126 - accuracy: 0.9265 - val_loss: 0.2053 - val_accuracy: 0.9287\n",
            "Epoch 7/10\n",
            "143/143 [==============================] - 0s 3ms/step - loss: 0.2020 - accuracy: 0.9292 - val_loss: 0.1914 - val_accuracy: 0.9359\n",
            "Epoch 8/10\n",
            "143/143 [==============================] - 0s 3ms/step - loss: 0.1956 - accuracy: 0.9334 - val_loss: 0.1800 - val_accuracy: 0.9390\n",
            "Epoch 9/10\n",
            "143/143 [==============================] - 1s 7ms/step - loss: 0.1869 - accuracy: 0.9373 - val_loss: 0.1778 - val_accuracy: 0.9395\n",
            "Epoch 10/10\n",
            "143/143 [==============================] - 0s 3ms/step - loss: 0.1770 - accuracy: 0.9386 - val_loss: 0.1638 - val_accuracy: 0.9462\n"
          ]
        },
        {
          "output_type": "execute_result",
          "data": {
            "text/plain": [
              "<keras.callbacks.History at 0x7f030dd10a30>"
            ]
          },
          "metadata": {},
          "execution_count": 26
        }
      ]
    },
    {
      "cell_type": "code",
      "source": [
        "# Evaluate model on the test data \n",
        "loss, accuracy = model_5.evaluate(x_test, y_test)\n",
        "print(f'Test Loss: {loss:.4f}')\n",
        "print(f'Test Accuracy: {accuracy:.4f}')"
      ],
      "metadata": {
        "colab": {
          "base_uri": "https://localhost:8080/"
        },
        "outputId": "c64e1af1-8da0-4dd6-d873-d18e6893cfd3",
        "id": "6lufZP8dmLaC"
      },
      "execution_count": 27,
      "outputs": [
        {
          "output_type": "stream",
          "name": "stdout",
          "text": [
            "61/61 [==============================] - 0s 2ms/step - loss: 0.1638 - accuracy: 0.9462\n",
            "Test Loss: 0.1638\n",
            "Test Accuracy: 0.9462\n"
          ]
        }
      ]
    },
    {
      "cell_type": "markdown",
      "source": [
        "#Tuning Model 4 and 5\n",
        "Since Model_4 and Model_5 has the highest test score so far, hyperparameter tuning will be performed on the combination of both models.\n",
        "The new model will be using the tanh activation function whilst optimized using the RMSprop optimizer. \n",
        "* Fully connected neural network (Dense)\n",
        "* First layer   - 4 neurons -AF: tanh\n",
        "* Second layer  - 2 neuron  -AF: Sigmoid\n",
        "\n",
        "GirdSeach is also utilized to find the best parameters to fit the model.\n",
        "\n"
      ],
      "metadata": {
        "id": "wkXiKNxJnX4y"
      }
    },
    {
      "cell_type": "code",
      "source": [
        "from keras.wrappers.scikit_learn import KerasClassifier\n",
        "from sklearn.model_selection import GridSearchCV\n",
        "\n",
        "# Define the function to create the model\n",
        "def create_model(hidden_units=4, learning_rate=0.01):\n",
        "    model = Sequential()\n",
        "    model.add(Dense(4, input_dim=12, activation='tanh'))\n",
        "    model.add(Dense(1, activation='sigmoid'))\n",
        "    model.compile(loss='binary_crossentropy', optimizer='RMSprop', metrics=['accuracy'])\n",
        "    return model\n",
        "\n",
        "# Wrap the model creation function in KerasClassifier\n",
        "keras_model = KerasClassifier(build_fn=create_model)\n",
        "\n",
        "# Define the parameter grid\n",
        "param_grid = {\n",
        "    'hidden_units': [4, 8, 16],\n",
        "    'learning_rate': [0.1, 0.01, 0.001],\n",
        "    'batch_size': [20, 32, 64],\n",
        "}\n",
        "\n",
        "\n",
        "# Create the GridSearchCV object\n",
        "grid_search = GridSearchCV(estimator=keras_model, param_grid=param_grid, cv=5)\n",
        "\n",
        "# Fit the training data to perform the grid search\n",
        "grid_search.fit(x_train, y_train)\n",
        "\n",
        "# Print the best parameters and score\n",
        "print(grid_search.best_params_)\n",
        "print(grid_search.best_score_)\n"
      ],
      "metadata": {
        "colab": {
          "base_uri": "https://localhost:8080/"
        },
        "id": "-d1jt8gGotS_",
        "outputId": "61b7280b-caca-4ace-e712-ce570138db95"
      },
      "execution_count": 28,
      "outputs": [
        {
          "output_type": "stream",
          "name": "stderr",
          "text": [
            "<ipython-input-28-a35e2114ddea>:13: DeprecationWarning: KerasClassifier is deprecated, use Sci-Keras (https://github.com/adriangb/scikeras) instead. See https://www.adriangb.com/scikeras/stable/migration.html for help migrating.\n",
            "  keras_model = KerasClassifier(build_fn=create_model)\n"
          ]
        },
        {
          "output_type": "stream",
          "name": "stdout",
          "text": [
            "182/182 [==============================] - 1s 2ms/step - loss: 0.8325 - accuracy: 0.2433\n",
            "46/46 [==============================] - 0s 2ms/step - loss: 0.6639 - accuracy: 0.2571\n",
            "182/182 [==============================] - 1s 3ms/step - loss: 1.2535 - accuracy: 0.2422\n",
            "46/46 [==============================] - 0s 2ms/step - loss: 0.9953 - accuracy: 0.2615\n",
            "182/182 [==============================] - 1s 3ms/step - loss: 0.9280 - accuracy: 0.2496\n",
            "46/46 [==============================] - 0s 3ms/step - loss: 0.7420 - accuracy: 0.2321\n",
            "182/182 [==============================] - 1s 2ms/step - loss: 0.4776 - accuracy: 0.7721\n",
            "46/46 [==============================] - 0s 2ms/step - loss: 0.4120 - accuracy: 0.8097\n",
            "182/182 [==============================] - 1s 2ms/step - loss: 0.4783 - accuracy: 0.8727\n",
            "46/46 [==============================] - 0s 2ms/step - loss: 0.3789 - accuracy: 0.8944\n",
            "182/182 [==============================] - 1s 2ms/step - loss: 0.5981 - accuracy: 0.7564\n",
            "46/46 [==============================] - 0s 2ms/step - loss: 0.4939 - accuracy: 0.8857\n",
            "182/182 [==============================] - 1s 2ms/step - loss: 0.6440 - accuracy: 0.7578\n",
            "46/46 [==============================] - 0s 2ms/step - loss: 0.5747 - accuracy: 0.7385\n",
            "182/182 [==============================] - 1s 2ms/step - loss: 0.8421 - accuracy: 0.1938\n",
            "46/46 [==============================] - 0s 2ms/step - loss: 0.6696 - accuracy: 0.8174\n",
            "182/182 [==============================] - 1s 2ms/step - loss: 0.5887 - accuracy: 0.7287\n",
            "46/46 [==============================] - 0s 2ms/step - loss: 0.4782 - accuracy: 0.9219\n",
            "182/182 [==============================] - 1s 2ms/step - loss: 0.4118 - accuracy: 0.8532\n",
            "46/46 [==============================] - 0s 3ms/step - loss: 0.3324 - accuracy: 0.8889\n",
            "182/182 [==============================] - 1s 3ms/step - loss: 0.9987 - accuracy: 0.3090\n",
            "46/46 [==============================] - 1s 7ms/step - loss: 0.5992 - accuracy: 0.8901\n",
            "182/182 [==============================] - 3s 4ms/step - loss: 0.4620 - accuracy: 0.8265\n",
            "46/46 [==============================] - 0s 2ms/step - loss: 0.3699 - accuracy: 0.8571\n",
            "182/182 [==============================] - 1s 2ms/step - loss: 0.7898 - accuracy: 0.3153\n",
            "46/46 [==============================] - 0s 2ms/step - loss: 0.6336 - accuracy: 0.8735\n",
            "182/182 [==============================] - 1s 2ms/step - loss: 0.4684 - accuracy: 0.8584\n",
            "46/46 [==============================] - 0s 2ms/step - loss: 0.3759 - accuracy: 0.9043\n",
            "182/182 [==============================] - 1s 2ms/step - loss: 0.8054 - accuracy: 0.2444\n",
            "46/46 [==============================] - 0s 2ms/step - loss: 0.6192 - accuracy: 0.9076\n",
            "182/182 [==============================] - 3s 8ms/step - loss: 0.5435 - accuracy: 0.8578\n",
            "46/46 [==============================] - 1s 3ms/step - loss: 0.4154 - accuracy: 0.9055\n",
            "182/182 [==============================] - 1s 2ms/step - loss: 1.1311 - accuracy: 0.2422\n",
            "46/46 [==============================] - 0s 2ms/step - loss: 0.8874 - accuracy: 0.2615\n",
            "182/182 [==============================] - 1s 2ms/step - loss: 1.0352 - accuracy: 0.2496\n",
            "46/46 [==============================] - 0s 2ms/step - loss: 0.8245 - accuracy: 0.2321\n",
            "182/182 [==============================] - 1s 2ms/step - loss: 0.9405 - accuracy: 0.2485\n",
            "46/46 [==============================] - 0s 2ms/step - loss: 0.7733 - accuracy: 0.2376\n",
            "182/182 [==============================] - 1s 2ms/step - loss: 0.6170 - accuracy: 0.7356\n",
            "46/46 [==============================] - 0s 2ms/step - loss: 0.5291 - accuracy: 0.7580\n",
            "182/182 [==============================] - 1s 2ms/step - loss: 0.8612 - accuracy: 0.5584\n",
            "46/46 [==============================] - 0s 2ms/step - loss: 0.6198 - accuracy: 0.7176\n",
            "182/182 [==============================] - 1s 2ms/step - loss: 0.6878 - accuracy: 0.5337\n",
            "46/46 [==============================] - 0s 2ms/step - loss: 0.6107 - accuracy: 0.7385\n",
            "182/182 [==============================] - 1s 3ms/step - loss: 1.6910 - accuracy: 0.2496\n",
            "46/46 [==============================] - 0s 2ms/step - loss: 1.4404 - accuracy: 0.2321\n",
            "182/182 [==============================] - 1s 3ms/step - loss: 0.7421 - accuracy: 0.3733\n",
            "46/46 [==============================] - 0s 2ms/step - loss: 0.5828 - accuracy: 0.8999\n",
            "182/182 [==============================] - 1s 2ms/step - loss: 0.8460 - accuracy: 0.2325\n",
            "46/46 [==============================] - 0s 2ms/step - loss: 0.6400 - accuracy: 0.2420\n",
            "182/182 [==============================] - 1s 2ms/step - loss: 0.6234 - accuracy: 0.7567\n",
            "46/46 [==============================] - 0s 2ms/step - loss: 0.5827 - accuracy: 0.7429\n",
            "182/182 [==============================] - 1s 2ms/step - loss: 0.4479 - accuracy: 0.8647\n",
            "46/46 [==============================] - 0s 2ms/step - loss: 0.3463 - accuracy: 0.8978\n",
            "182/182 [==============================] - 1s 2ms/step - loss: 0.3743 - accuracy: 0.8774\n",
            "46/46 [==============================] - 0s 2ms/step - loss: 0.3229 - accuracy: 0.8867\n",
            "182/182 [==============================] - 1s 2ms/step - loss: 0.4126 - accuracy: 0.8752\n",
            "46/46 [==============================] - 0s 2ms/step - loss: 0.3825 - accuracy: 0.8834\n",
            "182/182 [==============================] - 1s 2ms/step - loss: 0.4202 - accuracy: 0.8002\n",
            "46/46 [==============================] - 0s 2ms/step - loss: 0.3568 - accuracy: 0.8658\n",
            "182/182 [==============================] - 1s 2ms/step - loss: 0.4894 - accuracy: 0.8194\n",
            "46/46 [==============================] - 0s 2ms/step - loss: 0.4456 - accuracy: 0.8593\n",
            "182/182 [==============================] - 1s 3ms/step - loss: 0.7403 - accuracy: 0.4196\n",
            "46/46 [==============================] - 0s 3ms/step - loss: 0.6207 - accuracy: 0.8055\n",
            "182/182 [==============================] - 1s 3ms/step - loss: 0.4458 - accuracy: 0.8389\n",
            "46/46 [==============================] - 1s 2ms/step - loss: 0.3866 - accuracy: 0.8779\n",
            "182/182 [==============================] - 1s 2ms/step - loss: 0.5803 - accuracy: 0.7798\n",
            "46/46 [==============================] - 0s 2ms/step - loss: 0.4787 - accuracy: 0.8581\n",
            "182/182 [==============================] - 1s 2ms/step - loss: 0.4620 - accuracy: 0.8367\n",
            "46/46 [==============================] - 0s 2ms/step - loss: 0.3655 - accuracy: 0.8944\n",
            "182/182 [==============================] - 1s 3ms/step - loss: 0.5296 - accuracy: 0.8449\n",
            "46/46 [==============================] - 0s 2ms/step - loss: 0.4229 - accuracy: 0.8978\n",
            "182/182 [==============================] - 1s 3ms/step - loss: 0.4148 - accuracy: 0.9016\n",
            "46/46 [==============================] - 0s 2ms/step - loss: 0.3515 - accuracy: 0.9121\n",
            "182/182 [==============================] - 1s 2ms/step - loss: 0.5940 - accuracy: 0.7504\n",
            "46/46 [==============================] - 0s 2ms/step - loss: 0.5408 - accuracy: 0.7679\n",
            "182/182 [==============================] - 1s 3ms/step - loss: 0.7186 - accuracy: 0.4744\n",
            "46/46 [==============================] - 0s 2ms/step - loss: 0.5984 - accuracy: 0.8405\n",
            "182/182 [==============================] - 1s 3ms/step - loss: 0.5085 - accuracy: 0.7886\n",
            "46/46 [==============================] - 0s 3ms/step - loss: 0.3743 - accuracy: 0.9219\n",
            "182/182 [==============================] - 1s 2ms/step - loss: 0.5076 - accuracy: 0.8625\n",
            "46/46 [==============================] - 0s 2ms/step - loss: 0.4155 - accuracy: 0.8945\n",
            "182/182 [==============================] - 1s 2ms/step - loss: 0.7922 - accuracy: 0.3000\n",
            "46/46 [==============================] - 0s 2ms/step - loss: 0.6406 - accuracy: 0.8011\n",
            "182/182 [==============================] - 1s 2ms/step - loss: 0.9711 - accuracy: 0.2485\n",
            "46/46 [==============================] - 0s 2ms/step - loss: 0.7994 - accuracy: 0.2310\n",
            "182/182 [==============================] - 1s 2ms/step - loss: 0.4814 - accuracy: 0.8474\n",
            "46/46 [==============================] - 0s 2ms/step - loss: 0.3931 - accuracy: 0.8350\n",
            "182/182 [==============================] - 1s 2ms/step - loss: 0.9518 - accuracy: 0.4310\n",
            "46/46 [==============================] - 0s 2ms/step - loss: 0.6129 - accuracy: 0.7393\n",
            "114/114 [==============================] - 1s 2ms/step - loss: 1.2277 - accuracy: 0.1751\n",
            "29/29 [==============================] - 0s 2ms/step - loss: 1.0311 - accuracy: 0.2341\n",
            "114/114 [==============================] - 1s 2ms/step - loss: 0.3704 - accuracy: 0.8205\n",
            "29/29 [==============================] - 0s 2ms/step - loss: 0.3245 - accuracy: 0.8780\n",
            "114/114 [==============================] - 1s 3ms/step - loss: 0.3853 - accuracy: 0.8738\n",
            "29/29 [==============================] - 0s 3ms/step - loss: 0.3291 - accuracy: 0.9043\n",
            "114/114 [==============================] - 1s 3ms/step - loss: 0.5413 - accuracy: 0.7598\n",
            "29/29 [==============================] - 0s 3ms/step - loss: 0.4378 - accuracy: 0.8350\n",
            "114/114 [==============================] - 1s 2ms/step - loss: 0.7996 - accuracy: 0.2455\n",
            "29/29 [==============================] - 0s 2ms/step - loss: 0.7125 - accuracy: 0.2398\n",
            "114/114 [==============================] - 2s 7ms/step - loss: 0.5870 - accuracy: 0.7575\n",
            "29/29 [==============================] - 0s 1ms/step - loss: 0.5598 - accuracy: 0.7484\n",
            "114/114 [==============================] - 1s 2ms/step - loss: 0.7131 - accuracy: 0.3492\n",
            "29/29 [==============================] - 0s 2ms/step - loss: 0.5616 - accuracy: 0.9121\n",
            "114/114 [==============================] - 1s 2ms/step - loss: 0.4727 - accuracy: 0.8615\n",
            "29/29 [==============================] - 0s 2ms/step - loss: 0.3969 - accuracy: 0.8856\n",
            "114/114 [==============================] - 1s 2ms/step - loss: 1.5194 - accuracy: 0.2482\n",
            "29/29 [==============================] - 0s 2ms/step - loss: 1.3575 - accuracy: 0.2376\n",
            "114/114 [==============================] - 1s 2ms/step - loss: 0.5709 - accuracy: 0.7529\n",
            "29/29 [==============================] - 0s 2ms/step - loss: 0.5574 - accuracy: 0.7580\n",
            "114/114 [==============================] - 1s 2ms/step - loss: 0.4277 - accuracy: 0.7679\n",
            "29/29 [==============================] - 0s 2ms/step - loss: 0.3900 - accuracy: 0.7802\n",
            "114/114 [==============================] - 1s 3ms/step - loss: 0.8572 - accuracy: 0.5746\n",
            "29/29 [==============================] - 0s 3ms/step - loss: 0.6144 - accuracy: 0.7462\n",
            "114/114 [==============================] - 1s 3ms/step - loss: 0.6840 - accuracy: 0.6292\n",
            "29/29 [==============================] - 0s 3ms/step - loss: 0.6128 - accuracy: 0.7679\n",
            "114/114 [==============================] - 1s 2ms/step - loss: 1.1369 - accuracy: 0.2482\n",
            "29/29 [==============================] - 0s 2ms/step - loss: 0.9994 - accuracy: 0.2376\n",
            "114/114 [==============================] - 1s 2ms/step - loss: 0.6135 - accuracy: 0.7947\n",
            "29/29 [==============================] - 0s 2ms/step - loss: 0.5434 - accuracy: 0.8405\n",
            "114/114 [==============================] - 1s 2ms/step - loss: 0.8823 - accuracy: 0.4468\n",
            "29/29 [==============================] - 0s 2ms/step - loss: 0.6746 - accuracy: 0.7297\n",
            "114/114 [==============================] - 1s 2ms/step - loss: 0.6302 - accuracy: 0.6888\n",
            "29/29 [==============================] - 0s 2ms/step - loss: 0.5429 - accuracy: 0.9000\n",
            "114/114 [==============================] - 1s 2ms/step - loss: 0.5766 - accuracy: 0.7180\n",
            "29/29 [==============================] - 0s 2ms/step - loss: 0.4067 - accuracy: 0.8999\n",
            "114/114 [==============================] - 1s 2ms/step - loss: 0.9096 - accuracy: 0.2477\n",
            "29/29 [==============================] - 0s 2ms/step - loss: 0.8046 - accuracy: 0.2365\n",
            "114/114 [==============================] - 1s 2ms/step - loss: 0.4649 - accuracy: 0.8051\n",
            "29/29 [==============================] - 0s 2ms/step - loss: 0.3668 - accuracy: 0.8680\n",
            "114/114 [==============================] - 1s 2ms/step - loss: 0.9821 - accuracy: 0.2662\n",
            "29/29 [==============================] - 0s 1ms/step - loss: 0.7354 - accuracy: 0.4780\n",
            "114/114 [==============================] - 1s 3ms/step - loss: 0.9827 - accuracy: 0.2422\n",
            "29/29 [==============================] - 0s 3ms/step - loss: 0.8408 - accuracy: 0.2615\n",
            "114/114 [==============================] - 1s 3ms/step - loss: 0.5159 - accuracy: 0.7949\n",
            "29/29 [==============================] - 0s 3ms/step - loss: 0.4688 - accuracy: 0.8196\n",
            "114/114 [==============================] - 1s 2ms/step - loss: 0.6930 - accuracy: 0.6278\n",
            "29/29 [==============================] - 0s 2ms/step - loss: 0.5962 - accuracy: 0.7349\n",
            "114/114 [==============================] - 2s 2ms/step - loss: 0.7554 - accuracy: 0.3208\n",
            "29/29 [==============================] - 0s 2ms/step - loss: 0.6714 - accuracy: 0.7580\n",
            "114/114 [==============================] - 1s 2ms/step - loss: 0.5581 - accuracy: 0.7646\n",
            "29/29 [==============================] - 0s 2ms/step - loss: 0.4843 - accuracy: 0.7703\n",
            "114/114 [==============================] - 1s 2ms/step - loss: 0.6926 - accuracy: 0.5889\n",
            "29/29 [==============================] - 0s 2ms/step - loss: 0.6113 - accuracy: 0.7505\n",
            "114/114 [==============================] - 1s 2ms/step - loss: 0.5092 - accuracy: 0.7504\n",
            "29/29 [==============================] - 0s 2ms/step - loss: 0.4770 - accuracy: 0.7679\n",
            "114/114 [==============================] - 1s 2ms/step - loss: 0.6298 - accuracy: 0.6718\n",
            "29/29 [==============================] - 0s 2ms/step - loss: 0.5069 - accuracy: 0.7932\n",
            "114/114 [==============================] - 1s 2ms/step - loss: 0.8933 - accuracy: 0.2466\n",
            "29/29 [==============================] - 0s 2ms/step - loss: 0.7776 - accuracy: 0.2420\n",
            "114/114 [==============================] - 1s 3ms/step - loss: 0.5139 - accuracy: 0.7792\n",
            "29/29 [==============================] - 0s 2ms/step - loss: 0.4432 - accuracy: 0.7978\n",
            "114/114 [==============================] - 1s 3ms/step - loss: 0.4063 - accuracy: 0.7927\n",
            "29/29 [==============================] - 0s 3ms/step - loss: 0.3803 - accuracy: 0.8088\n",
            "114/114 [==============================] - 1s 2ms/step - loss: 0.9394 - accuracy: 0.2496\n",
            "29/29 [==============================] - 0s 2ms/step - loss: 0.8181 - accuracy: 0.2321\n",
            "114/114 [==============================] - 1s 2ms/step - loss: 0.6481 - accuracy: 0.7183\n",
            "29/29 [==============================] - 0s 1ms/step - loss: 0.5734 - accuracy: 0.7624\n",
            "114/114 [==============================] - 1s 2ms/step - loss: 0.8502 - accuracy: 0.5682\n",
            "29/29 [==============================] - 0s 2ms/step - loss: 0.6054 - accuracy: 0.7767\n",
            "114/114 [==============================] - 1s 2ms/step - loss: 0.9194 - accuracy: 0.2433\n",
            "29/29 [==============================] - 0s 2ms/step - loss: 0.8024 - accuracy: 0.2571\n",
            "114/114 [==============================] - 1s 2ms/step - loss: 0.5538 - accuracy: 0.7578\n",
            "29/29 [==============================] - 0s 2ms/step - loss: 0.5757 - accuracy: 0.7385\n",
            "114/114 [==============================] - 1s 2ms/step - loss: 0.5177 - accuracy: 0.7820\n",
            "29/29 [==============================] - 0s 2ms/step - loss: 0.4524 - accuracy: 0.8284\n",
            "114/114 [==============================] - 1s 2ms/step - loss: 0.4680 - accuracy: 0.7556\n",
            "29/29 [==============================] - 0s 2ms/step - loss: 0.4184 - accuracy: 0.7822\n",
            "114/114 [==============================] - 1s 3ms/step - loss: 0.9029 - accuracy: 0.2405\n",
            "29/29 [==============================] - 0s 3ms/step - loss: 0.7526 - accuracy: 0.2420\n",
            "114/114 [==============================] - 1s 4ms/step - loss: 0.4814 - accuracy: 0.8699\n",
            "29/29 [==============================] - 0s 3ms/step - loss: 0.3936 - accuracy: 0.8945\n",
            "114/114 [==============================] - 1s 2ms/step - loss: 0.6394 - accuracy: 0.5790\n",
            "29/29 [==============================] - 0s 2ms/step - loss: 0.5426 - accuracy: 0.7648\n",
            "114/114 [==============================] - 2s 2ms/step - loss: 1.0641 - accuracy: 0.2488\n",
            "29/29 [==============================] - 0s 2ms/step - loss: 0.9436 - accuracy: 0.2321\n",
            "114/114 [==============================] - 1s 2ms/step - loss: 0.6403 - accuracy: 0.6410\n",
            "29/29 [==============================] - 0s 2ms/step - loss: 0.5518 - accuracy: 0.9098\n",
            "114/114 [==============================] - 1s 2ms/step - loss: 0.5555 - accuracy: 0.8953\n",
            "29/29 [==============================] - 0s 2ms/step - loss: 0.4729 - accuracy: 0.9153\n",
            "57/57 [==============================] - 1s 2ms/step - loss: 0.3492 - accuracy: 0.8952\n",
            "15/15 [==============================] - 0s 2ms/step - loss: 0.3022 - accuracy: 0.9275\n",
            "57/57 [==============================] - 1s 2ms/step - loss: 0.9793 - accuracy: 0.2037\n",
            "15/15 [==============================] - 0s 2ms/step - loss: 0.8840 - accuracy: 0.2451\n",
            "57/57 [==============================] - 1s 2ms/step - loss: 0.5150 - accuracy: 0.7543\n",
            "15/15 [==============================] - 0s 2ms/step - loss: 0.4666 - accuracy: 0.7932\n",
            "57/57 [==============================] - 1s 2ms/step - loss: 0.5793 - accuracy: 0.6614\n",
            "15/15 [==============================] - 0s 3ms/step - loss: 0.4226 - accuracy: 0.8746\n",
            "57/57 [==============================] - 1s 3ms/step - loss: 0.6486 - accuracy: 0.7284\n",
            "15/15 [==============================] - 0s 2ms/step - loss: 0.6010 - accuracy: 0.8119\n",
            "57/57 [==============================] - 1s 3ms/step - loss: 0.9931 - accuracy: 0.1936\n",
            "15/15 [==============================] - 0s 3ms/step - loss: 0.8773 - accuracy: 0.2077\n",
            "57/57 [==============================] - 1s 2ms/step - loss: 0.6767 - accuracy: 0.3976\n",
            "15/15 [==============================] - 0s 2ms/step - loss: 0.6197 - accuracy: 0.8846\n",
            "57/57 [==============================] - 1s 2ms/step - loss: 0.5823 - accuracy: 0.7504\n",
            "15/15 [==============================] - 0s 2ms/step - loss: 0.5586 - accuracy: 0.7679\n",
            "57/57 [==============================] - 1s 2ms/step - loss: 0.9408 - accuracy: 0.2482\n",
            "15/15 [==============================] - 0s 2ms/step - loss: 0.8846 - accuracy: 0.2376\n",
            "57/57 [==============================] - 1s 2ms/step - loss: 0.7134 - accuracy: 0.7529\n",
            "15/15 [==============================] - 0s 2ms/step - loss: 0.6658 - accuracy: 0.7580\n",
            "57/57 [==============================] - 1s 2ms/step - loss: 0.6557 - accuracy: 0.7641\n",
            "15/15 [==============================] - 0s 2ms/step - loss: 0.6417 - accuracy: 0.7571\n",
            "57/57 [==============================] - 1s 2ms/step - loss: 1.3217 - accuracy: 0.2422\n",
            "15/15 [==============================] - 0s 2ms/step - loss: 1.2077 - accuracy: 0.2615\n",
            "57/57 [==============================] - 1s 2ms/step - loss: 0.7895 - accuracy: 0.2510\n",
            "15/15 [==============================] - 0s 2ms/step - loss: 0.7439 - accuracy: 0.2343\n",
            "57/57 [==============================] - 1s 2ms/step - loss: 1.1413 - accuracy: 0.2435\n",
            "15/15 [==============================] - 0s 2ms/step - loss: 1.0758 - accuracy: 0.2343\n",
            "57/57 [==============================] - 1s 2ms/step - loss: 0.4253 - accuracy: 0.8428\n",
            "15/15 [==============================] - 0s 2ms/step - loss: 0.3125 - accuracy: 0.9076\n",
            "57/57 [==============================] - 1s 3ms/step - loss: 0.6760 - accuracy: 0.6384\n",
            "15/15 [==============================] - 0s 3ms/step - loss: 0.6375 - accuracy: 0.7703\n",
            "57/57 [==============================] - 2s 4ms/step - loss: 0.6294 - accuracy: 0.6357\n",
            "15/15 [==============================] - 0s 2ms/step - loss: 0.5520 - accuracy: 0.9099\n",
            "57/57 [==============================] - 1s 2ms/step - loss: 0.5730 - accuracy: 0.6204\n",
            "15/15 [==============================] - 0s 2ms/step - loss: 0.4571 - accuracy: 0.7745\n",
            "57/57 [==============================] - 1s 2ms/step - loss: 0.5047 - accuracy: 0.7518\n",
            "15/15 [==============================] - 0s 2ms/step - loss: 0.4790 - accuracy: 0.7624\n",
            "57/57 [==============================] - 1s 2ms/step - loss: 0.5844 - accuracy: 0.7529\n",
            "15/15 [==============================] - 0s 2ms/step - loss: 0.4868 - accuracy: 0.7580\n",
            "57/57 [==============================] - 1s 2ms/step - loss: 0.4610 - accuracy: 0.7580\n",
            "15/15 [==============================] - 0s 2ms/step - loss: 0.3889 - accuracy: 0.8275\n",
            "57/57 [==============================] - 1s 2ms/step - loss: 0.5401 - accuracy: 0.7578\n",
            "15/15 [==============================] - 0s 2ms/step - loss: 0.5487 - accuracy: 0.7385\n",
            "57/57 [==============================] - 1s 2ms/step - loss: 0.8403 - accuracy: 0.2496\n",
            "15/15 [==============================] - 0s 2ms/step - loss: 0.7849 - accuracy: 0.2321\n",
            "57/57 [==============================] - 1s 2ms/step - loss: 0.5430 - accuracy: 0.7518\n",
            "15/15 [==============================] - 0s 2ms/step - loss: 0.5141 - accuracy: 0.7624\n",
            "57/57 [==============================] - 1s 2ms/step - loss: 0.5594 - accuracy: 0.7529\n",
            "15/15 [==============================] - 0s 2ms/step - loss: 0.5534 - accuracy: 0.7580\n",
            "57/57 [==============================] - 1s 2ms/step - loss: 0.9962 - accuracy: 0.2433\n",
            "15/15 [==============================] - 0s 3ms/step - loss: 0.8243 - accuracy: 0.2571\n",
            "57/57 [==============================] - 1s 4ms/step - loss: 0.5397 - accuracy: 0.7927\n",
            "15/15 [==============================] - 0s 3ms/step - loss: 0.4826 - accuracy: 0.8121\n",
            "57/57 [==============================] - 1s 4ms/step - loss: 0.6344 - accuracy: 0.7507\n",
            "15/15 [==============================] - 0s 3ms/step - loss: 0.5330 - accuracy: 0.7690\n",
            "57/57 [==============================] - 1s 2ms/step - loss: 0.7508 - accuracy: 0.4516\n",
            "15/15 [==============================] - 0s 3ms/step - loss: 0.6709 - accuracy: 0.7415\n",
            "57/57 [==============================] - 1s 2ms/step - loss: 0.5635 - accuracy: 0.7529\n",
            "15/15 [==============================] - 0s 2ms/step - loss: 0.5465 - accuracy: 0.7580\n",
            "57/57 [==============================] - 1s 2ms/step - loss: 0.9009 - accuracy: 0.1784\n",
            "15/15 [==============================] - 0s 2ms/step - loss: 0.8220 - accuracy: 0.2231\n",
            "57/57 [==============================] - 1s 2ms/step - loss: 0.6636 - accuracy: 0.7578\n",
            "15/15 [==============================] - 0s 2ms/step - loss: 0.6633 - accuracy: 0.7385\n",
            "57/57 [==============================] - 1s 2ms/step - loss: 0.8017 - accuracy: 0.4530\n",
            "15/15 [==============================] - 0s 2ms/step - loss: 0.6127 - accuracy: 0.6799\n",
            "57/57 [==============================] - 1s 2ms/step - loss: 0.4752 - accuracy: 0.8013\n",
            "15/15 [==============================] - 0s 2ms/step - loss: 0.4176 - accuracy: 0.8438\n",
            "57/57 [==============================] - 2s 2ms/step - loss: 1.1305 - accuracy: 0.2474\n",
            "15/15 [==============================] - 0s 2ms/step - loss: 1.0548 - accuracy: 0.2420\n",
            "57/57 [==============================] - 1s 2ms/step - loss: 0.4415 - accuracy: 0.8851\n",
            "15/15 [==============================] - 0s 2ms/step - loss: 0.4062 - accuracy: 0.8967\n",
            "57/57 [==============================] - 1s 3ms/step - loss: 0.8029 - accuracy: 0.2136\n",
            "15/15 [==============================] - 0s 4ms/step - loss: 0.6830 - accuracy: 0.2308\n",
            "57/57 [==============================] - 2s 4ms/step - loss: 0.3513 - accuracy: 0.8686\n",
            "15/15 [==============================] - 0s 3ms/step - loss: 0.3083 - accuracy: 0.9142\n",
            "57/57 [==============================] - 1s 2ms/step - loss: 1.1082 - accuracy: 0.2482\n",
            "15/15 [==============================] - 0s 2ms/step - loss: 1.0351 - accuracy: 0.2376\n",
            "57/57 [==============================] - 1s 2ms/step - loss: 0.9694 - accuracy: 0.2721\n",
            "15/15 [==============================] - 0s 2ms/step - loss: 0.6574 - accuracy: 0.5886\n",
            "57/57 [==============================] - 1s 3ms/step - loss: 0.4385 - accuracy: 0.7600\n",
            "15/15 [==============================] - 0s 2ms/step - loss: 0.4134 - accuracy: 0.7879\n",
            "57/57 [==============================] - 1s 2ms/step - loss: 1.1423 - accuracy: 0.2422\n",
            "15/15 [==============================] - 0s 2ms/step - loss: 1.0060 - accuracy: 0.2615\n",
            "57/57 [==============================] - 1s 2ms/step - loss: 0.4389 - accuracy: 0.9008\n",
            "15/15 [==============================] - 0s 2ms/step - loss: 0.4144 - accuracy: 0.9043\n",
            "57/57 [==============================] - 1s 2ms/step - loss: 0.6178 - accuracy: 0.7521\n",
            "15/15 [==============================] - 0s 2ms/step - loss: 0.5480 - accuracy: 0.7679\n",
            "57/57 [==============================] - 1s 2ms/step - loss: 1.0988 - accuracy: 0.2471\n",
            "15/15 [==============================] - 0s 2ms/step - loss: 1.0226 - accuracy: 0.2420\n",
            "228/228 [==============================] - 1s 2ms/step - loss: 0.6454 - accuracy: 0.6752\n",
            "{'batch_size': 20, 'hidden_units': 4, 'learning_rate': 0.001}\n",
            "0.8865242600440979\n"
          ]
        }
      ]
    },
    {
      "cell_type": "code",
      "source": [
        "# Get the best parameters\n",
        "best_params = grid_search.best_params_\n",
        "\n",
        "# Create a new model with the best parameters\n",
        "best_model = create_model(hidden_units=best_params['hidden_units'], learning_rate=best_params['learning_rate'])\n",
        "\n",
        "# Train the best model on the entire training set\n",
        "best_model.fit(x_train, y_train, epochs=10, batch_size=best_params['batch_size'])\n",
        "\n",
        "# Evaluate the best model on the test set\n",
        "test_loss, test_accuracy = best_model.evaluate(x_test, y_test)\n",
        "\n",
        "# Print the test accuracy\n",
        "print(\"Test Accuracy:\", test_accuracy)\n"
      ],
      "metadata": {
        "colab": {
          "base_uri": "https://localhost:8080/"
        },
        "id": "VbESWLtGqcsy",
        "outputId": "917c700a-27db-42e0-98d4-c11a70636f1d"
      },
      "execution_count": 29,
      "outputs": [
        {
          "output_type": "stream",
          "name": "stdout",
          "text": [
            "Epoch 1/10\n",
            "228/228 [==============================] - 1s 3ms/step - loss: 0.7700 - accuracy: 0.4190\n",
            "Epoch 2/10\n",
            "228/228 [==============================] - 1s 3ms/step - loss: 0.4748 - accuracy: 0.8940\n",
            "Epoch 3/10\n",
            "228/228 [==============================] - 1s 3ms/step - loss: 0.3948 - accuracy: 0.7805\n",
            "Epoch 4/10\n",
            "228/228 [==============================] - 1s 3ms/step - loss: 0.3574 - accuracy: 0.9270\n",
            "Epoch 5/10\n",
            "228/228 [==============================] - 1s 4ms/step - loss: 0.3270 - accuracy: 0.9294\n",
            "Epoch 6/10\n",
            "228/228 [==============================] - 1s 4ms/step - loss: 0.3027 - accuracy: 0.9303\n",
            "Epoch 7/10\n",
            "228/228 [==============================] - 0s 2ms/step - loss: 0.2838 - accuracy: 0.9298\n",
            "Epoch 8/10\n",
            "228/228 [==============================] - 0s 2ms/step - loss: 0.2692 - accuracy: 0.9309\n",
            "Epoch 9/10\n",
            "228/228 [==============================] - 0s 2ms/step - loss: 0.2584 - accuracy: 0.9309\n",
            "Epoch 10/10\n",
            "228/228 [==============================] - 0s 2ms/step - loss: 0.2521 - accuracy: 0.9318\n",
            "61/61 [==============================] - 0s 2ms/step - loss: 0.2473 - accuracy: 0.9282\n",
            "Test Accuracy: 0.928205132484436\n"
          ]
        }
      ]
    },
    {
      "cell_type": "markdown",
      "source": [
        "#Evaluation Analysis"
      ],
      "metadata": {
        "id": "M1Ecooxr7S9t"
      }
    },
    {
      "cell_type": "markdown",
      "source": [
        "After performing the hyperparamter tunings, not only the result did not show improvements, the test accuracy score had in fact reduced. This is likely due to my lack of understanding on the tuning techniques. The following is a confusion matrix to evaluate the final model."
      ],
      "metadata": {
        "id": "WbTLQmyq8nby"
      }
    },
    {
      "cell_type": "code",
      "source": [
        "from sklearn.metrics import confusion_matrix\n",
        "\n",
        "# Predict the classes for the test set\n",
        "y_pred = best_model.predict(x_test)\n",
        "\n",
        "# Convert the predicted probabilities to class labels\n",
        "y_pred_classes = (y_pred > 0.5).astype(int)\n",
        "\n",
        "# Get the confusion matrix\n",
        "cm = confusion_matrix(y_test, y_pred_classes)\n",
        "print(\"Confusion Matrix:\")\n",
        "print(cm)\n"
      ],
      "metadata": {
        "colab": {
          "base_uri": "https://localhost:8080/"
        },
        "id": "vIlo5YbN7Wo0",
        "outputId": "825d8092-859d-43f8-e961-97cb8a2d4145"
      },
      "execution_count": 30,
      "outputs": [
        {
          "output_type": "stream",
          "name": "stdout",
          "text": [
            "61/61 [==============================] - 0s 1ms/step\n",
            "Confusion Matrix:\n",
            "[[1440   30]\n",
            " [ 110  370]]\n"
          ]
        }
      ]
    },
    {
      "cell_type": "code",
      "source": [
        "import numpy as np\n",
        "\n",
        "# Define the confusion matrix\n",
        "confusion_matrix = np.array([[1442, 28], [101, 379]])\n",
        "\n",
        "# Calculate the True Positives, True Negatives, False Positives, and False Negatives\n",
        "TP = confusion_matrix[1, 1]\n",
        "TN = confusion_matrix[0, 0]\n",
        "FP = confusion_matrix[0, 1]\n",
        "FN = confusion_matrix[1, 0]\n",
        "\n",
        "# Calculate accuracy\n",
        "accuracy = (TP + TN) / np.sum(confusion_matrix)\n",
        "\n",
        "# Calculate precision\n",
        "precision = TP / (TP + FP)\n",
        "\n",
        "# Calculate recall (also known as sensitivity or true positive rate)\n",
        "recall = TP / (TP + FN)\n",
        "\n",
        "# Calculate specificity (true negative rate)\n",
        "specificity = TN / (TN + FP)\n",
        "\n",
        "# Print the results\n",
        "print(\"Accuracy:\", accuracy)\n",
        "print(\"Precision:\", precision)\n",
        "print(\"Recall:\", recall)\n",
        "print(\"Specificity:\", specificity)\n"
      ],
      "metadata": {
        "colab": {
          "base_uri": "https://localhost:8080/"
        },
        "id": "kJQVEvXY-aDv",
        "outputId": "da33323f-6e11-4efd-fd64-0f995f7481c8"
      },
      "execution_count": 31,
      "outputs": [
        {
          "output_type": "stream",
          "name": "stdout",
          "text": [
            "Accuracy: 0.9338461538461539\n",
            "Precision: 0.9312039312039312\n",
            "Recall: 0.7895833333333333\n",
            "Specificity: 0.9809523809523809\n"
          ]
        }
      ]
    },
    {
      "cell_type": "markdown",
      "source": [
        "##Break down of the confusion matrix:\n",
        "\n",
        "True Positives (TP): 379.\\\n",
        "True Negatives (TN): 1442.\\\n",
        "False Positives (FP):28.\\\n",
        "False Negatives (FN): 101.\\\n",
        "Accuracy: 0.9338461538461539\\\n",
        "Precision: 0.9312039312039312\\\n",
        "Recall: 0.7895833333333333\\\n",
        "Specificity: 0.9809523809523809\\"
      ],
      "metadata": {
        "id": "mSeMxDaj8HR2"
      }
    }
  ]
}